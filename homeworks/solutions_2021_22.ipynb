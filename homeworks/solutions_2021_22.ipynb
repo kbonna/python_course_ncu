{
 "cells": [
  {
   "cell_type": "code",
   "execution_count": 1,
   "metadata": {},
   "outputs": [],
   "source": [
    "from test_functions import (test_higher, test_quadratic_solutions, \n",
    "                            test_full_price, test_max_weight, test_arithmetic,\n",
    "                            test_custom_sum)"
   ]
  },
  {
   "cell_type": "markdown",
   "metadata": {},
   "source": [
    "## Homework 1"
   ]
  },
  {
   "cell_type": "code",
   "execution_count": 2,
   "metadata": {},
   "outputs": [
    {
     "data": {
      "text/plain": [
       "1.0"
      ]
     },
     "execution_count": 2,
     "metadata": {},
     "output_type": "execute_result"
    }
   ],
   "source": [
    "def higher(a, b, c):\n",
    "    summ = a + b + c\n",
    "    product = a * b * c\n",
    "    if summ > product:\n",
    "        return summ\n",
    "    else:\n",
    "        return product\n",
    "    \n",
    "test_higher(higher)"
   ]
  },
  {
   "cell_type": "code",
   "execution_count": 3,
   "metadata": {},
   "outputs": [
    {
     "data": {
      "text/plain": [
       "1.0"
      ]
     },
     "execution_count": 3,
     "metadata": {},
     "output_type": "execute_result"
    }
   ],
   "source": [
    "def quadratic_solutions(a, b, c):\n",
    "    delta = b ** 2 - 4 * a * c\n",
    "    if delta > 0:\n",
    "        return 2\n",
    "    elif delta == 0:\n",
    "        return 1\n",
    "    else:\n",
    "        return 0\n",
    "\n",
    "test_quadratic_solutions(quadratic_solutions)"
   ]
  },
  {
   "cell_type": "markdown",
   "metadata": {},
   "source": [
    "## Homework 2"
   ]
  },
  {
   "cell_type": "code",
   "execution_count": 4,
   "metadata": {},
   "outputs": [
    {
     "data": {
      "text/plain": [
       "1.0"
      ]
     },
     "execution_count": 4,
     "metadata": {},
     "output_type": "execute_result"
    }
   ],
   "source": [
    "def full_price(price, tax=0.1):\n",
    "    if price < 100: \n",
    "        return price\n",
    "    else:\n",
    "        return price * (1 + tax)\n",
    "    \n",
    "test_full_price(full_price)"
   ]
  },
  {
   "cell_type": "code",
   "execution_count": 5,
   "metadata": {},
   "outputs": [
    {
     "data": {
      "text/plain": [
       "1.0"
      ]
     },
     "execution_count": 5,
     "metadata": {},
     "output_type": "execute_result"
    }
   ],
   "source": [
    "def max_weight(heigth_in_cm):\n",
    "    if heigth_in_cm <= 0:\n",
    "        raise ValueError\n",
    "    return 25 * (heigth_in_cm / 100) ** 2\n",
    "\n",
    "test_max_weight(max_weight)"
   ]
  },
  {
   "cell_type": "markdown",
   "metadata": {},
   "source": [
    "## Homework 3"
   ]
  },
  {
   "cell_type": "code",
   "execution_count": 6,
   "metadata": {},
   "outputs": [
    {
     "data": {
      "text/plain": [
       "1.0"
      ]
     },
     "execution_count": 6,
     "metadata": {},
     "output_type": "execute_result"
    }
   ],
   "source": [
    "def arithmetic(a_1, d, n):\n",
    "    return (2 * a_1 + (n - 1) * d) * n / 2\n",
    "    \n",
    "test_arithmetic(arithmetic)"
   ]
  },
  {
   "cell_type": "code",
   "execution_count": 7,
   "metadata": {},
   "outputs": [
    {
     "data": {
      "text/plain": [
       "1.0"
      ]
     },
     "execution_count": 7,
     "metadata": {},
     "output_type": "execute_result"
    }
   ],
   "source": [
    "def custom_sum(n, odd=False):\n",
    "    if odd:\n",
    "        modulo = 1\n",
    "    else:\n",
    "        modulo = 0\n",
    "    s = 0\n",
    "    for i in range(n + 1):\n",
    "         if i % 2 == modulo:\n",
    "                s += i\n",
    "    return s\n",
    "\n",
    "test_custom_sum(custom_sum)"
   ]
  }
 ],
 "metadata": {
  "kernelspec": {
   "display_name": "Python 3",
   "language": "python",
   "name": "python3"
  },
  "language_info": {
   "codemirror_mode": {
    "name": "ipython",
    "version": 3
   },
   "file_extension": ".py",
   "mimetype": "text/x-python",
   "name": "python",
   "nbconvert_exporter": "python",
   "pygments_lexer": "ipython3",
   "version": "3.8.3"
  }
 },
 "nbformat": 4,
 "nbformat_minor": 4
}

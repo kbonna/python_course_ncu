{
 "cells": [
  {
   "cell_type": "markdown",
   "metadata": {},
   "source": [
    "## 1.1."
   ]
  },
  {
   "cell_type": "code",
   "execution_count": 1,
   "metadata": {},
   "outputs": [
    {
     "name": "stdout",
     "output_type": "stream",
     "text": [
      "#######\n",
      "#     #\n",
      "#     #\n",
      "#     #\n",
      "#     #\n",
      "#     #\n",
      "#     #\n",
      "#     #\n",
      "#     #\n",
      "#######\n"
     ]
    }
   ],
   "source": [
    "width = 7\n",
    "height = 10\n",
    "\n",
    "for i in range(height):\n",
    "    if i == 0 or i == height-1 or width <= 2:\n",
    "        print('#' * width)\n",
    "    else:\n",
    "        print('#' + ' ' * (width - 2)  + '#')"
   ]
  },
  {
   "cell_type": "markdown",
   "metadata": {},
   "source": [
    "## 1.2."
   ]
  },
  {
   "cell_type": "code",
   "execution_count": 2,
   "metadata": {},
   "outputs": [
    {
     "name": "stdout",
     "output_type": "stream",
     "text": [
      "s = 338350\n"
     ]
    }
   ],
   "source": [
    "n_max = 10_000\n",
    "i = 1\n",
    "s = 0\n",
    "\n",
    "while i ** 2 <= n_max:\n",
    "    s += i ** 2\n",
    "    i += 1\n",
    "    \n",
    "print('s = ' + str(s))"
   ]
  },
  {
   "cell_type": "markdown",
   "metadata": {},
   "source": [
    "## 1.3."
   ]
  },
  {
   "cell_type": "code",
   "execution_count": 3,
   "metadata": {},
   "outputs": [
    {
     "name": "stdin",
     "output_type": "stream",
     "text": [
      "Are you employed? (Y/N) Y\n",
      "Are you on vacation? (Y/N) y\n"
     ]
    },
    {
     "name": "stdout",
     "output_type": "stream",
     "text": [
      "Invalid input\n"
     ]
    },
    {
     "name": "stdin",
     "output_type": "stream",
     "text": [
      "Are you on vacation? (Y/N) Y\n"
     ]
    },
    {
     "name": "stdout",
     "output_type": "stream",
     "text": [
      "False\n"
     ]
    }
   ],
   "source": [
    "while True:\n",
    "    employed = input('Are you employed? (Y/N)')\n",
    "    if employed == 'Y':\n",
    "        employed = True\n",
    "        break\n",
    "    if employed == 'N':\n",
    "        employed = False\n",
    "        break\n",
    "    print('Invalid input')\n",
    "    \n",
    "while True:\n",
    "    vacation = input('Are you on vacation? (Y/N)')\n",
    "    if vacation == 'Y':\n",
    "        vacation = True\n",
    "        break\n",
    "    if vacation == 'N':\n",
    "        vacation = False\n",
    "        break\n",
    "    print('Invalid input')\n",
    "    \n",
    "print(employed and not vacation)"
   ]
  }
 ],
 "metadata": {
  "kernelspec": {
   "display_name": "Python 3",
   "language": "python",
   "name": "python3"
  },
  "language_info": {
   "codemirror_mode": {
    "name": "ipython",
    "version": 3
   },
   "file_extension": ".py",
   "mimetype": "text/x-python",
   "name": "python",
   "nbconvert_exporter": "python",
   "pygments_lexer": "ipython3",
   "version": "3.8.3"
  }
 },
 "nbformat": 4,
 "nbformat_minor": 4
}

{
 "cells": [
  {
   "cell_type": "code",
   "execution_count": null,
   "metadata": {},
   "outputs": [],
   "source": [
    "import inspect\n",
    "import itertools\n",
    "import os\n",
    "import shutil\n",
    "import sys\n",
    "import zipfile\n",
    "\n",
    "import matplotlib.pyplot as plt\n",
    "import numpy as np\n",
    "import pandas as pd\n",
    "import pycode_similar\n",
    "import textdistance\n",
    "from IPython.display import clear_output\n",
    "from mpl_toolkits.axes_grid1 import make_axes_locatable\n",
    "from test_functions import *\n",
    "\n",
    "%matplotlib inline"
   ]
  },
  {
   "cell_type": "code",
   "execution_count": null,
   "metadata": {},
   "outputs": [],
   "source": [
    "def similar(f1, f2):\n",
    "    f1_code = inspect.getsource(f1)\n",
    "    f2_code = inspect.getsource(f2)\n",
    "    return textdistance.levenshtein(f1_code, f2_code)\n",
    "\n",
    "def plot_similarity(arr, indices, thr, title='Code similarity'):\n",
    "    fig, ax = plt.subplots(figsize=(13, 13))\n",
    "    im = ax.imshow(arr, cmap='hot')\n",
    "\n",
    "    ax.set_title(title, fontsize=15)\n",
    "    ax.set_xticks(np.arange(len(indices)))\n",
    "    ax.set_yticks(np.arange(len(indices)))\n",
    "    ax.set_yticklabels(indices)\n",
    "    ax.set_xticklabels(indices, rotation=45)\n",
    "\n",
    "    divider = make_axes_locatable(ax)\n",
    "    cax = divider.append_axes('right', size='5%', pad=0.1)\n",
    "    plt.colorbar(im, cax)\n",
    "\n",
    "    for i, j in itertools.product(range(len(indices)), repeat=2):\n",
    "        if j > i and arr[i, j] < thr:\n",
    "            ax.text(j, i, '?', color='w', fontsize=20, ha='center', va='center')\n",
    "            ax.axvline(j, color='k', linestyle=':', alpha=.75)\n",
    "            ax.axhline(i, color='k', linestyle=':', alpha=.75)"
   ]
  },
  {
   "cell_type": "code",
   "execution_count": null,
   "metadata": {},
   "outputs": [],
   "source": [
    "exercises = ['3_1', '3_2']\n",
    "func_names = ['coins', 'decipher']\n",
    "tests = {'coins': test_coins, 'decipher': test_decipher}\n",
    "path_in = 'students/h3'\n",
    "\n",
    "# exercises = ['4_1', '4_2']\n",
    "# func_names = ['moving_average', 'dragon']\n",
    "# tests = {'moving_average': test_moving_average, 'dragon': test_dragon}\n",
    "# path_in = 'students/h4'\n",
    "\n",
    "# exercises = ['5_1', '5_2']\n",
    "# func_names = ['only_homogenous', 'who_win']\n",
    "# tests = {'only_homogenous': test_only_homogenous, 'who_win': test_who_win}\n",
    "# path_in = 'students/h5'"
   ]
  },
  {
   "cell_type": "code",
   "execution_count": null,
   "metadata": {},
   "outputs": [],
   "source": [
    "# Reset output directory\n",
    "path_out = os.path.join(path_in, 'unpacked')\n",
    "if os.path.exists(path_out):\n",
    "    shutil.rmtree(path_out)\n",
    "    os.mkdir(path_out)\n",
    "\n",
    "for file in os.listdir(path_in):\n",
    "    if file.endswith('zip'):\n",
    "        \n",
    "        zip_fpath = os.path.join(path_in, file)\n",
    "        index = file[:6]\n",
    "        \n",
    "        with zipfile.ZipFile(zip_fpath, 'r') as zip_obj:\n",
    "            files = zip_obj.namelist()\n",
    "            if not any(f'{index}/{e}.py' in files for e in exercises):\n",
    "                print(file, f'zero correct files found...', files)\n",
    "                zip_obj.extractall(os.path.join(path_out, index + '_fix'))     \n",
    "            else:\n",
    "                zip_obj.extractall(path_out)"
   ]
  },
  {
   "cell_type": "code",
   "execution_count": null,
   "metadata": {},
   "outputs": [],
   "source": [
    "path_clean = os.path.join(path_in, 'clean')\n",
    "\n",
    "functions = {}\n",
    "errors = []\n",
    "\n",
    "for index in os.listdir(path_clean):\n",
    "    \n",
    "    functions[index] = {}\n",
    "    \n",
    "    sys.path.insert(0, os.path.join(os.getcwd(), path_clean, index))\n",
    "    \n",
    "    for exercise, func_name in zip(exercises, func_names):\n",
    "        try:\n",
    "            imp = __import__(exercise)\n",
    "            functions[index][func_name] = imp.__dict__[func_name]\n",
    "        except Exception as err:\n",
    "            msg = f'error for index {index} and exercise {exercise}: {err}'\n",
    "            errors.append(msg)\n",
    "        finally:\n",
    "            try:\n",
    "                del sys.modules[exercise]\n",
    "                del imp\n",
    "            except:\n",
    "                pass\n",
    "    sys.path.pop(0)\n",
    "    \n",
    "clear_output()\n",
    "for error in errors:\n",
    "    print(error)"
   ]
  },
  {
   "cell_type": "code",
   "execution_count": null,
   "metadata": {},
   "outputs": [],
   "source": [
    "results = {}\n",
    "for index, fn_dict in functions.items():\n",
    "    results[index] = []\n",
    "    for fn_name in func_names:\n",
    "        score = tests[fn_name](fn_dict.get(fn_name, None))\n",
    "        results[index].append(score)\n",
    "\n",
    "clear_output()\n",
    "\n",
    "df = pd.DataFrame.from_dict(results, orient='index', columns=func_names)\n",
    "df['total'] = df.loc[:, func_names].sum(axis=1)\n",
    "df['total_round'] = round(df['total'] / len(func_names) * 4) / 4\n",
    "df"
   ]
  },
  {
   "cell_type": "code",
   "execution_count": null,
   "metadata": {},
   "outputs": [],
   "source": [
    "similarity = {}\n",
    "for func_name in func_names:\n",
    "    similarity[func_name] = np.full((len(functions), len(functions)), np.nan)\n",
    "\n",
    "indices = list(functions.keys())\n",
    "for i, j in itertools.product(range(len(indices)), repeat=2):\n",
    "    if j >= i:\n",
    "        for func_name in func_names:\n",
    "            fi = functions[indices[i]].get(func_name)\n",
    "            fj = functions[indices[j]].get(func_name)\n",
    "            if fi is not None and fj is not None:\n",
    "                similarity[func_name][i, j] = similar(fi, fj)"
   ]
  },
  {
   "cell_type": "code",
   "execution_count": null,
   "metadata": {},
   "outputs": [],
   "source": [
    "for func_name in func_names:\n",
    "    plot_similarity(similarity[func_name], indices, 100,\n",
    "                    title=f'Code similarity: \"{func_name}\"')"
   ]
  }
 ],
 "metadata": {
  "kernelspec": {
   "display_name": "Python 3",
   "language": "python",
   "name": "python3"
  },
  "language_info": {
   "codemirror_mode": {
    "name": "ipython",
    "version": 3
   },
   "file_extension": ".py",
   "mimetype": "text/x-python",
   "name": "python",
   "nbconvert_exporter": "python",
   "pygments_lexer": "ipython3",
   "version": "3.8.3"
  }
 },
 "nbformat": 4,
 "nbformat_minor": 4
}

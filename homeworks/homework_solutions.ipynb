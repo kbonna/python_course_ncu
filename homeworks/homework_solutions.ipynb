{
 "cells": [
  {
   "cell_type": "markdown",
   "metadata": {},
   "source": [
    "## 1.1."
   ]
  },
  {
   "cell_type": "code",
   "execution_count": 1,
   "metadata": {},
   "outputs": [
    {
     "name": "stdout",
     "output_type": "stream",
     "text": [
      "#######\n",
      "#     #\n",
      "#     #\n",
      "#     #\n",
      "#     #\n",
      "#     #\n",
      "#     #\n",
      "#     #\n",
      "#     #\n",
      "#######\n"
     ]
    }
   ],
   "source": [
    "width = 7\n",
    "height = 10\n",
    "\n",
    "for i in range(height):\n",
    "    if i == 0 or i == height-1 or width <= 2:\n",
    "        print('#' * width)\n",
    "    else:\n",
    "        print('#' + ' ' * (width - 2)  + '#')"
   ]
  },
  {
   "cell_type": "markdown",
   "metadata": {},
   "source": [
    "## 1.2."
   ]
  },
  {
   "cell_type": "code",
   "execution_count": 2,
   "metadata": {},
   "outputs": [
    {
     "name": "stdout",
     "output_type": "stream",
     "text": [
      "s = 338350\n"
     ]
    }
   ],
   "source": [
    "n_max = 10_000\n",
    "i = 1\n",
    "s = 0\n",
    "\n",
    "while i ** 2 <= n_max:\n",
    "    s += i ** 2\n",
    "    i += 1\n",
    "    \n",
    "print('s = ' + str(s))"
   ]
  },
  {
   "cell_type": "markdown",
   "metadata": {},
   "source": [
    "## 1.3."
   ]
  },
  {
   "cell_type": "code",
   "execution_count": 3,
   "metadata": {},
   "outputs": [
    {
     "name": "stdin",
     "output_type": "stream",
     "text": [
      "Are you employed? (Y/N) Y\n",
      "Are you on vacation? (Y/N) y\n"
     ]
    },
    {
     "name": "stdout",
     "output_type": "stream",
     "text": [
      "Invalid input\n"
     ]
    },
    {
     "name": "stdin",
     "output_type": "stream",
     "text": [
      "Are you on vacation? (Y/N) Y\n"
     ]
    },
    {
     "name": "stdout",
     "output_type": "stream",
     "text": [
      "False\n"
     ]
    }
   ],
   "source": [
    "while True:\n",
    "    employed = input('Are you employed? (Y/N)')\n",
    "    if employed == 'Y':\n",
    "        employed = True\n",
    "        break\n",
    "    if employed == 'N':\n",
    "        employed = False\n",
    "        break\n",
    "    print('Invalid input')\n",
    "    \n",
    "while True:\n",
    "    vacation = input('Are you on vacation? (Y/N)')\n",
    "    if vacation == 'Y':\n",
    "        vacation = True\n",
    "        break\n",
    "    if vacation == 'N':\n",
    "        vacation = False\n",
    "        break\n",
    "    print('Invalid input')\n",
    "    \n",
    "print(employed and not vacation)"
   ]
  },
  {
   "cell_type": "markdown",
   "metadata": {},
   "source": [
    "## 2.1."
   ]
  },
  {
   "cell_type": "code",
   "execution_count": 4,
   "metadata": {},
   "outputs": [
    {
     "name": "stdout",
     "output_type": "stream",
     "text": [
      "Calculating cos(1.0471975511965976) as Taylor expansion...\n",
      "\n",
      "Value for k=0 is +1.0000 (current sum is 1.0000)\n",
      "Value for k=1 is -0.5483 (current sum is 0.4517)\n",
      "Value for k=2 is +0.0501 (current sum is 0.5018)\n",
      "Value for k=3 is -0.0018 (current sum is 0.5000)\n",
      "Value for k=4 is +0.0000 (current sum is 0.5000)\n"
     ]
    }
   ],
   "source": [
    "from math import factorial, pi\n",
    "\n",
    "x = pi / 3\n",
    "s = 0\n",
    "\n",
    "print(f'Calculating cos({x}) as Taylor expansion...\\n')\n",
    "for k in range(5):\n",
    "    term = (-1) ** k * x ** (2 * k) / factorial(2 * k)\n",
    "    s += term\n",
    "    print(f'Value for k={k} is {term:+.4f} (current sum is {s:.4f})')"
   ]
  },
  {
   "cell_type": "markdown",
   "metadata": {},
   "source": [
    "## 2.2."
   ]
  },
  {
   "cell_type": "code",
   "execution_count": 5,
   "metadata": {},
   "outputs": [
    {
     "name": "stdout",
     "output_type": "stream",
     "text": [
      "One solution found x=5.000\n"
     ]
    }
   ],
   "source": [
    "#coefficients.py\n",
    "a = 1\n",
    "b = -10\n",
    "c = 25\n",
    "\n",
    "#quadratic.py\n",
    "from math import sqrt\n",
    "# from coefficients import a, b, c <- uncomment if not using notebook\n",
    "\n",
    "delta = b ** 2 - 4 * a * c\n",
    "\n",
    "if delta < 0:\n",
    "    print('No solutions found')\n",
    "elif delta == 0:\n",
    "    x = (-b - sqrt(delta)) / 2 * a\n",
    "    print(f'One solution found x={x:.3f}')\n",
    "else: \n",
    "    x1 = (-b - sqrt(delta)) / 2 * a\n",
    "    x2 = (-b + sqrt(delta)) / 2 * a\n",
    "    print(f'Two solutions found x={x1:.3f} and x={x2:.3f}')"
   ]
  },
  {
   "cell_type": "markdown",
   "metadata": {},
   "source": [
    "## 2.3."
   ]
  },
  {
   "cell_type": "code",
   "execution_count": 6,
   "metadata": {},
   "outputs": [
    {
     "name": "stdout",
     "output_type": "stream",
     "text": [
      "p.r.g.r.m.m.n.g.\n"
     ]
    }
   ],
   "source": [
    "# input_string = input('Pass a string') <- uncomment in real solution\n",
    "input_string = 'Programming'\n",
    "\n",
    "vowels = 'aoyeui'\n",
    "\n",
    "new_string = ''\n",
    "for character in input_string.lower():\n",
    "    if character not in vowels:\n",
    "        new_string += f'{character}.'\n",
    "\n",
    "print(new_string)"
   ]
  },
  {
   "cell_type": "markdown",
   "metadata": {},
   "source": [
    "## 3.1."
   ]
  },
  {
   "cell_type": "code",
   "execution_count": null,
   "metadata": {},
   "outputs": [],
   "source": []
  }
 ],
 "metadata": {
  "kernelspec": {
   "display_name": "Python 3",
   "language": "python",
   "name": "python3"
  },
  "language_info": {
   "codemirror_mode": {
    "name": "ipython",
    "version": 3
   },
   "file_extension": ".py",
   "mimetype": "text/x-python",
   "name": "python",
   "nbconvert_exporter": "python",
   "pygments_lexer": "ipython3",
   "version": "3.8.3"
  }
 },
 "nbformat": 4,
 "nbformat_minor": 4
}

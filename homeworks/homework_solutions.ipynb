{
 "cells": [
  {
   "cell_type": "code",
   "execution_count": 1,
   "metadata": {},
   "outputs": [],
   "source": [
    "from test_functions import (test_dragon, test_moving_average, \n",
    "                            test_only_homogenous, test_who_win)"
   ]
  },
  {
   "cell_type": "markdown",
   "metadata": {},
   "source": [
    "## 1.1."
   ]
  },
  {
   "cell_type": "code",
   "execution_count": 2,
   "metadata": {},
   "outputs": [
    {
     "name": "stdout",
     "output_type": "stream",
     "text": [
      "#######\n",
      "#     #\n",
      "#     #\n",
      "#     #\n",
      "#     #\n",
      "#     #\n",
      "#     #\n",
      "#     #\n",
      "#     #\n",
      "#######\n"
     ]
    }
   ],
   "source": [
    "width = 7\n",
    "height = 10\n",
    "\n",
    "for i in range(height):\n",
    "    if i == 0 or i == height-1 or width <= 2:\n",
    "        print('#' * width)\n",
    "    else:\n",
    "        print('#' + ' ' * (width - 2)  + '#')"
   ]
  },
  {
   "cell_type": "markdown",
   "metadata": {},
   "source": [
    "## 1.2."
   ]
  },
  {
   "cell_type": "code",
   "execution_count": 3,
   "metadata": {},
   "outputs": [
    {
     "name": "stdout",
     "output_type": "stream",
     "text": [
      "s = 338350\n"
     ]
    }
   ],
   "source": [
    "n_max = 10_000\n",
    "i = 1\n",
    "s = 0\n",
    "\n",
    "while i ** 2 <= n_max:\n",
    "    s += i ** 2\n",
    "    i += 1\n",
    "    \n",
    "print('s = ' + str(s))"
   ]
  },
  {
   "cell_type": "markdown",
   "metadata": {},
   "source": [
    "## 1.3."
   ]
  },
  {
   "cell_type": "code",
   "execution_count": 4,
   "metadata": {},
   "outputs": [
    {
     "name": "stdin",
     "output_type": "stream",
     "text": [
      "Are you employed? (Y/N) Y\n",
      "Are you on vacation? (Y/N) Y\n"
     ]
    },
    {
     "name": "stdout",
     "output_type": "stream",
     "text": [
      "False\n"
     ]
    }
   ],
   "source": [
    "while True:\n",
    "    employed = input('Are you employed? (Y/N)')\n",
    "    if employed == 'Y':\n",
    "        employed = True\n",
    "        break\n",
    "    if employed == 'N':\n",
    "        employed = False\n",
    "        break\n",
    "    print('Invalid input')\n",
    "    \n",
    "while True:\n",
    "    vacation = input('Are you on vacation? (Y/N)')\n",
    "    if vacation == 'Y':\n",
    "        vacation = True\n",
    "        break\n",
    "    if vacation == 'N':\n",
    "        vacation = False\n",
    "        break\n",
    "    print('Invalid input')\n",
    "    \n",
    "print(employed and not vacation)"
   ]
  },
  {
   "cell_type": "markdown",
   "metadata": {},
   "source": [
    "## 2.1."
   ]
  },
  {
   "cell_type": "code",
   "execution_count": 5,
   "metadata": {},
   "outputs": [
    {
     "name": "stdout",
     "output_type": "stream",
     "text": [
      "Calculating cos(1.0471975511965976) as Taylor expansion...\n",
      "\n",
      "Value for k=0 is +1.0000 (current sum is 1.0000)\n",
      "Value for k=1 is -0.5483 (current sum is 0.4517)\n",
      "Value for k=2 is +0.0501 (current sum is 0.5018)\n",
      "Value for k=3 is -0.0018 (current sum is 0.5000)\n",
      "Value for k=4 is +0.0000 (current sum is 0.5000)\n"
     ]
    }
   ],
   "source": [
    "from math import factorial, pi\n",
    "\n",
    "x = pi / 3\n",
    "s = 0\n",
    "\n",
    "print(f'Calculating cos({x}) as Taylor expansion...\\n')\n",
    "for k in range(5):\n",
    "    term = (-1) ** k * x ** (2 * k) / factorial(2 * k)\n",
    "    s += term\n",
    "    print(f'Value for k={k} is {term:+.4f} (current sum is {s:.4f})')"
   ]
  },
  {
   "cell_type": "markdown",
   "metadata": {},
   "source": [
    "## 2.2."
   ]
  },
  {
   "cell_type": "code",
   "execution_count": 6,
   "metadata": {},
   "outputs": [
    {
     "name": "stdout",
     "output_type": "stream",
     "text": [
      "One solution found x=5.000\n"
     ]
    }
   ],
   "source": [
    "#coefficients.py\n",
    "a = 1\n",
    "b = -10\n",
    "c = 25\n",
    "\n",
    "#quadratic.py\n",
    "from math import sqrt\n",
    "# from coefficients import a, b, c <- uncomment if not using notebook\n",
    "\n",
    "delta = b ** 2 - 4 * a * c\n",
    "\n",
    "if delta < 0:\n",
    "    print('No solutions found')\n",
    "elif delta == 0:\n",
    "    x = (-b - sqrt(delta)) / 2 * a\n",
    "    print(f'One solution found x={x:.3f}')\n",
    "else: \n",
    "    x1 = (-b - sqrt(delta)) / 2 * a\n",
    "    x2 = (-b + sqrt(delta)) / 2 * a\n",
    "    print(f'Two solutions found x={x1:.3f} and x={x2:.3f}')"
   ]
  },
  {
   "cell_type": "markdown",
   "metadata": {},
   "source": [
    "## 2.3."
   ]
  },
  {
   "cell_type": "code",
   "execution_count": 7,
   "metadata": {},
   "outputs": [
    {
     "name": "stdout",
     "output_type": "stream",
     "text": [
      "p.r.g.r.m.m.n.g.\n"
     ]
    }
   ],
   "source": [
    "# input_string = input('Pass a string') <- uncomment in real solution\n",
    "input_string = 'Programming'\n",
    "\n",
    "vowels = 'aoyeui'\n",
    "\n",
    "new_string = ''\n",
    "for character in input_string.lower():\n",
    "    if character not in vowels:\n",
    "        new_string += f'{character}.'\n",
    "\n",
    "print(new_string)"
   ]
  },
  {
   "cell_type": "markdown",
   "metadata": {},
   "source": [
    "## 3.1."
   ]
  },
  {
   "cell_type": "code",
   "execution_count": 8,
   "metadata": {},
   "outputs": [
    {
     "data": {
      "text/plain": [
       "[1, 0, 1, 1, 0, 1]"
      ]
     },
     "execution_count": 8,
     "metadata": {},
     "output_type": "execute_result"
    }
   ],
   "source": [
    "def coins(value):\n",
    "    nominals = [50, 20, 10, 5, 2, 1]\n",
    "    n_coins = [0, 0, 0, 0, 0, 0]\n",
    "    left = value\n",
    "\n",
    "    for i in range(len(nominals)):\n",
    "        n_coins[i] = left // nominals[i]\n",
    "        left -= n_coins[i] * nominals[i]\n",
    "\n",
    "    return n_coins\n",
    "\n",
    "coins(66)"
   ]
  },
  {
   "cell_type": "markdown",
   "metadata": {},
   "source": [
    "## 3.2."
   ]
  },
  {
   "cell_type": "code",
   "execution_count": 9,
   "metadata": {},
   "outputs": [
    {
     "name": "stdout",
     "output_type": "stream",
     "text": [
      "True\n",
      "False\n",
      "False\n",
      "False\n",
      "False\n"
     ]
    }
   ],
   "source": [
    "def decipher(secret_string):\n",
    "    if 'c' not in secret_string:\n",
    "        return False\n",
    "    \n",
    "    c_index = secret_string.index('c')\n",
    "    \n",
    "    if len(secret_string) <= c_index + 2:\n",
    "        return False\n",
    "\n",
    "    return secret_string[c_index + 1: c_index + 3] == '01'\n",
    "\n",
    "print(decipher('qweqw34%c013fewca')) \n",
    "print(decipher('qceqw34%c013fewca')) \n",
    "print(decipher('sdwe6t544^d&fda65')) \n",
    "print(decipher(''))\n",
    "print(decipher('c1'))"
   ]
  },
  {
   "cell_type": "markdown",
   "metadata": {},
   "source": [
    "## 4.1."
   ]
  },
  {
   "cell_type": "code",
   "execution_count": 10,
   "metadata": {},
   "outputs": [
    {
     "data": {
      "text/plain": [
       "1.0"
      ]
     },
     "execution_count": 10,
     "metadata": {},
     "output_type": "execute_result"
    }
   ],
   "source": [
    "def moving_average(array, n):\n",
    "    if n > len(array):\n",
    "        return\n",
    "    \n",
    "    average = []\n",
    "    for i in range(0, len(array) - n + 1):\n",
    "        average.append(sum(array[i:i+n]) / n)\n",
    "    return average\n",
    "\n",
    "test_moving_average(moving_average)"
   ]
  },
  {
   "cell_type": "markdown",
   "metadata": {},
   "source": [
    "## 4.2."
   ]
  },
  {
   "cell_type": "code",
   "execution_count": 11,
   "metadata": {},
   "outputs": [
    {
     "data": {
      "text/plain": [
       "1.0"
      ]
     },
     "execution_count": 11,
     "metadata": {},
     "output_type": "execute_result"
    }
   ],
   "source": [
    "def dragon(n):\n",
    "    a_replace = 'aRbFR'\n",
    "    b_replace = 'LFaLb'\n",
    "    s = 'Fa'\n",
    "    for _ in range(n):\n",
    "        s = s.replace('b', 'x').replace('a', a_replace).replace('x', b_replace)\n",
    "    return s.replace('a', '').replace('b', '')\n",
    "\n",
    "test_dragon(dragon)"
   ]
  },
  {
   "cell_type": "markdown",
   "metadata": {},
   "source": [
    "## 5.1."
   ]
  },
  {
   "cell_type": "code",
   "execution_count": 12,
   "metadata": {},
   "outputs": [
    {
     "data": {
      "text/plain": [
       "1.0"
      ]
     },
     "execution_count": 12,
     "metadata": {},
     "output_type": "execute_result"
    }
   ],
   "source": [
    "def only_homogenous(array):\n",
    "    '''Standard solution using only loops and list operations.'''\n",
    "    filtered_array = []\n",
    "    for subarray in array:\n",
    "        if len(subarray) == 0:\n",
    "            continue\n",
    "        else:            \n",
    "            first_type = type(subarray[0])\n",
    "            is_homog = True\n",
    "            for item in subarray[1:]:\n",
    "                if type(item) != first_type:\n",
    "                    is_homog = False\n",
    "                    break\n",
    "            if is_homog:\n",
    "                filtered_array.append(subarray)\n",
    "    return filtered_array\n",
    "\n",
    "def only_homogenous(array):\n",
    "    '''More compact solution using sets and list comprehension.'''\n",
    "    filtered_array = []\n",
    "    for subarray in array:\n",
    "        if len(set([type(item) for item in subarray])) == 1:\n",
    "            filtered_array.append(subarray)\n",
    "    return filtered_array\n",
    "\n",
    "def only_homogenous(array):\n",
    "    '''One liner using filter and lambda functions.'''\n",
    "    return list(filter(lambda l: len(set([type(i) for i in l])) == 1, array))        \n",
    "\n",
    "test_only_homogenous(only_homogenous)"
   ]
  },
  {
   "cell_type": "markdown",
   "metadata": {},
   "source": [
    "## 5.2."
   ]
  },
  {
   "cell_type": "code",
   "execution_count": 13,
   "metadata": {},
   "outputs": [
    {
     "data": {
      "text/plain": [
       "1.0"
      ]
     },
     "execution_count": 13,
     "metadata": {},
     "output_type": "execute_result"
    }
   ],
   "source": [
    "def who_win(array):\n",
    "    \n",
    "    # Check rows\n",
    "    for row in array:\n",
    "        row_str = ''.join(row) \n",
    "        if  row_str == 'xxx':\n",
    "            return 'x'\n",
    "        elif row_str == 'ooo':\n",
    "            return 'o'\n",
    "    \n",
    "    # Check columns\n",
    "    for i in range(3):\n",
    "        col_str = ''.join([array[0][i], array[1][i], array[2][i]])\n",
    "        if  col_str == 'xxx':\n",
    "            return 'x'\n",
    "        elif col_str == 'ooo':\n",
    "            return 'o'\n",
    "    \n",
    "    # Check diagonals\n",
    "    diag_str_1 = ''.join([array[0][0], array[1][1], array[2][2]])\n",
    "    diag_str_2 = ''.join([array[0][2], array[1][1], array[2][0]])\n",
    "    for diag_str in [diag_str_1, diag_str_2]:\n",
    "        if diag_str == 'xxx':\n",
    "            return 'x'\n",
    "        elif diag_str == 'ooo':\n",
    "            return 'o'\n",
    "    \n",
    "    return 'd'\n",
    "        \n",
    "test_who_win(who_win)"
   ]
  }
 ],
 "metadata": {
  "kernelspec": {
   "display_name": "Python 3",
   "language": "python",
   "name": "python3"
  },
  "language_info": {
   "codemirror_mode": {
    "name": "ipython",
    "version": 3
   },
   "file_extension": ".py",
   "mimetype": "text/x-python",
   "name": "python",
   "nbconvert_exporter": "python",
   "pygments_lexer": "ipython3",
   "version": "3.8.3"
  }
 },
 "nbformat": 4,
 "nbformat_minor": 4
}

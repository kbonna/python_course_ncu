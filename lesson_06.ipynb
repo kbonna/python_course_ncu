{
 "cells": [
  {
   "cell_type": "markdown",
   "metadata": {},
   "source": [
    "# Dictionaries\n",
    "\n",
    "<img width=\"400\" src=\"https://programmathically.com/wp-content/uploads/2021/05/dictionary-1024x554.png\"/>\n",
    "\n",
    "- dictionary is a mutable collection of many values\n",
    "- indexes for dictionaries can use many different data types, not just integers\n",
    "- indexes for dictionaries are called **keys**\n",
    "- each key have its associated **value** which together form a **key-value** pair\n",
    "\n",
    "> Useful resources\n",
    "> - https://www.youtube.com/watch?v=daefaLgNkw0\n",
    "> - https://www.youtube.com/watch?v=XCcpzWs-CI4"
   ]
  },
  {
   "cell_type": "markdown",
   "metadata": {},
   "source": [
    "- creating a dictionary\n",
    "\n",
    "```python\n",
    "d = {\n",
    "    \"title\": \"Pulp Fiction\", \n",
    "    \"year\": 1994, \n",
    "    \"director\": \"Quentin Tarantino\",\n",
    "    \"genre\": [\"crime\", \"drama\"]\n",
    "    \"duration\": 154\n",
    "}\n",
    "d = dict(python=1992, java=1993, fortran=1957)\n",
    "```\n",
    "\n",
    "- adding key/value pair(s)\n",
    "\n",
    "```python\n",
    "d['c#'] = 2000\n",
    "d.update({'pascal': 1970, 'cobol': 1959})\n",
    "```\n",
    "\n",
    "- getting values\n",
    "\n",
    "```python\n",
    "print(d['python'])\n",
    "print(d.keys())\n",
    "print(d.values())\n",
    "```\n",
    "\n",
    "- checking for key\n",
    "\n",
    "```python\n",
    "print('java' in d)\n",
    "```\n",
    "\n",
    "- iterating over dictionary\n",
    "\n",
    "```python\n",
    "# access keys only\n",
    "for key in d:\n",
    "    print(key)\n",
    "# access values only\n",
    "for value in d.values():\n",
    "    print(key)\n",
    "# access keys and values\n",
    "for key, value in d.items():\n",
    "    print(key, value)    \n",
    "```"
   ]
  },
  {
   "cell_type": "code",
   "execution_count": null,
   "metadata": {},
   "outputs": [],
   "source": [
    "# generate random data for products.txt\n",
    "\n",
    "from random import randint, choices, seed\n",
    "seed(0)\n",
    "\n",
    "price_ends = [0.99, 0.49, 0.79]\n",
    "price_ends_weights = [2, 2, 1]\n",
    "quantities = [1, 2, 3, 5, 10, 20, 50]\n",
    "quantities_weights = [5, 4, 1, 5, 5, 10, 2]\n",
    "categories = [\"a\", \"b\", \"c\"]\n",
    "categories_weights = [4, 2, 1]\n",
    "\n",
    "def random_code():\n",
    "    return \"\".join([str(randint(0, 9)) for _ in range(8)])\n",
    "\n",
    "for _ in range(100):\n",
    "    category = choices(categories, weights=categories_weights).pop()\n",
    "    code = random_code()\n",
    "    price_int = randint(5, 150)\n",
    "    price_end = choices(price_ends, weights=price_ends_weights).pop()\n",
    "    qty = choices(quantities, weights=quantities_weights).pop()\n",
    "    #print(f\"{category}{code}, {price_int+price_end}, {qty}\")"
   ]
  },
  {
   "cell_type": "markdown",
   "metadata": {},
   "source": [
    "---\n",
    "## **Task 6.1**\n",
    "\n",
    "Create a function `load_products(file)` that takes as an input path to a file and returns a dictionary of product codes as keys and array of product price and quantity as values.\n",
    "\n",
    "---"
   ]
  },
  {
   "cell_type": "code",
   "execution_count": 2,
   "metadata": {},
   "outputs": [],
   "source": [
    "file = \"files/products.txt\"\n",
    "\n",
    "def load_products(file):\n",
    "    # read data     \n",
    "    with open(file, \"r\") as f:\n",
    "        data = f.read().splitlines()\n",
    "\n",
    "    # load data to dictionary\n",
    "    products = {}\n",
    "    for line in data:\n",
    "        code, price, qty = line.split(\", \")\n",
    "        products[code] = [float(price), int(qty)]\n",
    "    \n",
    "    return products\n",
    "\n",
    "products = load_products(file)"
   ]
  },
  {
   "cell_type": "markdown",
   "metadata": {},
   "source": [
    "---\n",
    "## **Task 6.2**\n",
    "\n",
    "Create a function `change_currency(products, exchange_rate)` that takes a product and price dictionary and return a new dictionary with prices in another currency. Set default exchange rate to 0.25 (as changing PLN to USD).\n",
    "\n",
    "---"
   ]
  },
  {
   "cell_type": "code",
   "execution_count": null,
   "metadata": {},
   "outputs": [],
   "source": [
    "def change_currency(products, exchange_rate=0.25):\n",
    "\n",
    "    new_products = {}\n",
    "    for code, info in products.items():\n",
    "        price, qty = info\n",
    "        new_products[code] = [round(price * exchange_rate, 2), qty]\n",
    "    \n",
    "    return new_products\n",
    "\n",
    "products_dollars = change_currency(products)"
   ]
  },
  {
   "cell_type": "markdown",
   "metadata": {},
   "source": [
    "---\n",
    "## **Task 6.3**\n",
    "\n",
    "Create a function `filter_category(products, category)` that takes as an input products dictionary and returns new dictionary containing only products with a specific category code. Valid category codes are `a`, `b`, and `c`. Function should raise an error when invalid category is passed \n",
    "\n",
    "---"
   ]
  },
  {
   "cell_type": "code",
   "execution_count": null,
   "metadata": {},
   "outputs": [],
   "source": [
    "def filter_category(products, category):\n",
    "    if category not in [\"a\", \"b\", \"c\"]:\n",
    "        raise ValueError(f\"category {category} not supported\")\n",
    "        \n",
    "    filtered_products = {}\n",
    "    for code, info in products.items():\n",
    "        if code.startswith(category):\n",
    "            filtered_products[code] = info\n",
    "    return filtered_products"
   ]
  },
  {
   "cell_type": "markdown",
   "metadata": {},
   "source": [
    "---\n",
    "# **Quiz 6.1**\n",
    "\n",
    "- Calculate number of `c` products\n",
    "- Get price of `c23583324` product in DKK (assume 1PLN=0.61DKK)\n",
    "- Calculate average price for `c` product in DKK\n",
    "\n",
    "---"
   ]
  },
  {
   "cell_type": "code",
   "execution_count": null,
   "metadata": {},
   "outputs": [],
   "source": [
    "pln_to_dkk = 1.64\n",
    "c_products_dkk = change_currency(filter_category(products, \"c\"), pln_to_dkk)\n",
    "\n",
    "# Calculate average\n",
    "total = 0\n",
    "for info in c_products_dkk.values():\n",
    "    price, _ = info\n",
    "    total += price\n",
    "avg = total / len(c_products_dkk)\n",
    "\n",
    "print(f\"Number of 'c' products: {len(c_products_dkk)}\")\n",
    "print(f\"Price of 'c23583324' product in DKK: {c_products_dkk['c23583324'][0]}\")\n",
    "print(f\"Average 'c' product value in DKK is: {avg}\")"
   ]
  },
  {
   "cell_type": "markdown",
   "metadata": {},
   "source": [
    "---\n",
    "## **Task 6.4**\n",
    "\n",
    "Create a function `total_value(products)` that takes as an input products dictionary and returns total value of all products. Total value is the cost of all products multiplied by their quantity in stock.\n",
    "\n",
    "---"
   ]
  },
  {
   "cell_type": "code",
   "execution_count": null,
   "metadata": {},
   "outputs": [],
   "source": [
    "def total_value(products):\n",
    "    total = 0\n",
    "    for price, qty in products.values():\n",
    "        total += price * qty\n",
    "    return total"
   ]
  },
  {
   "cell_type": "markdown",
   "metadata": {
    "tags": []
   },
   "source": [
    "---\n",
    "## **Task 6.5**\n",
    "\n",
    "Create a function `update_codes(products)` that takes as an input products dictionary and returns new products dictionary with updated product codes. Category letter should remain unchanged. Code number should be shifted by one digit, i.e., each 0 should be converted into 1, each 1 into 2, ..., each 9 into 0. You can create helper function `change_code` that changes old codes into new codes.\n",
    "\n",
    "---"
   ]
  },
  {
   "cell_type": "code",
   "execution_count": 17,
   "metadata": {},
   "outputs": [],
   "source": [
    "digit_map = {str(old): str(new) \n",
    "             for old, new \n",
    "             in zip(list(range(10)), list(range(1, 10)) + [0])}\n",
    "\n",
    "def change_code(code):\n",
    "    new_code = \"\"\n",
    "    for char in code:\n",
    "        new_code += digit_map.get(char, char)\n",
    "    return new_code\n",
    "\n",
    "def update_codes(products):\n",
    "    new_products = {}\n",
    "    for code, info in products.items():\n",
    "        new_code = change_code(code)\n",
    "        new_products[new_code] = info\n",
    "    return new_products\n",
    "\n",
    "products_codes = update_codes(products)"
   ]
  },
  {
   "cell_type": "markdown",
   "metadata": {},
   "source": [
    "---\n",
    "## **Task 6.6**\n",
    "\n",
    "Create a function `add_product(products, product_code, qty, price)` that takes as an input products dictionary, product code, quantity and optionally price and returns **new** and updated dictionary with added product. If `product_code` didn't exist before, you should add new key-value pair. If product existed, you should add corresponding `qty` of product. In this case `price` argument should be ignored.\n",
    "\n",
    "---"
   ]
  },
  {
   "cell_type": "code",
   "execution_count": null,
   "metadata": {},
   "outputs": [],
   "source": [
    "def add_product(products, product_code, qty, price=None):\n",
    "    new_products = products.copy()\n",
    "    if product_code in products:\n",
    "        current_price, current_qty = new_products[product_code]\n",
    "        new_qty = current_qty + qty\n",
    "        new_products[product_code] = [current_price, new_qty]\n",
    "        return new_products\n",
    "    else:\n",
    "        if price == None:\n",
    "            raise ValueError(\"for new product price has to be defined\")\n",
    "        new_products[product_code] = [price, qty]\n",
    "        return new_products"
   ]
  },
  {
   "cell_type": "markdown",
   "metadata": {},
   "source": [
    "---\n",
    "## **Task 6.7**\n",
    "\n",
    "Calculate total value of your b-category products in Euro (1PLN = 0.22EUR) after adding to stock 100 \"b99999999\" products with value 99.99PLN for each.\n",
    "\n",
    "---"
   ]
  },
  {
   "cell_type": "code",
   "execution_count": null,
   "metadata": {},
   "outputs": [],
   "source": [
    "file = \"files/products.txt\"\n",
    "\n",
    "products = load_products(file)\n",
    "products = add_product(products, \"b99999999\", 100, price=99.99)\n",
    "products = change_currency(products, exchange_rate=0.22)\n",
    "products = filter_category(products, \"b\")\n",
    "total = total_value(products)\n",
    "\n",
    "print(total)"
   ]
  },
  {
   "cell_type": "markdown",
   "metadata": {},
   "source": [
    "---\n",
    "## **Task 6.8**\n",
    "\n",
    "Write a function `yes_or_no()` that ask user to input string `yes` or `no` and return provided string. Function should rerun if provided input is incorrect. \n",
    "\n",
    "Then make this function more generic, creating new function `user_input(options, prompt, error)` which ask user to type on of the options using provided `prompt` message and informs about incorrect message using `error`. Assume `options` is a list of strings, `prompt` and `error` are strings.\n",
    "\n",
    "Add docstring to `user_input` function following [Google rules](https://sphinxcontrib-napoleon.readthedocs.io/en/latest/example_google.html).\n",
    "\n",
    "---"
   ]
  },
  {
   "cell_type": "code",
   "execution_count": null,
   "metadata": {},
   "outputs": [],
   "source": [
    "def yes_or_no():\n",
    "    answer = input(\"yes or no?\")\n",
    "    if answer == \"yes\" or answer == \"no\":\n",
    "        return answer\n",
    "    else:\n",
    "        return user_yes_or_no()\n",
    "        \n",
    "def yes_or_no():\n",
    "    answer = input(\"yes or no?\")\n",
    "    while answer != \"yes\" and answer != \"no\":\n",
    "        answer = input(\"yes or no?\")\n",
    "    return answer\n",
    "\n",
    "def user_input(options, prompt, error):\n",
    "    answer = input(prompt)\n",
    "    while answer not in options:\n",
    "        print(error)\n",
    "        answer = input(prompt)\n",
    "    return answer\n",
    "\n",
    "answer = user_input([\"yes\", \"no\"], \"Type yes or no\", \"Try again...\")\n",
    "print(\"Finally...\", answer)"
   ]
  }
 ],
 "metadata": {
  "kernelspec": {
   "display_name": "Python 3 (ipykernel)",
   "language": "python",
   "name": "python3"
  },
  "language_info": {
   "codemirror_mode": {
    "name": "ipython",
    "version": 3
   },
   "file_extension": ".py",
   "mimetype": "text/x-python",
   "name": "python",
   "nbconvert_exporter": "python",
   "pygments_lexer": "ipython3",
   "version": "3.9.7"
  }
 },
 "nbformat": 4,
 "nbformat_minor": 4
}

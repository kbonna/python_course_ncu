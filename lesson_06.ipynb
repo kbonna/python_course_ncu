{
 "cells": [
  {
   "cell_type": "markdown",
   "metadata": {},
   "source": [
    "# Variables revisited"
   ]
  },
  {
   "cell_type": "markdown",
   "metadata": {},
   "source": [
    "## Sequence data types\n",
    "\n",
    "- strings behave like a list of single characters, so most of the functions / methods used with lists also work for strings:\n",
    "    - indexing and slicing\n",
    "    - checking if character / substring is in string \n",
    "    - `min()` and `max()` function (return characters with highest ASCII code)\n",
    "    - sorting, but it returns list instead of string\n",
    "    - finding index of an element"
   ]
  },
  {
   "cell_type": "code",
   "execution_count": 4,
   "metadata": {},
   "outputs": [
    {
     "name": "stdout",
     "output_type": "stream",
     "text": [
      "ht\n",
      "True\n",
      "P\n",
      "['P', 'h', 'n', 'o', 't', 'y']\n",
      "4\n",
      "Hello\n",
      "['H', 'e', 'l', 'l', 'o']\n"
     ]
    }
   ],
   "source": [
    "s = 'Python'\n",
    "\n",
    "# slicing\n",
    "print(s[3:1:-1])\n",
    "\n",
    "# checking character / substring\n",
    "print('Pyt' in s)\n",
    "\n",
    "# min function\n",
    "print(min(s))\n",
    "\n",
    "# sorting\n",
    "print(sorted(s))\n",
    "\n",
    "# finding element\n",
    "print(s.index('o'))\n",
    "\n",
    "# converting list of characters to string\n",
    "print(''.join(['H', 'e', 'l', 'l', 'o']))\n",
    "\n",
    "# converting string to list of characters\n",
    "print(list('Hello'))"
   ]
  },
  {
   "cell_type": "markdown",
   "metadata": {},
   "source": [
    "---\n",
    "## **Quiz 1.**\n",
    "\n",
    "```\n",
    "s = 'christmas'\n",
    "s = s[::-1]\n",
    "print(s.index('s') + s.index('m'))\n",
    "```\n",
    "---"
   ]
  },
  {
   "cell_type": "markdown",
   "metadata": {},
   "source": [
    "## Tuple\n",
    "\n",
    "- `tuple` data type is almost identical to the list, except two differences\n",
    "- first, tuples are typed with parenthesis `( )` instead of square brackets `[ ]`\n",
    "- if you want to have tuple with just one item you cannot do `t = (1)` because this will get interpeted as `t = 1`; instead you have to place trailing comma after the value `t = (1,)`\n",
    "\n",
    "> *Parentehis `()` does not make tuple, but comma between values does `,`*"
   ]
  },
  {
   "cell_type": "code",
   "execution_count": 7,
   "metadata": {},
   "outputs": [
    {
     "name": "stdout",
     "output_type": "stream",
     "text": [
      "(1, 2, [], 'hello', 3.14)\n",
      "(1, 2, [], 'hello', 3.14)\n",
      "<class 'int'> <class 'tuple'>\n",
      "1 5 3\n"
     ]
    }
   ],
   "source": [
    "# Create tuple\n",
    "t = (1, 2, [], 'hello', 3.14)\n",
    "print(t)\n",
    "\n",
    "# Brackets can be ommited\n",
    "t = 1, 2, [], 'hello', 3.14\n",
    "print(t)\n",
    "\n",
    "# Comma makes tuple important\n",
    "print(type((1)), type((1, )))\n",
    "\n",
    "# Usual stuff\n",
    "print(t[0], len(t), t.index('hello'))"
   ]
  },
  {
   "cell_type": "markdown",
   "metadata": {},
   "source": [
    "- second, tuples are **immutable** meaning that their value cannot change\n",
    "- because tuple is immutable, Python can optimize code a bit, so tuples tend to be slightly faster than lists\n",
    "- you can convert tuple to list and vice-versa whenever you need using `tuple()` and `list()` functions, jus like we did with strings and numbers using `str()` and `float()` functions\n",
    "\n",
    "> *Use `tuple` whenever you need sequence type that cannot be modified by anyone after creation. This way you increase safety and avoid hard-to-find bugs.*"
   ]
  },
  {
   "cell_type": "code",
   "execution_count": 15,
   "metadata": {},
   "outputs": [
    {
     "ename": "TypeError",
     "evalue": "'tuple' object does not support item assignment",
     "output_type": "error",
     "traceback": [
      "\u001b[0;31m---------------------------------------------------------------------------\u001b[0m",
      "\u001b[0;31mTypeError\u001b[0m                                 Traceback (most recent call last)",
      "\u001b[0;32m<ipython-input-15-0cc3e92e22d4>\u001b[0m in \u001b[0;36m<module>\u001b[0;34m\u001b[0m\n\u001b[1;32m      3\u001b[0m \u001b[0;34m\u001b[0m\u001b[0m\n\u001b[1;32m      4\u001b[0m \u001b[0mt\u001b[0m \u001b[0;34m=\u001b[0m \u001b[0;34m(\u001b[0m\u001b[0;36m1\u001b[0m\u001b[0;34m,\u001b[0m \u001b[0;36m2\u001b[0m\u001b[0;34m,\u001b[0m \u001b[0;36m3\u001b[0m\u001b[0;34m)\u001b[0m\u001b[0;34m\u001b[0m\u001b[0;34m\u001b[0m\u001b[0m\n\u001b[0;32m----> 5\u001b[0;31m \u001b[0mt\u001b[0m\u001b[0;34m[\u001b[0m\u001b[0;36m0\u001b[0m\u001b[0;34m]\u001b[0m \u001b[0;34m=\u001b[0m \u001b[0;36m99\u001b[0m \u001b[0;31m# this will raise TypeError\u001b[0m\u001b[0;34m\u001b[0m\u001b[0;34m\u001b[0m\u001b[0m\n\u001b[0m",
      "\u001b[0;31mTypeError\u001b[0m: 'tuple' object does not support item assignment"
     ]
    }
   ],
   "source": [
    "l = [1, 2, 3]\n",
    "l[0] = 99 # this works\n",
    "\n",
    "t = (1, 2, 3)\n",
    "t[0] = 99 # this will raise TypeError"
   ]
  },
  {
   "cell_type": "markdown",
   "metadata": {},
   "source": [
    "---\n",
    "## **Task 1.**\n",
    "\n",
    "Write a function `rotate(vector, angle)` that takes two parameters: `vector` which is tuple with 2 floats, and angle (in degrees) and returns coordinates of rotated vector. [Here](https://matthew-brett.github.io/teaching/rotation_2d.html) you can find formula for 2D rotation. Set default value of 0 degrees for angle parameter. \n",
    "\n",
    "---"
   ]
  },
  {
   "cell_type": "code",
   "execution_count": 28,
   "metadata": {},
   "outputs": [
    {
     "data": {
      "text/plain": [
       "(0.7071067811865476, 0.7071067811865475)"
      ]
     },
     "execution_count": 28,
     "metadata": {},
     "output_type": "execute_result"
    }
   ],
   "source": [
    "from math import sin, cos, radians\n",
    "\n",
    "def rotate(vector, angle=0):\n",
    "    angle = radians(angle)\n",
    "    x = cos(angle) * vector[0] - sin(angle) * vector[1]\n",
    "    y = sin(angle) * vector[0] + cos(angle) * vector[1]\n",
    "    return (x, y)\n",
    "\n",
    "rotate((1, 0), 45)"
   ]
  },
  {
   "cell_type": "code",
   "execution_count": 4,
   "metadata": {},
   "outputs": [
    {
     "data": {
      "text/plain": [
       "(140131117505200, 140131031385904)"
      ]
     },
     "execution_count": 4,
     "metadata": {},
     "output_type": "execute_result"
    }
   ],
   "source": [
    "x = \"a\"\n",
    "y = x\n",
    "y += \"b\"\n",
    "\n",
    "id(x), id(y)"
   ]
  },
  {
   "cell_type": "code",
   "execution_count": null,
   "metadata": {},
   "outputs": [],
   "source": []
  },
  {
   "cell_type": "markdown",
   "metadata": {},
   "source": [
    "## Immutable, mutable, pass by value, pass by reference\n",
    "\n",
    "- what really is a Python variable? It is just a **pointer** (or **reference**) to the memory location of the actual value\n",
    "\n",
    "Actually, when we write `a = 45` we create label `a` that points to memory location where `42` lives.\n",
    "\n",
    "- to see the memory location of the object that is referenced by a variable we use `id()` function passing variable name\n",
    "- there are two kinds of variables:\n",
    "    - **mutable**, which can be changed without creating new object\n",
    "    - **immutable**, which cannot be changed (when we try to change them, new object is created) \n",
    "- we have to be careful when two variables share the reference to the same mutable object, because this may result in hard to find bugs \n",
    "- we can check if objects are identical in two ways: using `is` or `==` operators; `is` operator check if two objects are exactly the same objects in memory whereas `==` operator compare actual values of the objects ignoring that they can live in separate memory locations\n",
    "- in functions, parameters are passed by reference (local function variables are just pointers to the original objects in global scope)"
   ]
  },
  {
   "cell_type": "code",
   "execution_count": 1,
   "metadata": {},
   "outputs": [
    {
     "data": {
      "text/plain": [
       "True"
      ]
     },
     "execution_count": 1,
     "metadata": {},
     "output_type": "execute_result"
    }
   ],
   "source": [
    "a = (1, 2, 3)\n",
    "b = (1, 2, 3)\n",
    "\n",
    "a == b"
   ]
  },
  {
   "cell_type": "code",
   "execution_count": 31,
   "metadata": {},
   "outputs": [
    {
     "name": "stdout",
     "output_type": "stream",
     "text": [
      "0x563adcc58260\n"
     ]
    }
   ],
   "source": [
    "a = 42\n",
    "print(hex(id(a)))"
   ]
  },
  {
   "cell_type": "markdown",
   "metadata": {},
   "source": [
    "---\n",
    "## **Quiz 2.**\n",
    "```\n",
    "l = [1, 2, 3]\n",
    "g = [l[0], l[1], l[2]]\n",
    "g.append(4)\n",
    "print(len(l))\n",
    "```\n",
    "---"
   ]
  },
  {
   "cell_type": "markdown",
   "metadata": {},
   "source": [
    "---\n",
    "## **Quiz 3.**\n",
    "```\n",
    "a = 1\n",
    "b = 2\n",
    "c = b ** b - b * a\n",
    "print(id(c) == id(b))\n",
    "```\n",
    "---"
   ]
  },
  {
   "cell_type": "markdown",
   "metadata": {},
   "source": [
    "---\n",
    "## **Quiz 4.**\n",
    "```\n",
    "s = {1, 2, 3}\n",
    "r = s\n",
    "s.add(0)\n",
    "len(s) == len(r) # True\n",
    "```\n",
    "What can we infer about sets in Python looking at this code? Are they mutable or immutable?\n",
    "\n",
    "---"
   ]
  },
  {
   "cell_type": "markdown",
   "metadata": {},
   "source": [
    "---\n",
    "## **Quiz 5.**\n",
    "Which of the following sentences are true:\n",
    "\n",
    "For two Python variables `a` and `b`:\n",
    "- if `a == b` evaluates to `True`, `a is b` will also be `True`\n",
    "- if `a == b` evaluates to `True`, `a is b` may or may not be `True`\n",
    "- if `a is b` evaluates to `True`, `a == b` will be `True`\n",
    "- if `a is b` evaluates to `True`, `a == b` may or may not be `True`\n",
    "---"
   ]
  },
  {
   "cell_type": "markdown",
   "metadata": {},
   "source": [
    "---\n",
    "## **Quiz 6.**\n",
    "```\n",
    "def fun(t):\n",
    "    t = t + (0, )\n",
    "    return t\n",
    "\n",
    "h = (1, 2, 3)\n",
    "g = fun(h)\n",
    "print(h, h is g)\n",
    "```\n",
    "---"
   ]
  }
 ],
 "metadata": {
  "kernelspec": {
   "display_name": "Python 3",
   "language": "python",
   "name": "python3"
  },
  "language_info": {
   "codemirror_mode": {
    "name": "ipython",
    "version": 3
   },
   "file_extension": ".py",
   "mimetype": "text/x-python",
   "name": "python",
   "nbconvert_exporter": "python",
   "pygments_lexer": "ipython3",
   "version": "3.8.3"
  }
 },
 "nbformat": 4,
 "nbformat_minor": 4
}

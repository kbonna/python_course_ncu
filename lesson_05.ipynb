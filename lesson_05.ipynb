{
 "cells": [
  {
   "cell_type": "code",
   "execution_count": null,
   "metadata": {},
   "outputs": [],
   "source": [
    "l = [1, 2, 3, 4]\n",
    "print(l)"
   ]
  },
  {
   "cell_type": "code",
   "execution_count": null,
   "metadata": {},
   "outputs": [],
   "source": [
    "l = ['a', 'b', 3.14, 5, [0, 0], []]\n",
    "print(l)"
   ]
  },
  {
   "cell_type": "markdown",
   "metadata": {},
   "source": [
    "## Getting individual values (list indexing)\n",
    "\n",
    "- to get idividual values use square brackets `l[0]`, remember that indexing start from 0 (like in range function)\n",
    "\n",
    "This will print `1`:\n",
    "```\n",
    "l = [1, 2, 3]\n",
    "print(l[0])    \n",
    "```\n",
    "\n",
    "This will print all three items:\n",
    "```\n",
    "l = [3.14, 5.23, 9.99]\n",
    "print(l[0])\n",
    "print(l[1])\n",
    "print(l[2])\n",
    "```\n",
    "\n",
    "- indexes has to be integers\n",
    "\n",
    "This will cause `TypeError`:\n",
    "```\n",
    "l = ['a', 'b', 'c']\n",
    "print(l[1.0])\n",
    "```\n",
    "\n",
    "- remember about list lenght\n",
    "\n",
    "This will raise `IndexError`:\n",
    "```\n",
    "l = [1, 2, 3]\n",
    "print(l[3])\n",
    "```\n",
    "\n",
    "- negative index allow to retreive items from the end of the list\n",
    "\n",
    "This will return last item in a list regardless of its lenght:\n",
    "```\n",
    "l = ['a', 'b', 'c', []]\n",
    "print(l[-1])\n",
    "```"
   ]
  },
  {
   "cell_type": "markdown",
   "metadata": {},
   "source": [
    "## Nesting lists\n",
    "\n",
    "- lists can contain other list\n",
    "- this can be used to represent matrix in pure Python (without using numpy)\n",
    "\n",
    "```\n",
    "array = [[1, 2, 3], [4, 5, 6], [7, 8, 9]]\n",
    "```\n",
    "\n",
    "- retreive item using indexing twice `array[1][2]`"
   ]
  },
  {
   "cell_type": "markdown",
   "metadata": {},
   "source": [
    "## Slicing\n",
    "\n",
    "- works similar to `range()` function\n",
    "- syntax: `l[start:stop:step]`\n",
    "- `start`, `stop` and `step` have to be integers (can be negative)\n",
    "- `start` defaults to 0, `stop` defaults to `len(l)` and step defaults to 1, default values can be omitted"
   ]
  },
  {
   "cell_type": "code",
   "execution_count": null,
   "metadata": {},
   "outputs": [],
   "source": [
    "l = list(range(10))\n",
    "print(l, '\\n')\n",
    "\n",
    "# Get first three items\n",
    "print('first three items: ', l[0:3]) # or simply l[:3]\n",
    "\n",
    "# Get last three items\n",
    "print('last three items: ', l[-3:])\n",
    "\n",
    "# Get all odd items\n",
    "print('all odd items: ', l[::2])\n",
    "\n",
    "# Get all even items\n",
    "print('all odd items: ', l[1::2])\n",
    "\n",
    "# Get items from 7 to 2 (reversed)\n",
    "print('items from 2 to 2 (reversed): ', l[-3:1:-1])"
   ]
  },
  {
   "cell_type": "markdown",
   "metadata": {},
   "source": [
    "---\n",
    "## **Quiz 1**\n",
    "\n",
    "```\n",
    "l = ['a', 'b', 'c', 'd', 'e', 'f', 'g', 'h', 'i', 'j']\n",
    "print(l[-5::-2])\n",
    "```\n",
    "\n",
    "---"
   ]
  },
  {
   "cell_type": "code",
   "execution_count": null,
   "metadata": {},
   "outputs": [],
   "source": [
    "l = ['a', 'b', 'c', 'd', 'e', 'f', 'g', 'h', 'i', 'j']\n",
    "print(l[-5::-2])"
   ]
  },
  {
   "cell_type": "markdown",
   "metadata": {},
   "source": [
    "## Changing lists\n",
    "\n",
    "- slicing can be used to change any / all list elemens"
   ]
  },
  {
   "cell_type": "code",
   "execution_count": null,
   "metadata": {},
   "outputs": [],
   "source": [
    "# Change single value\n",
    "l = [1, 2, 3]\n",
    "l[1] = 999\n",
    "print(l)\n",
    "\n",
    "# Change multiple values\n",
    "l = [1, 2, 3, 4, 5]\n",
    "l[2:-1] = [11, 22, 33, 44, 55] # lenght can be different\n",
    "print(l)\n",
    "\n",
    "# Delete single value\n",
    "l = [1, 2, 3]\n",
    "del l[-1]\n",
    "print(l)\n",
    "\n",
    "# Delete multiple values\n",
    "l = [1, 2, 3, 4, 5]\n",
    "del l[2:-1]\n",
    "print(l)"
   ]
  },
  {
   "cell_type": "markdown",
   "metadata": {},
   "source": [
    "---\n",
    "## **Quiz 2**\n",
    "```\n",
    "l = ['P', 'y', 't', 'h', 'o', 'n']\n",
    "del l[:2]\n",
    "del l[1]\n",
    "l[1:1] = ['o', 'r']\n",
    "l[5:5] = ['t', 'o']\n",
    "print(l)\n",
    "```\n",
    "---"
   ]
  },
  {
   "cell_type": "markdown",
   "metadata": {},
   "source": [
    "# Methods vs functions\n",
    "\n",
    "> In Python almost everything is an object. That means that even simple types like `int`, `str` or `list` have their own unique methods. To examine all methods of an object you can type `dir(object)`\n",
    "\n",
    "A method in Python is somewhat similar to a function, except it is associated with object/classes. There are two main differences between methods adn functions:\n",
    "- method is implicitly used for an object for which it is called\n",
    "- method is accessible to data that is contained within the clas\n",
    "\n",
    "Example:\n",
    "- all strings have method `.lower()` that converts them into lowercase\n",
    "- we can use function `len()` on all strings to get their length\n",
    "\n",
    "\n",
    "## Basic list operations\n",
    "- getting lenght of the list: `len(l)`\n",
    "- adding new value to the end of the list: `l.append(value)` or `l + [value]`\n",
    "- adding new value to specific position in the list: `l.insert(position, value)`\n",
    "- removing second element from the list: `del l[1]`\n",
    "- concatenating two lists: `l1 + l2`\n",
    "- replicating a list: `l * 3`\n",
    "- checking if an item is in the list `item in l` (returns `True` or `False`)\n",
    "- checking if an item is not in the list `item not in l` (returns `True` or `False`)"
   ]
  },
  {
   "cell_type": "code",
   "execution_count": null,
   "metadata": {},
   "outputs": [],
   "source": [
    "# Get list length\n",
    "l = ['a', 'b', 'c']\n",
    "print(len(l))\n",
    "\n",
    "# Append new value\n",
    "l.append('d')\n",
    "print(l)\n",
    "\n",
    "# Insert value to specific position\n",
    "l.insert(0, 'A')\n",
    "print(l)\n",
    "\n",
    "# Remove second element\n",
    "del l[1]\n",
    "print(l)\n",
    "\n",
    "# Concatenate with other list\n",
    "l = l + ['x', 'y', 'z']\n",
    "print(l)\n",
    "\n",
    "# Replicate list\n",
    "l = l * 2\n",
    "print(l)\n",
    "\n",
    "# Check if item is (or is not) in the list\n",
    "print('d' in l)\n",
    "print('f' in l)"
   ]
  },
  {
   "cell_type": "markdown",
   "metadata": {},
   "source": [
    "---\n",
    "## **Quiz 3**\n",
    "\n",
    "```\n",
    "l = [1, 2]\n",
    "l = l + l\n",
    "del l[0]\n",
    "l.append(3)\n",
    "del l[-1]\n",
    "l = l * 2\n",
    "print(l)\n",
    "```\n",
    "---"
   ]
  },
  {
   "cell_type": "markdown",
   "metadata": {},
   "source": [
    "---\n",
    "## **Task 1**\n",
    "\n",
    "Write function `name_veggies` that asks user to name three vegetables.\n",
    "\n",
    "If `'carrot'` is among them print the list replicated two times.\n",
    "\n",
    "Othewise print the list with `'carrot'` added three more times. \n",
    "\n",
    "---"
   ]
  },
  {
   "cell_type": "code",
   "execution_count": 7,
   "metadata": {},
   "outputs": [
    {
     "name": "stdin",
     "output_type": "stream",
     "text": [
      "Give a veggie:  potato\n",
      "Give a veggie:  tomato\n",
      "Give a veggie:  celery\n"
     ]
    },
    {
     "name": "stdout",
     "output_type": "stream",
     "text": [
      "['potato', 'tomato', 'celery', 'carrot', 'carrot', 'carrot']\n"
     ]
    }
   ],
   "source": [
    "def name_veggies():\n",
    "    veggies = []\n",
    "    for i in range(3):\n",
    "        new_veggie = input('Give a veggie: ')\n",
    "        veggies.append(new_veggie)\n",
    "    if 'carrot' in veggies:\n",
    "        print(veggies * 2)\n",
    "    else:\n",
    "        print(veggies + ['carrot'] * 3)\n",
    "\n",
    "name_veggies()"
   ]
  },
  {
   "cell_type": "markdown",
   "metadata": {},
   "source": [
    "## More list operations\n",
    "- if list contains only numbers you can use `min()`, `max()` and `sum()` functions\n",
    "- get the index of specific value `l.index(value)`\n",
    "- return new sorted list `sorted(l)`\n",
    "- sort list in place `l.sort()`"
   ]
  },
  {
   "cell_type": "code",
   "execution_count": 8,
   "metadata": {},
   "outputs": [
    {
     "name": "stdout",
     "output_type": "stream",
     "text": [
      "2 5 36\n",
      "2\n",
      "[2, 3, 3, 3, 4, 4, 4, 4, 4, 5]\n",
      "[4, 3, 4, 2, 4, 4, 5, 3, 3, 4]\n",
      "[5, 4, 4, 4, 4, 4, 3, 3, 3, 2]\n"
     ]
    }
   ],
   "source": [
    "numbers = [4, 3, 4, 2, 4, 4, 5, 3, 3, 4]\n",
    "print(min(numbers), max(numbers), sum(numbers))\n",
    "\n",
    "dances = ['Hip hop', 'Breaking', 'Locking', 'Popping', 'Krump']\n",
    "print(dances.index('Locking'))\n",
    "\n",
    "print(sorted(numbers))\n",
    "print(numbers)\n",
    "\n",
    "numbers.sort(reverse=True)\n",
    "print(numbers)"
   ]
  },
  {
   "cell_type": "markdown",
   "metadata": {},
   "source": [
    "---\n",
    "## **Task 2**\n",
    "\n",
    "Create function `ski_jump_score(judges_points, distance, k_point)` which calulates and returns total number of points that ski jumper is awarded for his jump. Briefly, total score is score for distance (`1.8 * (distance - k_point)`) plus score from judges points (highest and lowest score is discarded and the sum is calculated) plus initial number of 60 points. You can read more [here](https://en.wikipedia.org/wiki/Ski_jumping). Assume default value for `k_point = 120`.\n",
    "\n",
    "Example:\n",
    "```\n",
    "> ski_jump_score([17, 15, 18, 17, 19], 126)\n",
    "> 122.8\n",
    "```\n",
    "---"
   ]
  },
  {
   "cell_type": "code",
   "execution_count": 9,
   "metadata": {},
   "outputs": [
    {
     "name": "stdout",
     "output_type": "stream",
     "text": [
      "122.8\n"
     ]
    }
   ],
   "source": [
    "def ski_jump_score(judges_points, distance, k_point=120):\n",
    "    '''Caluclates ski jumper score for '''\n",
    "    base_score = 60\n",
    "    distance_score = 1.8 * (distance - k_point)\n",
    "    judges_score = sum(sorted(judges_points)[1:-1])\n",
    "    return base_score + distance_score + judges_score\n",
    "\n",
    "print(ski_jump_score([17, 15, 18, 17, 19], 126))"
   ]
  },
  {
   "cell_type": "markdown",
   "metadata": {},
   "source": [
    "---\n",
    "## **Task 3**\n",
    "\n",
    "\n",
    "Write a script that asks the user to input shopping information: product names and product prices. User can specify as many products as he wants. Script should print (nicely formatted) aggregated informations about the products.\n",
    "\n",
    "Running script should first prompt user for products:\n",
    "```\n",
    "> Product 1 name: \n",
    "> Bread \n",
    "> Product 1 price:\n",
    "> 3\n",
    "> Product 2 name (ENTER to skip):\n",
    "> Ham\n",
    "> Product 2 price:\n",
    "> 5\n",
    "> Product 3 name (ENTER to skip):\n",
    "> Pepsi\n",
    "> Product 3 price: \n",
    "> 5.50\n",
    "> Product 4 name (ENTER to skip):\n",
    "> \n",
    "```\n",
    "\n",
    "And then output statistics:\n",
    "```\n",
    "Cheapest...........................Bread\n",
    "Most expensive.....................Pepsi\n",
    "Avg. price..........................4.17\n",
    "```\n",
    "\n",
    "You may need:\n",
    "- string method `.ljust(num, character)` will right-pad the string with repeated characters until the lenght reach `num` total characters\n",
    "- similarly, for left padding you can use `.rjust(num, character)`\n",
    "- example: `'hello'.ljust(15, '*')` will return string `'hello**********'`\n",
    "\n",
    "---"
   ]
  },
  {
   "cell_type": "code",
   "execution_count": 10,
   "metadata": {},
   "outputs": [
    {
     "name": "stdin",
     "output_type": "stream",
     "text": [
      "Product 1 name  Cola\n",
      "Product 1 price: 4\n",
      "Product 2 name (ENTER to skip) Fanta\n",
      "Product 2 price: 1\n",
      "Product 3 name (ENTER to skip) Sprite\n",
      "Product 3 price: 7\n",
      "Product 4 name (ENTER to skip) \n"
     ]
    },
    {
     "name": "stdout",
     "output_type": "stream",
     "text": [
      "\n",
      "Cheapest...........................Fanta\n",
      "Most expensive....................Sprite\n",
      "Avg. price..........................4.00\n"
     ]
    }
   ],
   "source": [
    "product_names = []\n",
    "product_prices = []\n",
    "\n",
    "i = 1\n",
    "while True:\n",
    "    product_name = input(f'Product {i} name {\"(ENTER to skip)\" if i > 1 else \"\"}')\n",
    "    if product_name == '':\n",
    "        break\n",
    "    product_names.append(product_name)\n",
    "\n",
    "    product_price = input(f'Product {i} price:')\n",
    "    product_prices.append(float(product_price))\n",
    "\n",
    "    i += 1\n",
    "\n",
    "if product_names:\n",
    "\n",
    "    # Calculate statistics \n",
    "    idx_cheap = product_prices.index(min(product_prices))    \n",
    "    product_cheap = product_names[idx_cheap]\n",
    "    idx_expen = product_prices.index(max(product_prices))\n",
    "    product_expen = product_names[idx_expen]\n",
    "    avg_price = sum(product_prices) / len(product_prices)\n",
    "\n",
    "    # Print statistics\n",
    "    print('')\n",
    "    print('Cheapest'.ljust(20, '.') + product_cheap.rjust(20, '.'))\n",
    "    print('Most expensive'.ljust(20, '.') + product_expen.rjust(20, '.'))\n",
    "    print('Avg. price'.ljust(20, '.') + f'{avg_price:.2f}'.rjust(20, '.'))"
   ]
  },
  {
   "cell_type": "markdown",
   "metadata": {},
   "source": [
    "## Using for loop with lists\n",
    "\n",
    "- you can use for loop to loop directly over list items\n",
    "- if you want to loop over list items having access to the index at the same time use `enumerate` function"
   ]
  },
  {
   "cell_type": "code",
   "execution_count": 11,
   "metadata": {},
   "outputs": [
    {
     "name": "stdout",
     "output_type": "stream",
     "text": [
      "ball\n",
      "whistle\n",
      "box\n",
      "ball\n",
      "whistle\n",
      "box\n",
      "item 0: ball\n",
      "item 1: whistle\n",
      "item 2: box\n"
     ]
    }
   ],
   "source": [
    "items = ['ball', 'whistle', 'box']\n",
    "\n",
    "# instead of this\n",
    "for i in range(len(items)):\n",
    "    print(items[i])\n",
    "\n",
    "# ... you can do this\n",
    "for item in items:\n",
    "    print(item)\n",
    "    \n",
    "# using enunmerate\n",
    "for i, item in enumerate(items):\n",
    "    print(f'item {i}: {item}')"
   ]
  },
  {
   "cell_type": "markdown",
   "metadata": {},
   "source": [
    "---\n",
    "## **Task 4**\n",
    "\n",
    "Kata (7 kyu): [Maximum Product](https://www.codewars.com/kata/5a4138acf28b82aa43000117/train/python)\n",
    "\n",
    "Given an array of integers, find the maximum product obtained from multiplying 2 adjacent numbers in the array.\n",
    "\n",
    "Example:\n",
    "\n",
    "```\n",
    "adjacent_element_product([9, 5, 10, 2, 24, -1, -48]) # should return 50\n",
    "```\n",
    "---"
   ]
  },
  {
   "cell_type": "code",
   "execution_count": 12,
   "metadata": {},
   "outputs": [
    {
     "data": {
      "text/plain": [
       "50"
      ]
     },
     "execution_count": 12,
     "metadata": {},
     "output_type": "execute_result"
    }
   ],
   "source": [
    "def adjacent_elements_product(array):\n",
    "    products = []\n",
    "    for i in range(len(array) - 1):\n",
    "        products.append(array[i] * array[i+1])\n",
    "    return max(products)\n",
    "\n",
    "adjacent_elements_product([9, 5, 10, 2, 24, -1, -48])"
   ]
  },
  {
   "cell_type": "markdown",
   "metadata": {},
   "source": [
    "---\n",
    "## **Task 5**\n",
    "\n",
    "Kata (7 kyu): [Row Weights](https://www.codewars.com/kata/5abd66a5ccfd1130b30000a9/train/python)\n",
    "\n",
    "Several people are standing in a row divided into two teams. The first person goes into team 1, the second goes into team 2, the third goes into team 1, and so on.\n",
    "\n",
    "Given an array of positive integers (the weights of the people), return a new array / tuple of two integers, where the first one is the total weight of team 1, and the second one is the total weight of team 2.\n",
    "\n",
    "Example:\n",
    "\n",
    "```\n",
    "row_weights([50, 60, 70, 80]) # should return (120, 140)\n",
    "```\n",
    "---"
   ]
  },
  {
   "cell_type": "code",
   "execution_count": 13,
   "metadata": {},
   "outputs": [
    {
     "data": {
      "text/plain": [
       "(120, 140)"
      ]
     },
     "execution_count": 13,
     "metadata": {},
     "output_type": "execute_result"
    }
   ],
   "source": [
    "def row_weights(array):\n",
    "    team1 = [] \n",
    "    team2 = []\n",
    "    for i, weight in enumerate(array):\n",
    "        if i % 2 == 0:\n",
    "            team1.append(weight)\n",
    "        else:\n",
    "            team2.append(weight)\n",
    "    return (sum(team1), sum(team2))\n",
    "\n",
    "row_weights([50, 60, 70, 80])"
   ]
  },
  {
   "cell_type": "markdown",
   "metadata": {},
   "source": [
    "---\n",
    "## **Task 6**\n",
    "\n",
    "Kata (7 kyu): [Peak array index](https://www.codewars.com/kata/5a61a846cadebf9738000076)\n",
    "\n",
    "Given an array of ints, return the index such that the sum of the elements to the right of that index equals the sum of the elements to the left of that index. If there is no such index, return -1. If there is more than one such index, return the left-most index.\n",
    "\n",
    "Example:\n",
    "\n",
    "```\n",
    "peak([1, 2, 3, 5, 3, 2, 1]) # should return 3, because 1+2+3 = 3+2+1\n",
    "peak([1, 12, 3, 3, 6, 3, 1]) # should return 2, because 1+12 = 3+6+3+1\n",
    "peak([10, 20, 30, 40]) # should return -1\n",
    "```\n",
    "---"
   ]
  },
  {
   "cell_type": "code",
   "execution_count": 14,
   "metadata": {},
   "outputs": [
    {
     "name": "stdout",
     "output_type": "stream",
     "text": [
      "3\n",
      "2\n",
      "-1\n"
     ]
    }
   ],
   "source": [
    "def peak(array):\n",
    "    for i in range(len(array)):\n",
    "        if sum(array[:i]) == sum(array[i+1:]):\n",
    "            return i\n",
    "    return -1\n",
    "        \n",
    "print(peak([1, 2, 3, 5, 3, 2, 1]))\n",
    "print(peak([1, 12, 3, 3, 6, 3, 1]))\n",
    "print(peak([10, 20, 30, 40]))"
   ]
  }
 ],
 "metadata": {
  "kernelspec": {
   "display_name": "Python 3",
   "language": "python",
   "name": "python3"
  },
  "language_info": {
   "codemirror_mode": {
    "name": "ipython",
    "version": 3
   },
   "file_extension": ".py",
   "mimetype": "text/x-python",
   "name": "python",
   "nbconvert_exporter": "python",
   "pygments_lexer": "ipython3",
   "version": "3.8.3"
  }
 },
 "nbformat": 4,
 "nbformat_minor": 4
}

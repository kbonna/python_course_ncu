{
 "cells": [
  {
   "cell_type": "markdown",
   "metadata": {},
   "source": [
    "# Lists\n",
    "\n",
    "<img width=\"400\" src=\"https://cdn.programiz.com/sites/tutorial2program/files/python-list-index.png\"/>\n",
    "\n",
    "- list allow to store and manipulate sequential data\n",
    "- each element of the list can have different type\n",
    "- elements are identified by their index\n",
    "- download a [cheatsheet](https://media.cheatography.com/storage/thumb/mariofreitas_python-basics-lists-tuples-and-dictionaries.750.jpg?last=1508620816)\n",
    "\n",
    "## Creating a list \n",
    "```python\n",
    "l = [1, 2, 3, 5.2, \"a\", True]\n",
    "```\n",
    "\n",
    "## Most common list operations \n",
    "\n",
    "- getting individual values\n",
    "\n",
    "```python\n",
    "l = [\"a\", \"b\", \"c\"]\n",
    "print(l[1]) # \"b\"  \n",
    "```\n",
    "\n",
    "- adding new element to the end of the list\n",
    "\n",
    "```python\n",
    "l = [1, 2, 3]\n",
    "l.append(4)\n",
    "print(l) # [1, 2, 3, 4]\n",
    "```\n",
    "\n",
    "- checking lenght of the list / adding list elements\n",
    "\n",
    "```python\n",
    "l = [1, 2, 3]\n",
    "print(len(l)) # 3\n",
    "print(sum(l)) # 6\n",
    "```\n",
    "\n",
    "- modify list element\n",
    "\n",
    "```python\n",
    "l = [1, 2, 3]\n",
    "l[1] = 200\n",
    "print(l) # [1, 200, 3]\n",
    "```"
   ]
  },
  {
   "cell_type": "markdown",
   "metadata": {},
   "source": [
    "---\n",
    "## **Task 5.1**\n",
    "\n",
    "1. Write a function `list_average(list)` that accepts a list of numbers and returns an average value.\n",
    "2. Write a script that takes a list of passwords and creates a list of password lengths.\n",
    "3. Compute an average password length for 10 most popular passwords.\n",
    "\n",
    "```python\n",
    "passwds = [\n",
    "    \"123456\",\n",
    "    \"123456789\",\n",
    "    \"qwerty\",\n",
    "    \"password\",\n",
    "    \"12345\",\n",
    "    \"qwerty123\",\n",
    "    \"1q2w3e\",\n",
    "    \"12345678\",\n",
    "]\n",
    "```\n",
    "---\n",
    "\n",
    "```python\n",
    "# 1\n",
    "def list_average(l):\n",
    "    return sum(l) / len(l)\n",
    "\n",
    "# 2\n",
    "passwds_len = []\n",
    "for i in range(len(passwds)):\n",
    "    passwds_len.append(len(passwds[i]))\n",
    "\n",
    "# 3\n",
    "print(list_average(passwds_len))\n",
    "```"
   ]
  },
  {
   "cell_type": "markdown",
   "metadata": {},
   "source": [
    "---\n",
    "## **Task 5.2**\n",
    "\n",
    "Write a function which calculates avergage heigth of men and woman given the input data and return a list `[avg_m_heigth, avg_f_heigth]` of two values.\n",
    "\n",
    "```python\n",
    "heigth = ['M:179', 'M:162', 'M:169', 'F:154', 'F:167',\n",
    "          'F:182', 'F:190', 'F:155', 'F:172', 'F:152',\n",
    "          'F:184', 'M:186', 'F:187', 'F:173', 'M:185']\n",
    "```\n",
    "Steps: \n",
    "- create empty lists `m_heigth` and `f_heigth` that will store men and woman heigth separately\n",
    "- iterate over heigth list and for each entry transform a strings into (1) letter `F` or `M` and (2) heigth in centimeters (as int)\n",
    "- based on a letter add heigth into one of heigth lists\n",
    "- create a function and return output\n",
    "\n",
    "---"
   ]
  },
  {
   "cell_type": "markdown",
   "metadata": {},
   "source": [
    "## Slicing\n",
    "\n",
    "- works similar to `range()` function\n",
    "- syntax: `l[start:stop:step]`\n",
    "- `start`, `stop` and `step` have to be integers (can be negative)\n",
    "- `start` defaults to 0, `stop` defaults to `len(l)` and step defaults to 1, default values can be omitted\n",
    "\n",
    "```python\n",
    "l = list(\"abcdefghij\")\n",
    "\n",
    "# first three items (or l[:3])\n",
    "print(l[0:3]) \n",
    "\n",
    "# last three items\n",
    "print(l[-3:]) \n",
    "\n",
    "# all odd items\n",
    "print(l[::2]) \n",
    "\n",
    "# all even items\n",
    "print(l[1::2]) \n",
    "\n",
    "# items from 7 to 2 (reversed; both ends included)\n",
    "print(l[6:1:-1]) \n",
    "```"
   ]
  },
  {
   "cell_type": "markdown",
   "metadata": {},
   "source": [
    "---\n",
    "## **Quiz 5.1**\n",
    "\n",
    "```python\n",
    "l = ['a', 'b', 'c', 'd', 'e', 'f', 'g', 'h', 'i', 'j']\n",
    "print(l[-5::-2])\n",
    "```\n",
    "\n",
    "---"
   ]
  },
  {
   "cell_type": "markdown",
   "metadata": {},
   "source": [
    "## Changing lists\n",
    "\n",
    "- slicing can be used to change any / all list elemens\n",
    "\n",
    "```python\n",
    "# Change single value\n",
    "l = [1, 2, 3]\n",
    "l[1] = 999\n",
    "print(l)\n",
    "\n",
    "# Change multiple values\n",
    "l = [1, 2, 3, 4, 5]\n",
    "l[2:-1] = [11, 22, 33, 44, 55] # lenght can be different\n",
    "print(l)\n",
    "\n",
    "# Delete single value\n",
    "l = [1, 2, 3]\n",
    "del l[-1]\n",
    "print(l)\n",
    "\n",
    "# Delete multiple values\n",
    "l = [1, 2, 3, 4, 5]\n",
    "del l[2:-1]\n",
    "print(l)\n",
    "```"
   ]
  },
  {
   "cell_type": "markdown",
   "metadata": {},
   "source": [
    "---\n",
    "## **Quiz 5.2**\n",
    "\n",
    "```python\n",
    "l = list(\"Python\")\n",
    "del l[:2]\n",
    "del l[1]\n",
    "l[1:1] = ['o', 'r']\n",
    "l[5:5] = ['t', 'o']\n",
    "print(l)\n",
    "```\n",
    "---"
   ]
  },
  {
   "cell_type": "markdown",
   "metadata": {},
   "source": [
    "## More list operations\n",
    "- adding new value to specific position in the list: `l.insert(position, value)`\n",
    "- removing second element from the list: `del l[1]`\n",
    "- concatenating two lists: `l1 + l2`\n",
    "- replicating a list: `l * 3`\n",
    "- checking if an item is in the list `item in l` (returns `True` or `False`)\n",
    "- checking if an item is not in the list `item not in l` (returns `True` or `False`)\n",
    "- if list contains only numbers you can use `min()`, `max()` and `sum()` functions\n",
    "- get the index of specific value `l.index(value)`\n",
    "- return new sorted list `sorted(l)`\n",
    "- sort list in place `l.sort()`"
   ]
  },
  {
   "cell_type": "markdown",
   "metadata": {},
   "source": [
    "---\n",
    "## **Quiz 5.3**\n",
    "\n",
    "```python\n",
    "l = [1, 2]\n",
    "l = l + l\n",
    "del l[0]\n",
    "l.append(3)\n",
    "del l[-1]\n",
    "l = l * 2\n",
    "print(l)\n",
    "```\n",
    "---"
   ]
  },
  {
   "cell_type": "markdown",
   "metadata": {},
   "source": [
    "---\n",
    "## **Task 5.3**\n",
    "\n",
    "Create function `ski_jump_score(judges_points, distance, k_point)` which calulates and returns total number of points that ski jumper is awarded for his jump. Briefly, total score is score for distance (`1.8 * (distance - k_point)`) plus score from judges points (highest and lowest score is discarded and the sum is calculated) plus initial number of 60 points. You can read more [here](https://en.wikipedia.org/wiki/Ski_jumping). Assume default value for `k_point = 120`.\n",
    "\n",
    "Example:\n",
    "```python\n",
    "> ski_jump_score([17, 15, 18, 17, 19], 126)\n",
    "> 122.8\n",
    "```\n",
    "---"
   ]
  },
  {
   "cell_type": "code",
   "execution_count": 9,
   "metadata": {},
   "outputs": [
    {
     "name": "stdout",
     "output_type": "stream",
     "text": [
      "122.8\n"
     ]
    }
   ],
   "source": [
    "def ski_jump_score(judges_points, distance, k_point=120):\n",
    "    '''Caluclates ski jumper score for a jump.'''\n",
    "    base_score = 60\n",
    "    distance_score = 1.8 * (distance - k_point)\n",
    "    judges_score = sum(sorted(judges_points)[1:-1])\n",
    "    return base_score + distance_score + judges_score\n",
    "\n",
    "print(ski_jump_score([17, 15, 18, 17, 19], 126))"
   ]
  },
  {
   "cell_type": "markdown",
   "metadata": {},
   "source": [
    "---\n",
    "## **Task 5.4**\n",
    "\n",
    "\n",
    "Write a script that asks the user to input shopping information: product names and product prices. User can specify as many products as he wants. Script should print (nicely formatted) aggregated informations about the products.\n",
    "\n",
    "Running script should first prompt user for products:\n",
    "```\n",
    "> Product 1 name: \n",
    "> Bread \n",
    "> Product 1 price:\n",
    "> 3\n",
    "> Product 2 name (ENTER to skip):\n",
    "> Ham\n",
    "> Product 2 price:\n",
    "> 5\n",
    "> Product 3 name (ENTER to skip):\n",
    "> Pepsi\n",
    "> Product 3 price: \n",
    "> 5.50\n",
    "> Product 4 name (ENTER to skip):\n",
    "> \n",
    "```\n",
    "\n",
    "And then output statistics:\n",
    "```\n",
    "Cheapest...........................Bread\n",
    "Most expensive.....................Pepsi\n",
    "Avg. price..........................4.17\n",
    "```\n",
    "\n",
    "You may need:\n",
    "- string method `.ljust(num, character)` will right-pad the string with repeated characters until the lenght reach `num` total characters\n",
    "- similarly, for left padding you can use `.rjust(num, character)`\n",
    "- example: `'hello'.ljust(15, '*')` will return string `'hello**********'`\n",
    "\n",
    "---"
   ]
  },
  {
   "cell_type": "code",
   "execution_count": 10,
   "metadata": {},
   "outputs": [
    {
     "name": "stdin",
     "output_type": "stream",
     "text": [
      "Product 1 name  Cola\n",
      "Product 1 price: 4\n",
      "Product 2 name (ENTER to skip) Fanta\n",
      "Product 2 price: 1\n",
      "Product 3 name (ENTER to skip) Sprite\n",
      "Product 3 price: 7\n",
      "Product 4 name (ENTER to skip) \n"
     ]
    },
    {
     "name": "stdout",
     "output_type": "stream",
     "text": [
      "\n",
      "Cheapest...........................Fanta\n",
      "Most expensive....................Sprite\n",
      "Avg. price..........................4.00\n"
     ]
    }
   ],
   "source": [
    "product_names = []\n",
    "product_prices = []\n",
    "\n",
    "i = 1\n",
    "while True:\n",
    "    product_name = input(f'Product {i} name {\"(ENTER to skip)\" if i > 1 else \"\"}')\n",
    "    if product_name == '':\n",
    "        break\n",
    "    product_names.append(product_name)\n",
    "\n",
    "    product_price = input(f'Product {i} price:')\n",
    "    product_prices.append(float(product_price))\n",
    "\n",
    "    i += 1\n",
    "\n",
    "if product_names:\n",
    "\n",
    "    # Calculate statistics \n",
    "    idx_cheap = product_prices.index(min(product_prices))    \n",
    "    product_cheap = product_names[idx_cheap]\n",
    "    idx_expen = product_prices.index(max(product_prices))\n",
    "    product_expen = product_names[idx_expen]\n",
    "    avg_price = sum(product_prices) / len(product_prices)\n",
    "\n",
    "    # Print statistics\n",
    "    print('')\n",
    "    print('Cheapest'.ljust(20, '.') + product_cheap.rjust(20, '.'))\n",
    "    print('Most expensive'.ljust(20, '.') + product_expen.rjust(20, '.'))\n",
    "    print('Avg. price'.ljust(20, '.') + f'{avg_price:.2f}'.rjust(20, '.'))"
   ]
  },
  {
   "cell_type": "markdown",
   "metadata": {},
   "source": [
    "## Using for loop with lists\n",
    "\n",
    "- you can use for loop to loop directly over list items\n",
    "- if you want to loop over list items having access to the index at the same time use `enumerate` function"
   ]
  },
  {
   "cell_type": "code",
   "execution_count": 11,
   "metadata": {},
   "outputs": [
    {
     "name": "stdout",
     "output_type": "stream",
     "text": [
      "ball\n",
      "whistle\n",
      "box\n",
      "ball\n",
      "whistle\n",
      "box\n",
      "item 0: ball\n",
      "item 1: whistle\n",
      "item 2: box\n"
     ]
    }
   ],
   "source": [
    "items = ['ball', 'whistle', 'box']\n",
    "\n",
    "# instead of this\n",
    "for i in range(len(items)):\n",
    "    print(items[i])\n",
    "\n",
    "# ... you can do this\n",
    "for item in items:\n",
    "    print(item)\n",
    "    \n",
    "# using enunmerate\n",
    "for i, item in enumerate(items):\n",
    "    print(f'item {i}: {item}')"
   ]
  },
  {
   "cell_type": "markdown",
   "metadata": {},
   "source": [
    "---\n",
    "## **Task 5.5**\n",
    "\n",
    "Kata (7 kyu): [Maximum Product](https://www.codewars.com/kata/5a4138acf28b82aa43000117/train/python)\n",
    "\n",
    "Given an array of integers, find the maximum product obtained from multiplying 2 adjacent numbers in the array.\n",
    "\n",
    "Example:\n",
    "\n",
    "```\n",
    "adjacent_element_product([9, 5, 10, 2, 24, -1, -48]) # should return 50\n",
    "```\n",
    "---"
   ]
  },
  {
   "cell_type": "code",
   "execution_count": 12,
   "metadata": {},
   "outputs": [
    {
     "data": {
      "text/plain": [
       "50"
      ]
     },
     "execution_count": 12,
     "metadata": {},
     "output_type": "execute_result"
    }
   ],
   "source": [
    "def adjacent_elements_product(array):\n",
    "    products = []\n",
    "    for i in range(len(array) - 1):\n",
    "        products.append(array[i] * array[i+1])\n",
    "    return max(products)\n",
    "\n",
    "adjacent_elements_product([9, 5, 10, 2, 24, -1, -48])"
   ]
  },
  {
   "cell_type": "markdown",
   "metadata": {},
   "source": [
    "---\n",
    "## **Task 5.6**\n",
    "\n",
    "Kata (7 kyu): [Row Weights](https://www.codewars.com/kata/5abd66a5ccfd1130b30000a9/train/python)\n",
    "\n",
    "Several people are standing in a row divided into two teams. The first person goes into team 1, the second goes into team 2, the third goes into team 1, and so on.\n",
    "\n",
    "Given an array of positive integers (the weights of the people), return a new array / tuple of two integers, where the first one is the total weight of team 1, and the second one is the total weight of team 2.\n",
    "\n",
    "Example:\n",
    "\n",
    "```\n",
    "row_weights([50, 60, 70, 80]) # should return (120, 140)\n",
    "```\n",
    "---"
   ]
  },
  {
   "cell_type": "code",
   "execution_count": 13,
   "metadata": {},
   "outputs": [
    {
     "data": {
      "text/plain": [
       "(120, 140)"
      ]
     },
     "execution_count": 13,
     "metadata": {},
     "output_type": "execute_result"
    }
   ],
   "source": [
    "def row_weights(array):\n",
    "    team1 = [] \n",
    "    team2 = []\n",
    "    for i, weight in enumerate(array):\n",
    "        if i % 2 == 0:\n",
    "            team1.append(weight)\n",
    "        else:\n",
    "            team2.append(weight)\n",
    "    return (sum(team1), sum(team2))\n",
    "\n",
    "row_weights([50, 60, 70, 80])"
   ]
  },
  {
   "cell_type": "markdown",
   "metadata": {},
   "source": [
    "---\n",
    "## **Task 5.7**\n",
    "\n",
    "Kata (7 kyu): [Peak array index](https://www.codewars.com/kata/5a61a846cadebf9738000076)\n",
    "\n",
    "Given an array of ints, return the index such that the sum of the elements to the right of that index equals the sum of the elements to the left of that index. If there is no such index, return -1. If there is more than one such index, return the left-most index.\n",
    "\n",
    "Example:\n",
    "\n",
    "```\n",
    "peak([1, 2, 3, 5, 3, 2, 1]) # should return 3, because 1+2+3 = 3+2+1\n",
    "peak([1, 12, 3, 3, 6, 3, 1]) # should return 2, because 1+12 = 3+6+3+1\n",
    "peak([10, 20, 30, 40]) # should return -1\n",
    "```\n",
    "---"
   ]
  },
  {
   "cell_type": "code",
   "execution_count": 14,
   "metadata": {},
   "outputs": [
    {
     "name": "stdout",
     "output_type": "stream",
     "text": [
      "3\n",
      "2\n",
      "-1\n"
     ]
    }
   ],
   "source": [
    "def peak(array):\n",
    "    for i in range(len(array)):\n",
    "        if sum(array[:i]) == sum(array[i+1:]):\n",
    "            return i\n",
    "    return -1\n",
    "        \n",
    "print(peak([1, 2, 3, 5, 3, 2, 1]))\n",
    "print(peak([1, 12, 3, 3, 6, 3, 1]))\n",
    "print(peak([10, 20, 30, 40]))"
   ]
  }
 ],
 "metadata": {
  "kernelspec": {
   "display_name": "Python 3",
   "language": "python",
   "name": "python3"
  },
  "language_info": {
   "codemirror_mode": {
    "name": "ipython",
    "version": 3
   },
   "file_extension": ".py",
   "mimetype": "text/x-python",
   "name": "python",
   "nbconvert_exporter": "python",
   "pygments_lexer": "ipython3",
   "version": "3.8.3"
  }
 },
 "nbformat": 4,
 "nbformat_minor": 4
}

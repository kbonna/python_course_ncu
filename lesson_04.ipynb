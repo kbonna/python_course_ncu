{
 "cells": [
  {
   "cell_type": "markdown",
   "metadata": {},
   "source": [
    "# Iteration\n",
    "\n",
    "<img src=\"https://miro.medium.com/max/512/1*M_id2khBccwZ4mIl7ejyzA.png\" width=\"100\"></img>\n",
    "\n",
    "## While loop\n",
    "\n",
    "- while statement allows to execute code over and over until certain condition is true\n",
    "- all variables defined inside `while` loop (and `if` condition block) are globally scoped\n",
    "- if condition is `True` code inside loop is executed and condition is checked again (this can happen indefinitely)\n",
    "- if condition is `False` loop ends and interpreter goes to the first line after the loop\n",
    "- we have to take care that something inside the loop can change the condition to be `False` at some point or we create infinite loop\n",
    "\n",
    "### While syntax\n",
    "\n",
    "```python\n",
    "while condition:\n",
    "    <instructions>\n",
    "    if some_condition_1:\n",
    "        break\n",
    "```\n",
    "\n",
    "- `break` statement exits the loop immediately"
   ]
  },
  {
   "cell_type": "markdown",
   "metadata": {},
   "source": [
    "**Example**\n",
    "\n",
    "Write while loop to simulate rolling a dice 10 times or until hitting 6.\n",
    "\n",
    "\n",
    "**Step 1**. Write a while loop to display numbers from 1 to 10. \n",
    "\n",
    "```python\n",
    "reps = 10\n",
    "i = 1\n",
    "\n",
    "while i <= reps:\n",
    "    \n",
    "    print(i)\n",
    "    i = i + 1\n",
    "```\n",
    "\n",
    "**Step 2**. Roll a dice on each iteration. \n",
    "\n",
    "```python\n",
    "from random import randint\n",
    "\n",
    "reps = 10\n",
    "i = 1\n",
    "\n",
    "while i <= reps:\n",
    "    \n",
    "    print(i, f\"Toss: {randint(1, 6)}\")\n",
    "    i = i + 1\n",
    "```\n",
    "\n",
    "**Step 3**. Break a loop when 6 is rolled. \n",
    "\n",
    "```python\n",
    "from random import randint\n",
    "\n",
    "reps = 10\n",
    "i = 1\n",
    "\n",
    "while i <= reps:\n",
    "    \n",
    "    toss = randint(1, 6)\n",
    "    print(i, f\"Toss: {number}\")\n",
    "    i = i + 1\n",
    "    \n",
    "    if toss == 6:\n",
    "        break\n",
    "```"
   ]
  },
  {
   "cell_type": "markdown",
   "metadata": {},
   "source": [
    "---\n",
    "## **Task 4.1**\n",
    "\n",
    "Write a program which brute force guess user selected password. Password should be three characters long and may only contain lowercase ascii characters. Program should terminate after 1 million incorrect password guesses. If the password is found program should output the password and number of attempts required to correctly guess the password. \n",
    "\n",
    "You may need:\n",
    "- strings with ascii characters: `abcdefghijklmnopqrstuvwxyz`\n",
    "- function choosing random character from the string: `from random import choice`\n",
    "\n",
    "> Does the number of guesses depend on the password complexity or character set lenght? Repeat the program with lowercase and uppercase ascii characters. Take the average of 5 tries with limited and extended character set (post your answers to Quiz)\n",
    "\n",
    "> *Tip.* In Python you can delimit your numbers with underscore `_`, it will be ignored by interpreter.\n",
    "---"
   ]
  },
  {
   "cell_type": "code",
   "execution_count": 70,
   "metadata": {},
   "outputs": [
    {
     "name": "stdin",
     "output_type": "stream",
     "text": [
      "Password (must be 3 characters long) pop\n"
     ]
    },
    {
     "name": "stdout",
     "output_type": "stream",
     "text": [
      "Password pop found after 1266 attempts.\n"
     ]
    }
   ],
   "source": [
    "from random import choice\n",
    "\n",
    "characters = \"abcdefghijklmnopqrstuvwxyz\"\n",
    "max_attempts = 1_000_000\n",
    "attempt = 1\n",
    "\n",
    "# Ask user for password\n",
    "password = input('Password (must be 3 characters long)')\n",
    "\n",
    "while attempt <= max_attempts:\n",
    "\n",
    "    password_guess = choice(characters) + choice(characters) + choice(characters)\n",
    "\n",
    "    if password_guess == password:\n",
    "        print('Password ' + password_guess + ' found after ' + str(attempt) + ' attempts.')\n",
    "        break\n",
    "\n",
    "    attempt += 1"
   ]
  },
  {
   "cell_type": "markdown",
   "metadata": {},
   "source": [
    "### More syntax\n",
    "\n",
    "- `continue` immidiately jumps to the next iteration skipping the rest of the code block\n",
    "- `else` block executes only after main condition is `False` (similarly as in `if` statement)\n",
    "\n",
    "**Examples**:\n",
    "\n",
    "---\n",
    "```python\n",
    "# basic example\n",
    "reps = 5\n",
    "i = 1\n",
    "\n",
    "while i <= reps:\n",
    "    print(i)\n",
    "    i += 1\n",
    "```\n",
    "---\n",
    "```python\n",
    "# break example\n",
    "reps = 5\n",
    "i = 1\n",
    "\n",
    "while i <= reps:\n",
    "    if i == 3:\n",
    "        break    \n",
    "    print(i)\n",
    "    i += 1\n",
    "```\n",
    "---\n",
    "\n",
    "```python    \n",
    "# continue example\n",
    "reps = 5\n",
    "i = 1\n",
    "\n",
    "while i <= reps:\n",
    "    i += 1\n",
    "    if i == 3:\n",
    "        continue    \n",
    "    print(i)\n",
    "```    \n",
    "--- \n",
    "```python    \n",
    "# else example without break\n",
    "reps = 3\n",
    "i = 1\n",
    "\n",
    "while i <= reps:\n",
    "    print(i)\n",
    "    i += 1\n",
    "else:\n",
    "    print('loop has ended')\n",
    "```    \n",
    "---    \n",
    "```python    \n",
    "# else example with break\n",
    "reps = 5\n",
    "i = 1\n",
    "\n",
    "while i <= reps:\n",
    "    if i == 3:\n",
    "        break\n",
    "    print(i)\n",
    "    i += 1\n",
    "else:\n",
    "    print('loop has ended')\n",
    "```    "
   ]
  },
  {
   "cell_type": "markdown",
   "metadata": {},
   "source": [
    "---\n",
    "## **Task 4.2**\n",
    "\n",
    "Write a program using while loop that ask user for password exactly three times. If the password is correct display hello message, otherwise display account blocked message. On each incorrect password give appropriate message with remaining number of attempts. Password is `test123`.\n",
    "\n",
    "---"
   ]
  },
  {
   "cell_type": "code",
   "execution_count": null,
   "metadata": {},
   "outputs": [],
   "source": [
    "attempts = 3\n",
    "\n",
    "while attempts > 0:\n",
    "\n",
    "    attempts -= 1\n",
    "    password = input('Password')\n",
    "    \n",
    "    if password != 'test123':\n",
    "        print('Incorrect password. Remaining attempts: ' + str(attempts))\n",
    "    else:\n",
    "        print('\\nHello! You are logged in.')\n",
    "        break\n",
    "\n",
    "else: \n",
    "    print('\\nAccount blocked')"
   ]
  },
  {
   "cell_type": "markdown",
   "metadata": {},
   "source": [
    "---\n",
    "## **Quiz 4.1**\n",
    "\n",
    "```python\n",
    "n = 0\n",
    "i = 5\n",
    "while i > n:\n",
    "    i -= 1\n",
    "    if i % 2 == 0:\n",
    "        continue\n",
    "    print(i)\n",
    "else:\n",
    "    print(i)\n",
    "```\n",
    "---"
   ]
  },
  {
   "cell_type": "markdown",
   "metadata": {},
   "source": [
    "## For loop\n",
    "\n",
    "- `while` loop keeps going as long as certain condition is `True`. \n",
    "- `for` loop executes portion of code certain number of times \n",
    "\n",
    "**C#** \n",
    "```c#\n",
    "for (int i = 0; i < 5; i++)\n",
    "{\n",
    "    Console.WriteLine(\"i = {0}\", i);\n",
    "}\n",
    "```\n",
    "\n",
    "**Python**\n",
    "```python\n",
    "for i in range(5):\n",
    "    print(f\"i = {i}\")\n",
    "```\n",
    "\n",
    "General syntax:\n",
    "```python\n",
    "for variable_name in range(start, stop, step):\n",
    "    <instructions>\n",
    "```\n",
    "\n",
    "- statements `break`, `continue` and `else` can also be used with for loops\n",
    "\n",
    "## Range function\n",
    "\n",
    "Range function is flexible and allows to easily iterate over specified range of integers.\n",
    "\n",
    "`range(5)`: 0, 1, 2, 3, 4\n",
    "\n",
    "```python\n",
    "for i in range(5):\n",
    "    print(i)\n",
    "```\n",
    "\n",
    "`range(5, 10)`: 5, 6, 7, 8, 9\n",
    "\n",
    "```python\n",
    "for i in range(5, 10):\n",
    "    print(i)\n",
    "```\n",
    "\n",
    "`range(5, 12, 2)`: 5, 7, 9, 11 \n",
    "\n",
    "```python\n",
    "for i in range(5, 12, 2):\n",
    "    print(i)\n",
    "```\n",
    "\n",
    "- start is always inclusive and stop is always exclusive\n",
    "- in Python indexing always starts from zero"
   ]
  },
  {
   "cell_type": "markdown",
   "metadata": {},
   "source": [
    "---\n",
    "## **Quiz 4.2**\n",
    "\n",
    "```python\n",
    "for i in range(100, 95, -1):\n",
    "    print(i)\n",
    "```\n",
    "---"
   ]
  },
  {
   "cell_type": "markdown",
   "metadata": {},
   "source": [
    "**Example.**\n",
    "\n",
    "Sum all numbers from 1 to 1000.\n",
    "\n",
    "```python\n",
    "s = 0\n",
    "\n",
    "for i in range(1, 1001):\n",
    "    s += i\n",
    "    \n",
    "print(f\"1 + 2 + ... + 1000 = {s}\")\n",
    "```"
   ]
  },
  {
   "cell_type": "markdown",
   "metadata": {},
   "source": [
    "---\n",
    "## **Task 4.3**\n",
    "\n",
    "Sum all negative numbers from -1 to -1000 **that doesn't contain digit 1**.\n",
    "\n",
    "You may need:\n",
    "- checking wheter specific letter is inside string: `letter in string`, e.g. `'a' in 'abc'` should return `True`\n",
    "---"
   ]
  },
  {
   "cell_type": "code",
   "execution_count": 75,
   "metadata": {},
   "outputs": [
    {
     "name": "stdout",
     "output_type": "stream",
     "text": [
      "-2 + -3 + -4 + ... + -999 = -395604\n"
     ]
    }
   ],
   "source": [
    "s = 0\n",
    "\n",
    "for i in range(-1000, 0, 1):\n",
    "    if '1' not in str(i):\n",
    "        s += i\n",
    "    \n",
    "print('-2 + -3 + -4 + ... + -999 = ' + str(s))"
   ]
  },
  {
   "cell_type": "markdown",
   "metadata": {},
   "source": [
    "---\n",
    "## **Task 4.4**\n",
    "\n",
    "Use for loop to approximate $\\pi$ using [Leibnitz formula](https://en.wikipedia.org/wiki/Leibniz_formula_for_%CF%80).\n",
    "\n",
    "---"
   ]
  },
  {
   "cell_type": "code",
   "execution_count": 91,
   "metadata": {},
   "outputs": [
    {
     "name": "stdout",
     "output_type": "stream",
     "text": [
      "pi = 3.141590653589692\n"
     ]
    }
   ],
   "source": [
    "s = 0\n",
    "sign = 1\n",
    "\n",
    "for i in range(1, 1_000_000, 2):\n",
    "    s += sign * (1 / i)\n",
    "    sign = sign * (-1)\n",
    "    \n",
    "print(f\"pi = {s * 4}\")"
   ]
  },
  {
   "cell_type": "markdown",
   "metadata": {},
   "source": [
    "## Extras\n",
    "\n",
    "### Two approaches to `while` loop\n",
    "\n",
    "- \"standard\" version:\n",
    "```python\n",
    "i = 1\n",
    "while i <= 5:\n",
    "    print(i)\n",
    "    i += 1\n",
    "```\n",
    "\n",
    "\n",
    "- `while True` vesion:\n",
    "```python\n",
    "i = 1\n",
    "while True:\n",
    "    if i > 5:\n",
    "        break\n",
    "    print(i)\n",
    "    i += 1\n",
    "```"
   ]
  },
  {
   "cell_type": "markdown",
   "metadata": {},
   "source": [
    "---\n",
    "## **Task 4.4**\n",
    "\n",
    "Write a program that selects random number between 1 and 100 (inclusive) and ask user to take subsequent guesses until the number is guessed correctly. After each guess program should give a feedback if guessed number is too high or too low.\n",
    "\n",
    "You may need:\n",
    "- function that returns random intiger from specified range: `from random import randint`\n",
    "\n",
    "> Try to use `while True` loop\n",
    "---"
   ]
  },
  {
   "cell_type": "code",
   "execution_count": 20,
   "metadata": {},
   "outputs": [
    {
     "name": "stdin",
     "output_type": "stream",
     "text": [
      "Guess a number:  50\n"
     ]
    },
    {
     "name": "stdout",
     "output_type": "stream",
     "text": [
      "Too high...\n"
     ]
    },
    {
     "name": "stdin",
     "output_type": "stream",
     "text": [
      "Guess a number:  25\n"
     ]
    },
    {
     "name": "stdout",
     "output_type": "stream",
     "text": [
      "Too low...\n"
     ]
    },
    {
     "name": "stdin",
     "output_type": "stream",
     "text": [
      "Guess a number:  37\n"
     ]
    },
    {
     "name": "stdout",
     "output_type": "stream",
     "text": [
      "Too low...\n"
     ]
    },
    {
     "name": "stdin",
     "output_type": "stream",
     "text": [
      "Guess a number:  44\n"
     ]
    },
    {
     "name": "stdout",
     "output_type": "stream",
     "text": [
      "Too high...\n"
     ]
    },
    {
     "name": "stdin",
     "output_type": "stream",
     "text": [
      "Guess a number:  40\n"
     ]
    },
    {
     "name": "stdout",
     "output_type": "stream",
     "text": [
      "Bravo! You guessed correctly.\n"
     ]
    }
   ],
   "source": [
    "from random import randint\n",
    "\n",
    "correct_number = randint(1, 100)\n",
    "\n",
    "while True:\n",
    "    guessed_number = int(input('Guess a number: '))\n",
    "    if guessed_number == correct_number:\n",
    "        print('Bravo! You guessed correctly.')\n",
    "        break\n",
    "    else:\n",
    "        if guessed_number > correct_number:\n",
    "            print('Too high...')\n",
    "        else: \n",
    "            print('Too low...')"
   ]
  },
  {
   "cell_type": "markdown",
   "metadata": {},
   "source": [
    "---\n",
    "## **Quiz 4.3**\n",
    "\n",
    "```python\n",
    "for i in range(1, 4):\n",
    "    for j in range(i, 4):\n",
    "        print(j)\n",
    "```\n",
    "---"
   ]
  }
 ],
 "metadata": {
  "kernelspec": {
   "display_name": "Python 3",
   "language": "python",
   "name": "python3"
  },
  "language_info": {
   "codemirror_mode": {
    "name": "ipython",
    "version": 3
   },
   "file_extension": ".py",
   "mimetype": "text/x-python",
   "name": "python",
   "nbconvert_exporter": "python",
   "pygments_lexer": "ipython3",
   "version": "3.8.3"
  }
 },
 "nbformat": 4,
 "nbformat_minor": 4
}

{
 "cells": [
  {
   "cell_type": "markdown",
   "metadata": {},
   "source": [
    "# Iteration\n",
    "\n",
    "## While loop statement\n",
    "\n",
    "- while statement allows to execute code over and over until certain condition is true\n",
    "- all variables defined inside `while` loop (and `if` condition block) are globally scoped\n",
    "\n",
    "### While loop syntax\n",
    "\n",
    "```\n",
    "while condition:\n",
    "    <instructions>\n",
    "```\n",
    "\n",
    "Example: print hello world 5 times using while loop\n",
    "\n",
    "```\n",
    "while condition:\n",
    "    <instructions>\n",
    "    if some_condition_1:\n",
    "        break\n",
    "    if some_condition_2:\n",
    "        continue\n",
    "else:\n",
    "    <instructions>\n",
    "```\n",
    "- `break` statement exits the loop immediately\n",
    "- `continue` statement jumps to next iteration immediately\n",
    "- `else` block is executed only if `break` was **not executed** \n",
    "\n",
    "Examples with break else and continue:"
   ]
  },
  {
   "cell_type": "code",
   "execution_count": 3,
   "metadata": {},
   "outputs": [
    {
     "name": "stdout",
     "output_type": "stream",
     "text": [
      "1\n",
      "2\n",
      "3\n",
      "4\n",
      "5\n",
      "1\n",
      "2\n",
      "2\n",
      "4\n",
      "5\n",
      "6\n",
      "1\n",
      "2\n",
      "3\n",
      "loop has ended\n",
      "1\n",
      "2\n"
     ]
    }
   ],
   "source": [
    "# basic example\n",
    "reps = 5\n",
    "i = 1\n",
    "\n",
    "while i <= reps:\n",
    "    print(i)\n",
    "    i += 1\n",
    "    \n",
    "# break example\n",
    "reps = 5\n",
    "i = 1\n",
    "\n",
    "while i <= reps:\n",
    "    if i == 3:\n",
    "        break    \n",
    "    print(i)\n",
    "    i += 1    \n",
    "    \n",
    "# continue example\n",
    "reps = 5\n",
    "i = 1\n",
    "\n",
    "while i <= reps:\n",
    "    i += 1\n",
    "    if i == 3:\n",
    "        continue    \n",
    "    print(i)\n",
    "    \n",
    "# else example without break\n",
    "reps = 3\n",
    "i = 1\n",
    "\n",
    "while i <= reps:\n",
    "    print(i)\n",
    "    i += 1\n",
    "else:\n",
    "    print('loop has ended')\n",
    "    \n",
    "# else example with break\n",
    "reps = 5\n",
    "i = 1\n",
    "\n",
    "while i <= reps:\n",
    "    if i == 3:\n",
    "        break\n",
    "    print(i)\n",
    "    i += 1\n",
    "else:\n",
    "    print('loop has ended')    "
   ]
  },
  {
   "cell_type": "markdown",
   "metadata": {},
   "source": [
    "---\n",
    "## **Quiz 3**\n",
    "\n",
    "```python\n",
    "n = 0\n",
    "i = 5\n",
    "while i > n:\n",
    "    i -= 1\n",
    "    if i % 2 == 0:\n",
    "        continue\n",
    "    print(i)\n",
    "else:\n",
    "    print(i)\n",
    "```\n",
    "---"
   ]
  },
  {
   "cell_type": "markdown",
   "metadata": {},
   "source": [
    "---\n",
    "## **Task 4**\n",
    "\n",
    "Write a program using while loop that ask user for password exactly three times. If the password is correct display hello message, otherwise display account blocked message. On each incorrect password give appropriate message with remaining number of attempts. Password is `test123`.\n",
    "\n",
    "---"
   ]
  },
  {
   "cell_type": "code",
   "execution_count": null,
   "metadata": {},
   "outputs": [],
   "source": [
    "attempts = 3\n",
    "\n",
    "while attempts > 0:\n",
    "\n",
    "    attempts -= 1\n",
    "    password = input('Password')\n",
    "    \n",
    "    if password != 'test123':\n",
    "        print('Incorrect password. Remaining attempts: ' + str(attempts))\n",
    "    else:\n",
    "        print('\\nHello! You are logged in.')\n",
    "        break\n",
    "\n",
    "else: \n",
    "    print('\\nAccount blocked')"
   ]
  },
  {
   "cell_type": "markdown",
   "metadata": {},
   "source": [
    "---\n",
    "## **Task 5**\n",
    "\n",
    "Write a program which brute force guess user selected password. Password should be three characters long and may contain lowercase ascii characters, numbers and uppercase ascii characters. Program should terminate after 1 million incorrect password guesses. If the password is found program should output the password and number of attempts required to correctly guess the password. \n",
    "\n",
    "You may need:\n",
    "- strings with ascii characters and digits: `from string import ascii_lowercase, ascii_uppercase, digits`\n",
    "- function choosing random character from the string: `from random import choice`\n",
    "\n",
    "> *Play around with different character sets and see how it impacts number of guesses required to find correct password*\n",
    "\n",
    "> Does the number of guesses depend on the password complexity or character set lenght?\n",
    "\n",
    "> In Python you can delimit your numbers with underscore `_`, it will be ignored by interpreter.\n",
    "---"
   ]
  },
  {
   "cell_type": "code",
   "execution_count": null,
   "metadata": {},
   "outputs": [],
   "source": [
    "from string import ascii_lowercase, ascii_uppercase, digits\n",
    "from random import choice\n",
    "\n",
    "max_attempts = 1_000_000\n",
    "attempt = 1\n",
    "\n",
    "characters = ascii_lowercase + ascii_uppercase + digits\n",
    "\n",
    "password = input('Password (must be 3 characters long)')\n",
    "\n",
    "while attempt <= max_attempts:\n",
    "\n",
    "    password_guess = choice(characters) + choice(characters) + choice(characters)\n",
    "\n",
    "    if password_guess == password:\n",
    "        print('Password ' + password_guess + ' found after ' + str(attempt) + ' attempts.')\n",
    "        break\n",
    "\n",
    "    attempt += 1\n",
    "\n",
    "else:\n",
    "    print('Maximum number of attempts reached, password not found')"
   ]
  },
  {
   "cell_type": "markdown",
   "metadata": {},
   "source": [
    "## For loop\n",
    "\n",
    "The `while` loop keeps going as long as certain condition is `True`. If  you want to execute portion of code certain number of times you should use a `for` loop statement with the `range()` function.\n",
    "\n",
    "**C#** \n",
    "```\n",
    "for (int i = 0; i < 5; i++)\n",
    "{\n",
    "    Console.WriteLine(\"i = {0}\", i);\n",
    "}\n",
    "```\n",
    "\n",
    "**Python**\n",
    "```\n",
    "for i in range(5):\n",
    "    print('i = ' + str(i))\n",
    "```\n",
    "\n",
    "General syntax:\n",
    "```\n",
    "for variable_name in range(start, stop, step):\n",
    "    <instructions>\n",
    "```\n",
    "\n",
    "- statements `break`, `continue` and `else` can also be used with for loops\n",
    "\n",
    "## Range function\n",
    "\n",
    "Range function is flexible and allows to easily iterate over specified range of integers.\n",
    "\n",
    "`range(5)`: 0, 1, 2, 3, 4\n",
    "\n",
    "`range(5, 10)`: 5, 6, 7, 8, 9\n",
    "\n",
    "`range(5, 12, 2)`: 5, 7, 9, 11 \n",
    "\n",
    "- start is always inclusive and stop is always exclusive\n",
    "- in Python indexing always starts from zero"
   ]
  },
  {
   "cell_type": "code",
   "execution_count": 1,
   "metadata": {},
   "outputs": [
    {
     "name": "stdout",
     "output_type": "stream",
     "text": [
      "range(5)\n",
      "0\n",
      "1\n",
      "2\n",
      "3\n",
      "4\n",
      "range(5, 10)\n",
      "5\n",
      "6\n",
      "7\n",
      "8\n",
      "9\n",
      "range(5, 12, 2)\n",
      "5\n",
      "7\n",
      "9\n",
      "11\n"
     ]
    }
   ],
   "source": [
    "print('range(5)')\n",
    "for i in range(5):\n",
    "    print(i)\n",
    "    \n",
    "print('range(5, 10)')\n",
    "for i in range(5, 10):\n",
    "    print(i)\n",
    "\n",
    "print('range(5, 12, 2)')\n",
    "for i in range(5, 12, 2):\n",
    "    print(i)"
   ]
  },
  {
   "cell_type": "markdown",
   "metadata": {},
   "source": [
    "---\n",
    "## **Quiz 1**\n",
    "\n",
    "```\n",
    "for i in range(100, 95, -1):\n",
    "    print(i)\n",
    "```\n",
    "---"
   ]
  },
  {
   "cell_type": "code",
   "execution_count": 2,
   "metadata": {},
   "outputs": [
    {
     "name": "stdout",
     "output_type": "stream",
     "text": [
      "100\n",
      "99\n",
      "98\n",
      "97\n",
      "96\n"
     ]
    }
   ],
   "source": [
    "for i in range(100, 95, -1):\n",
    "    print(i)"
   ]
  },
  {
   "cell_type": "markdown",
   "metadata": {},
   "source": [
    "---\n",
    "## **Task 1**\n",
    "\n",
    "Sum all numbers from 1 to 1000.\n",
    "\n",
    "---"
   ]
  },
  {
   "cell_type": "code",
   "execution_count": 3,
   "metadata": {},
   "outputs": [
    {
     "name": "stdout",
     "output_type": "stream",
     "text": [
      "1 + 2 + ... + 1000 = 500500\n"
     ]
    }
   ],
   "source": [
    "s = 0\n",
    "\n",
    "for i in range(1, 1001):\n",
    "    s += i\n",
    "    \n",
    "print('1 + 2 + ... + 1000 = ' + str(s))"
   ]
  },
  {
   "cell_type": "markdown",
   "metadata": {},
   "source": [
    "---\n",
    "## **Task 2**\n",
    "\n",
    "Sum all numbers **that doesn't contain digit 1** from 1 to 1000.\n",
    "\n",
    "You may need:\n",
    "- checking wheter specific letter is inside string: `letter in string`, e.g. `'a' in 'abc'` should return `True`\n",
    "---"
   ]
  },
  {
   "cell_type": "code",
   "execution_count": 4,
   "metadata": {},
   "outputs": [
    {
     "name": "stdout",
     "output_type": "stream",
     "text": [
      "2 + 3 + ... + 9 + 20 + 22 + ... + 998 + 999 = 395604\n"
     ]
    }
   ],
   "source": [
    "s = 0\n",
    "\n",
    "for i in range(1, 1001):\n",
    "    if '1' not in str(i):\n",
    "        s += i\n",
    "    \n",
    "print('2 + 3 + ... + 9 + 20 + 22 + ... + 998 + 999 = ' + str(s))"
   ]
  },
  {
   "cell_type": "markdown",
   "metadata": {},
   "source": [
    "> *`break` statement can be also used inside for loop*"
   ]
  },
  {
   "cell_type": "markdown",
   "metadata": {},
   "source": [
    "- example of using break in for loop\n",
    "- user gives a digit, loop compares each digit with user digit, if it is found it breaks"
   ]
  },
  {
   "cell_type": "code",
   "execution_count": 5,
   "metadata": {},
   "outputs": [
    {
     "name": "stdin",
     "output_type": "stream",
     "text": [
      "Select a digit: 5\n"
     ]
    },
    {
     "name": "stdout",
     "output_type": "stream",
     "text": [
      "0 is not my_digit\n",
      "1 is not my_digit\n",
      "2 is not my_digit\n",
      "3 is not my_digit\n",
      "4 is not my_digit\n",
      "5 is my_digit\n"
     ]
    }
   ],
   "source": [
    "my_digit = input('Select a digit:')\n",
    "my_digit = int(my_digit)\n",
    "\n",
    "for digit in range(10):\n",
    "    if digit == my_digit:\n",
    "        print(str(digit) + ' is my_digit')\n",
    "        break\n",
    "    else:\n",
    "        print(str(digit) + ' is not my_digit')"
   ]
  },
  {
   "cell_type": "code",
   "execution_count": 6,
   "metadata": {},
   "outputs": [
    {
     "name": "stdout",
     "output_type": "stream",
     "text": [
      "0\n",
      "1\n",
      "2\n",
      "4\n",
      "for loop has ended\n"
     ]
    }
   ],
   "source": [
    "for i in range(5):\n",
    "    if i == 3:\n",
    "        continue\n",
    "    print(i)\n",
    "else:\n",
    "    print('for loop has ended')"
   ]
  },
  {
   "cell_type": "markdown",
   "metadata": {},
   "source": [
    "## Live coding\n",
    "\n",
    "Using data from October 2020 Covid-19 cases in Poland estimate epidemic growth rate (mean daily increase in new cases as percentage) and use this value to estimate cases for the upcoming days. Ignore testing limits, recovered and immune patients and population limits. Stop estimating when expected number of cases will exceed 100 000.\n",
    "\n",
    "> *Lists enable to represent sequential data. You can access list elements using indexing, e.g. `l[0]` will return first list item. Indexing works similar to range function.*"
   ]
  },
  {
   "cell_type": "code",
   "execution_count": 7,
   "metadata": {},
   "outputs": [
    {
     "name": "stdout",
     "output_type": "stream",
     "text": [
      "Expected cases in 1 days = 22208\n",
      "Expected cases in 2 days = 24470\n",
      "Expected cases in 3 days = 26962\n",
      "Expected cases in 4 days = 29708\n",
      "Expected cases in 5 days = 32734\n",
      "Expected cases in 6 days = 36068\n",
      "Expected cases in 7 days = 39741\n",
      "Expected cases in 8 days = 43789\n",
      "Expected cases in 9 days = 48249\n",
      "Expected cases in 10 days = 53162\n",
      "Expected cases in 11 days = 58577\n",
      "Expected cases in 12 days = 64543\n",
      "Expected cases in 13 days = 71116\n",
      "Expected cases in 14 days = 78359\n",
      "Expected cases in 15 days = 86339\n",
      "Expected cases in 16 days = 95133\n"
     ]
    }
   ],
   "source": [
    "cases = [1_967, 2_292, 2_367, 1_934, 2_006, 2_236, 3_003, 4_280, 4_739, 5_300,\n",
    "         4_178, 4_394, 5_068, 6_526, 8_099, 7_705, 9_622, 8_536, 7_482, 9_291,\n",
    "         10_040, 12_107, 13_632, 13_628, 11_742, 10_241, 16_300, 18_820, 20_156]\n",
    "\n",
    "change_rate_sum = 0\n",
    "for i in range(len(cases) - 1):\n",
    "    change_rate_sum += cases[i+1] / cases[i]\n",
    "\n",
    "change_rate = change_rate_sum / (len(cases) - 1)\n",
    "\n",
    "day = 1\n",
    "while True:\n",
    "    expected_cases = int(cases[-1] * change_rate ** day)\n",
    "    if expected_cases < 100_000:\n",
    "        print('Expected cases in ' + str(day) + ' days = ' + str(expected_cases))\n",
    "    else:\n",
    "        break\n",
    "    day += 1"
   ]
  },
  {
   "cell_type": "markdown",
   "metadata": {},
   "source": [
    "## String formatting\n",
    "\n",
    "- up to this point we have used string concatenation with `+` and casting numbers into strings using `str()` function\n",
    "- there are more convinient ways to format a string\n",
    "\n",
    "### format method\n",
    "\n",
    "- additional resources about [format method](https://pyformat.info/)\n",
    "- official documentation on [formatting](https://docs.python.org/3.4/library/string.html)"
   ]
  },
  {
   "cell_type": "code",
   "execution_count": 8,
   "metadata": {},
   "outputs": [
    {
     "name": "stdout",
     "output_type": "stream",
     "text": [
      "My name is Python and I am 29 years old\n"
     ]
    }
   ],
   "source": [
    "# Use {} brackets as placeholders for variables\n",
    "print('My name is {} and I am {} years old'.format('Python', 29))"
   ]
  },
  {
   "cell_type": "code",
   "execution_count": 9,
   "metadata": {},
   "outputs": [
    {
     "name": "stdout",
     "output_type": "stream",
     "text": [
      "My name is Python and I am 29 years old\n"
     ]
    }
   ],
   "source": [
    "# You can also explicitely name your variables and use them as keyword arguments\n",
    "print('My name is {name} and I am {age} years old'.format(name='Python', age=29))"
   ]
  },
  {
   "cell_type": "code",
   "execution_count": 10,
   "metadata": {},
   "outputs": [
    {
     "name": "stdout",
     "output_type": "stream",
     "text": [
      "pi is (approximately) equal to 3.142\n"
     ]
    }
   ],
   "source": [
    "# Additional formatting can be done within brackets\n",
    "pi = 3.14159265\n",
    "print('pi is (approximately) equal to {:.3f}'.format(pi))"
   ]
  },
  {
   "cell_type": "code",
   "execution_count": 11,
   "metadata": {},
   "outputs": [
    {
     "name": "stdout",
     "output_type": "stream",
     "text": [
      "Rysy are +2503.00 meters height\n"
     ]
    }
   ],
   "source": [
    "# You can apply more complicated formatting\n",
    "height_of_rysy = 2503\n",
    "print('Rysy are {:+.2f} meters height'.format(height_of_rysy))"
   ]
  },
  {
   "cell_type": "markdown",
   "metadata": {},
   "source": [
    "### f-strings\n",
    "- introduced in Python 3.6\n",
    "- more concise than format() method\n",
    "- preferred way to format strings"
   ]
  },
  {
   "cell_type": "code",
   "execution_count": 12,
   "metadata": {},
   "outputs": [
    {
     "name": "stdout",
     "output_type": "stream",
     "text": [
      "My name is Python and I am 29 years old\n"
     ]
    }
   ],
   "source": [
    "# Basic usage\n",
    "name = 'Python'\n",
    "age = 29\n",
    "print(f'My name is {name} and I am {age} years old')"
   ]
  },
  {
   "cell_type": "code",
   "execution_count": 13,
   "metadata": {},
   "outputs": [
    {
     "name": "stdout",
     "output_type": "stream",
     "text": [
      "pi is (approximately) equal to 3.142\n"
     ]
    }
   ],
   "source": [
    "# Additional formatting\n",
    "pi = 3.14159265\n",
    "print(f'pi is (approximately) equal to {pi:.3f}')"
   ]
  },
  {
   "cell_type": "code",
   "execution_count": 14,
   "metadata": {},
   "outputs": [
    {
     "name": "stdout",
     "output_type": "stream",
     "text": [
      "Rysy are +2503.00 meters height\n"
     ]
    }
   ],
   "source": [
    "# Formatting syntax is the same as for format method\n",
    "print(f'Rysy are {height_of_rysy:+.2f} meters height')"
   ]
  },
  {
   "cell_type": "markdown",
   "metadata": {},
   "source": [
    "---\n",
    "## **Quiz 2**\n",
    "\n",
    "```\n",
    "x = 'abc'\n",
    "print(f'{x:.1}c{x:.2}{x.replace(\"b\", \"d\")}')\n",
    "```\n",
    "---"
   ]
  },
  {
   "cell_type": "markdown",
   "metadata": {},
   "source": [
    "---\n",
    "## **Task 3**\n",
    "\n",
    "Use `for` loop, `range()` function and one of formatting techniques to produce output:\n",
    "\n",
    "```\n",
    "sub-0080\n",
    "sub-0085\n",
    "sub-0090\n",
    "sub-0095\n",
    "sub-0100\n",
    "sub-0105\n",
    "sub-0110\n",
    "sub-0115\n",
    "sub-0120\n",
    "```\n",
    "\n",
    "> *Checking formatting documantiation may be useful*\n",
    "\n",
    "> *This kind of task is often used when analyzing data from subject studies*\n",
    "---"
   ]
  },
  {
   "cell_type": "code",
   "execution_count": 15,
   "metadata": {},
   "outputs": [
    {
     "name": "stdout",
     "output_type": "stream",
     "text": [
      "sub-0080\n",
      "sub-0085\n",
      "sub-0090\n",
      "sub-0095\n",
      "sub-0100\n",
      "sub-0105\n",
      "sub-0110\n",
      "sub-0115\n",
      "sub-0120\n"
     ]
    }
   ],
   "source": [
    "for i in range (80, 125, 5):\n",
    "    print(f'sub-{i:04}')"
   ]
  },
  {
   "cell_type": "markdown",
   "metadata": {},
   "source": [
    "## Importing modules\n",
    "\n",
    "- Python comes with several built-in functions like `len()`, `str()`, `round()` etc.\n",
    "- a lot of additional functionality can be achieved through external modules (packages written by other programmers)\n",
    "- Python comes with extensive **standard library** for achieving various tasks; packages or modules within standard library comes with Python installation and are high-quality code (reliable)\n",
    "- there are numerous third-party libraries for almost any task you can imagine, but quality of these can often be very low (why?)\n",
    "- third-party libraries and packages can be found [here](https://pypi.org/)\n",
    "- third-party libraries and packages can be managed with [pip](https://github.com/pypa/pip)\n",
    "\n",
    "> *Later on we will learn how to write our own modules*\n",
    "\n",
    "> *When you save python scripts you should not use names of standard library modules like `random.py`, `sys.py` or `math.py`*\n",
    "\n",
    "> *Packages can be installed using `pip install <package_name>`*\n",
    "\n",
    "`pip install poker`\n",
    "\n",
    "```\n",
    "from poker import Card\n",
    "\n",
    "c1 = Card.make_random()\n",
    "c2 = Card.make_random()\n",
    "print(c1, c2, c1 > c2)\n",
    "```"
   ]
  },
  {
   "cell_type": "code",
   "execution_count": 16,
   "metadata": {},
   "outputs": [
    {
     "data": {
      "text/plain": [
       "1"
      ]
     },
     "execution_count": 16,
     "metadata": {},
     "output_type": "execute_result"
    }
   ],
   "source": [
    "# import entire module\n",
    "import random\n",
    "random.randint(1, 5)"
   ]
  },
  {
   "cell_type": "code",
   "execution_count": 17,
   "metadata": {},
   "outputs": [
    {
     "data": {
      "text/plain": [
       "4"
      ]
     },
     "execution_count": 17,
     "metadata": {},
     "output_type": "execute_result"
    }
   ],
   "source": [
    "# import entire module with alias\n",
    "import random as rdm\n",
    "rdm.randint(1, 5)"
   ]
  },
  {
   "cell_type": "code",
   "execution_count": 18,
   "metadata": {},
   "outputs": [
    {
     "data": {
      "text/plain": [
       "4"
      ]
     },
     "execution_count": 18,
     "metadata": {},
     "output_type": "execute_result"
    }
   ],
   "source": [
    "# import specific function or functions from module\n",
    "from random import randint, choice\n",
    "randint(1, 5)"
   ]
  },
  {
   "cell_type": "markdown",
   "metadata": {},
   "source": [
    "- packages can contain different types of objects:\n",
    "    - functions\n",
    "    - variables\n",
    "    - classes"
   ]
  },
  {
   "cell_type": "code",
   "execution_count": 19,
   "metadata": {},
   "outputs": [],
   "source": [
    "# we can also import everything from the module, but this is strongly discouraged\n",
    "from random import *\n",
    "# why you shouldn't do this?"
   ]
  },
  {
   "cell_type": "markdown",
   "metadata": {},
   "source": [
    "## Two variants of while loop\n",
    "\n",
    "- \"standard\" version:\n",
    "```\n",
    "i = 1\n",
    "while i <= 5:\n",
    "    print(i)\n",
    "    i += 1\n",
    "```\n",
    "\n",
    "\n",
    "- `while True` vesion:\n",
    "```\n",
    "i = 1\n",
    "while True:\n",
    "    if i > 5:\n",
    "        break\n",
    "    print(i)\n",
    "    i += 1\n",
    "```"
   ]
  },
  {
   "cell_type": "markdown",
   "metadata": {},
   "source": [
    "---\n",
    "## **Task 4**\n",
    "\n",
    "Write a program that selects random number between 1 and 100 (inclusive) and ask user to take subsequent guesses until the number is guessed correctly. After each guess program should give a feedback if guessed number is too high or too low.\n",
    "\n",
    "You may need:\n",
    "- function that returns random intiger from specified range: `from random import randint`\n",
    "\n",
    "> *Try to use `while True` loop*\n",
    "---"
   ]
  },
  {
   "cell_type": "code",
   "execution_count": 20,
   "metadata": {},
   "outputs": [
    {
     "name": "stdin",
     "output_type": "stream",
     "text": [
      "Guess a number:  50\n"
     ]
    },
    {
     "name": "stdout",
     "output_type": "stream",
     "text": [
      "Too high...\n"
     ]
    },
    {
     "name": "stdin",
     "output_type": "stream",
     "text": [
      "Guess a number:  25\n"
     ]
    },
    {
     "name": "stdout",
     "output_type": "stream",
     "text": [
      "Too low...\n"
     ]
    },
    {
     "name": "stdin",
     "output_type": "stream",
     "text": [
      "Guess a number:  37\n"
     ]
    },
    {
     "name": "stdout",
     "output_type": "stream",
     "text": [
      "Too low...\n"
     ]
    },
    {
     "name": "stdin",
     "output_type": "stream",
     "text": [
      "Guess a number:  44\n"
     ]
    },
    {
     "name": "stdout",
     "output_type": "stream",
     "text": [
      "Too high...\n"
     ]
    },
    {
     "name": "stdin",
     "output_type": "stream",
     "text": [
      "Guess a number:  40\n"
     ]
    },
    {
     "name": "stdout",
     "output_type": "stream",
     "text": [
      "Bravo! You guessed correctly.\n"
     ]
    }
   ],
   "source": [
    "from random import randint\n",
    "\n",
    "correct_number = randint(1, 100)\n",
    "\n",
    "while True:\n",
    "    guessed_number = int(input('Guess a number: '))\n",
    "    if guessed_number == correct_number:\n",
    "        print('Bravo! You guessed correctly.')\n",
    "        break\n",
    "    else:\n",
    "        if guessed_number > correct_number:\n",
    "            print('Too high...')\n",
    "        else: \n",
    "            print('Too low...')"
   ]
  },
  {
   "cell_type": "markdown",
   "metadata": {},
   "source": [
    "---\n",
    "## **Quiz 3**\n",
    "\n",
    "```\n",
    "for i in range(1, 4):\n",
    "    for j in range(i, 4):\n",
    "        print(j)\n",
    "```\n",
    "---"
   ]
  },
  {
   "cell_type": "code",
   "execution_count": 21,
   "metadata": {},
   "outputs": [
    {
     "name": "stdout",
     "output_type": "stream",
     "text": [
      "1\n",
      "2\n",
      "3\n",
      "2\n",
      "3\n",
      "3\n"
     ]
    }
   ],
   "source": [
    "for i in range(1, 4):\n",
    "    for j in range(i, 4):\n",
    "        print(j)"
   ]
  },
  {
   "cell_type": "markdown",
   "metadata": {},
   "source": [
    "---\n",
    "## **Task 6**\n",
    "\n",
    "Kata (7 kyu): [Coloured Triangles](https://www.codewars.com/kata/5a25ac6ac5e284cfbe000111/train/python)\n",
    "\n",
    "You may need:\n",
    "- getting first letter from a string `s`: `s[0]`\n",
    "- getting i-th letter from a string `s`: `s[i-1]`\n",
    "- getting last letter from a string `s`: `s[-1]`\n",
    "\n",
    "> You don't have to write a function at this point. Just write a script which solves the puzzle.\n",
    "\n",
    "---"
   ]
  },
  {
   "cell_type": "code",
   "execution_count": 1,
   "metadata": {},
   "outputs": [
    {
     "name": "stdout",
     "output_type": "stream",
     "text": [
      "G\n"
     ]
    }
   ],
   "source": [
    "s = 'RGBBGBRG'\n",
    "\n",
    "while True:\n",
    "    \n",
    "    sn = ''\n",
    "\n",
    "    for i in range(len(s)-1):\n",
    "    \n",
    "        first_letter = s[i]\n",
    "        second_letter = s[i+1]\n",
    "    \n",
    "        if s[i] == s[i+1]:\n",
    "            sn += s[i]\n",
    "        elif s[i] == 'G' and s[i+1] == 'B' or s[i] == 'B' and s[i+1] =='G':\n",
    "            sn += 'R'\n",
    "        elif s[i] == 'G' and s[i+1] == 'R' or s[i] == 'R' and s[i+1] =='G':\n",
    "            sn += 'B'\n",
    "        else:\n",
    "            sn += 'G'\n",
    "\n",
    "    if len(sn) == 1:\n",
    "        print(sn)\n",
    "        break\n",
    "    else:\n",
    "        s = sn"
   ]
  }
 ],
 "metadata": {
  "kernelspec": {
   "display_name": "Python 3",
   "language": "python",
   "name": "python3"
  },
  "language_info": {
   "codemirror_mode": {
    "name": "ipython",
    "version": 3
   },
   "file_extension": ".py",
   "mimetype": "text/x-python",
   "name": "python",
   "nbconvert_exporter": "python",
   "pygments_lexer": "ipython3",
   "version": "3.8.3"
  }
 },
 "nbformat": 4,
 "nbformat_minor": 4
}

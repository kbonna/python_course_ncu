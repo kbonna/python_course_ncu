{
 "cells": [
  {
   "cell_type": "markdown",
   "metadata": {},
   "source": [
    "# Dictionaries"
   ]
  },
  {
   "cell_type": "markdown",
   "metadata": {},
   "source": [
    "- dictionary is a mutable collection of many values\n",
    "- indexes for dictionaries can use many different data types, not just integers\n",
    "- indexes for dictionaries are called **keys**\n",
    "- each key have its associated **value** which together form a **key-value** pair\n",
    "\n",
    "> Useful resources\n",
    "> - https://www.youtube.com/watch?v=daefaLgNkw0\n",
    "> - https://www.youtube.com/watch?v=XCcpzWs-CI4"
   ]
  },
  {
   "cell_type": "code",
   "execution_count": null,
   "metadata": {},
   "outputs": [],
   "source": [
    "# creating a dictorary\n",
    "d = {'python': 1992, 'java': 1993, 'fortran': 1957}\n",
    "\n",
    "# dictionary expression\n",
    "d = dict(python=1992, java=1993, fortran=1957)"
   ]
  },
  {
   "cell_type": "markdown",
   "metadata": {},
   "source": [
    "## Common operations"
   ]
  },
  {
   "cell_type": "code",
   "execution_count": 2,
   "metadata": {},
   "outputs": [
    {
     "name": "stdout",
     "output_type": "stream",
     "text": [
      "{'python': 1992, 'java': 1993, 'fortran': 1957, 'c#': 2000}\n",
      "{'python': 1992, 'java': 1993, 'fortran': 1957, 'c#': 2000, 'pascal': 1970, 'cobol': 1959}\n",
      "1992\n",
      "True\n",
      "dict_keys(['python', 'java', 'fortran', 'c#', 'pascal', 'cobol'])\n",
      "dict_values([1992, 1993, 1957, 2000, 1970, 1959])\n"
     ]
    }
   ],
   "source": [
    "# add new key/value pair\n",
    "d['c#'] = 2000\n",
    "print(d)\n",
    "\n",
    "# bulk add\n",
    "d.update({'pascal': 1970, 'cobol': 1959})\n",
    "print(d)\n",
    "\n",
    "# retrieve value\n",
    "print(d['python'])\n",
    "\n",
    "# check for key\n",
    "print('java' in d)\n",
    "\n",
    "# get all keys\n",
    "print(d.keys())\n",
    "\n",
    "# get all values\n",
    "print(d.values())"
   ]
  },
  {
   "cell_type": "code",
   "execution_count": 3,
   "metadata": {},
   "outputs": [],
   "source": [
    "from time import perf_counter\n",
    "\n",
    "def timer(fn):\n",
    "    def inner(*args, **kwargs):\n",
    "        start = perf_counter()\n",
    "        result = fn(*args, **kwargs)\n",
    "        stop = perf_counter()\n",
    "        msg = f'Function {fn.__name__} took {stop-start} s to complete.'\n",
    "        print(msg)\n",
    "        return result\n",
    "    return inner"
   ]
  },
  {
   "cell_type": "markdown",
   "metadata": {},
   "source": [
    "---\n",
    "## **Task 1**\n",
    "\n",
    "Given following input data:\n",
    "```python\n",
    "from string import ascii_lowercase\n",
    "from itertools import product \n",
    "from random import randint\n",
    "\n",
    "# map, lambda functions, string join method, product\n",
    "names = list(map(lambda x: ''.join(x), product(ascii_lowercase, repeat=3)))\n",
    "\n",
    "# list comprehension\n",
    "numbers = [f'{randint(0, b=999_999):06}' for _ in names]\n",
    "\n",
    "# dictionary comprehension, zip function\n",
    "phonebook = {k: v for k, v in zip(names, numbers)}\n",
    "```\n",
    "\n",
    "Write two functions `find_list` and `find_dict` which finds phone number for specific name required number of times. Each function should take two inputs:\n",
    "- three character name (e.g. `abc` and get, but not return or display, corresponding phone number)\n",
    "- operation of finding a number should be repeated `reps` number of times (default 10,000 times)\n",
    "\n",
    "\n",
    "---"
   ]
  },
  {
   "cell_type": "code",
   "execution_count": 4,
   "metadata": {},
   "outputs": [
    {
     "name": "stdout",
     "output_type": "stream",
     "text": [
      "Function find_list took 0.0009955760033335537 s to complete.\n",
      "Function find_dict took 0.0004999200027668849 s to complete.\n"
     ]
    }
   ],
   "source": [
    "from string import ascii_lowercase\n",
    "from itertools import product \n",
    "from random import randint\n",
    "\n",
    "# map, lambda functions, string join method, product\n",
    "names = list(map(lambda x: ''.join(x), product(ascii_lowercase, repeat=3)))\n",
    "\n",
    "# list comprehension\n",
    "numbers = [f'{randint(0, b=999_999):06}' for _ in names]\n",
    "\n",
    "# dictionary comprehension, zip function\n",
    "phonebook = {k: v for k, v in zip(names, numbers)}\n",
    "\n",
    "@timer\n",
    "def find_list(name, reps=10_000):\n",
    "    for _ in range(reps):\n",
    "        numbers[names.index(name)]\n",
    "        \n",
    "@timer\n",
    "def find_dict(name, reps=10_000):\n",
    "    for _ in range(reps):\n",
    "         phonebook[name]\n",
    "\n",
    "find_list('aaa')\n",
    "find_dict('aaa')"
   ]
  },
  {
   "cell_type": "markdown",
   "metadata": {},
   "source": [
    "- Python dictionaries are based on **hash tables**\n",
    "- hash tables allow for fast data retrieval even for large collections \n",
    "- awersome introduction to [hash tables](https://www.youtube.com/watch?v=KyUTuwz_b7Q)"
   ]
  },
  {
   "cell_type": "markdown",
   "metadata": {},
   "source": [
    "# List comprehension\n",
    "\n",
    "- how do you multiply all list elements by 2?\n",
    "- list comprehension provide clean and easy syntax for **creating new list** out of other list or iterables\n",
    "\n",
    "Let's assume we have a list `l` and we want to create new list with all elements from `l` multiplied by 2. Using for loop we would do:\n",
    "```python\n",
    "l = [7, 2, 14, -5, 0, 9]\n",
    "\n",
    "new_l = []\n",
    "for num in l:\n",
    "    new_l.append(2 * num)\n",
    "```\n",
    "\n",
    "General syntax for list comprehension looks like this\n",
    "\n",
    "```python\n",
    "new_list = [expression for member in iterable (if condition)]\n",
    "```"
   ]
  },
  {
   "cell_type": "code",
   "execution_count": 5,
   "metadata": {},
   "outputs": [
    {
     "name": "stdout",
     "output_type": "stream",
     "text": [
      "[14, 4, 28, -10, 0, 18]\n"
     ]
    }
   ],
   "source": [
    "# Using comprehension we can rewrite that into this:\n",
    "l = [7, 2, 14, -5, 0, 9]\n",
    "\n",
    "new_l = [num * 2 for num in l]\n",
    "print(new_l)"
   ]
  },
  {
   "cell_type": "code",
   "execution_count": 6,
   "metadata": {},
   "outputs": [
    {
     "name": "stdout",
     "output_type": "stream",
     "text": [
      "[True, True, False, False, False, False]\n"
     ]
    }
   ],
   "source": [
    "from math import factorial\n",
    "\n",
    "def is_prime(x):\n",
    "    if x <= 0:\n",
    "        return False\n",
    "    return factorial(x - 1) % x == x - 1\n",
    "\n",
    "new_l = [is_prime(num) for num in l] \n",
    "print(new_l)"
   ]
  },
  {
   "cell_type": "code",
   "execution_count": 7,
   "metadata": {},
   "outputs": [
    {
     "name": "stdout",
     "output_type": "stream",
     "text": [
      "[3, 15, 1]\n"
     ]
    }
   ],
   "source": [
    "# If we want additionally filter even numbers before transformation\n",
    "new_l = [num + 1 for num in l if num % 2 == 0]\n",
    "print(new_l)"
   ]
  },
  {
   "cell_type": "markdown",
   "metadata": {},
   "source": [
    "---\n",
    "\n",
    "## **Quiz 1**\n",
    "\n",
    "```python\n",
    "[[i for i in range(3)] for _ in range(3)]\n",
    "```\n",
    "---"
   ]
  },
  {
   "cell_type": "markdown",
   "metadata": {},
   "source": [
    "---\n",
    "## **Task 2**\n",
    "\n",
    "Solve **Task 4** and **Task 5** from `lesson_05` using list comprehensions.\n",
    "\n",
    "---"
   ]
  },
  {
   "cell_type": "code",
   "execution_count": 2,
   "metadata": {},
   "outputs": [
    {
     "data": {
      "text/plain": [
       "50"
      ]
     },
     "execution_count": 2,
     "metadata": {},
     "output_type": "execute_result"
    }
   ],
   "source": [
    "def adjacent_elements_product(array):\n",
    "    return max([array[i] * array[i+1] for i in range(len(array) - 1)])\n",
    "\n",
    "adjacent_elements_product([9, 5, 10, 2, 24, -1, -48])"
   ]
  },
  {
   "cell_type": "code",
   "execution_count": 4,
   "metadata": {},
   "outputs": [
    {
     "data": {
      "text/plain": [
       "(120, 140)"
      ]
     },
     "execution_count": 4,
     "metadata": {},
     "output_type": "execute_result"
    }
   ],
   "source": [
    "def row_weights(array):\n",
    "    team1 = [weight for i, weight in enumerate(array) if i % 2 == 0] \n",
    "    team2 = [weight for i, weight in enumerate(array) if i % 2 != 0] \n",
    "    return (sum(team1), sum(team2))\n",
    "\n",
    "row_weights([50, 60, 70, 80])"
   ]
  },
  {
   "cell_type": "markdown",
   "metadata": {},
   "source": [
    "---\n",
    "## **Task 3**\n",
    "\n",
    "Write a function `add_matrix` that accepts two matrices (n x m two dimensional arrays), and return the sum of the two. Both matrices being passed into the function will be represented as a list of the list.\n",
    "\n",
    "How to sum two matrices:\n",
    "\n",
    "Take each value `matrix_1[n][m]` from the first matrix, and add it with the same (corresponding) `matrix_2[n][m]` value from the second matrix. This will be a value `[n][m]` of the solution matrix.\n",
    "\n",
    "---"
   ]
  },
  {
   "cell_type": "code",
   "execution_count": 5,
   "metadata": {},
   "outputs": [
    {
     "data": {
      "text/plain": [
       "[[3, 4, 4, -7], [6, 4, 4, -7], [2, 2, 4, -5]]"
      ]
     },
     "execution_count": 5,
     "metadata": {},
     "output_type": "execute_result"
    }
   ],
   "source": [
    "def add_matrix(a1, a2):\n",
    "    n = len(a1)\n",
    "    m = len(a1[0])\n",
    "    \n",
    "    a3 = []\n",
    "    for i in range(n):\n",
    "        row = [a1[i][j] + a2[i][j] for j in range(m)]\n",
    "        a3.append(row)\n",
    "    return a3\n",
    "\n",
    "a1 = [[1, 2, 3, 0],\n",
    "      [3, 2, 1, 0],\n",
    "      [1, 1, 1, 0]]\n",
    "\n",
    "a2 = [[2, 2, 1, -7],\n",
    "      [3, 2, 3, -7],\n",
    "      [1, 1, 3, -5]]\n",
    "\n",
    "add_matrix(a1, a2)"
   ]
  },
  {
   "cell_type": "code",
   "execution_count": 5,
   "metadata": {},
   "outputs": [
    {
     "data": {
      "text/plain": [
       "False"
      ]
     },
     "execution_count": 5,
     "metadata": {},
     "output_type": "execute_result"
    }
   ],
   "source": [
    "l = [[], [], 3, 5, []]\n",
    "\n",
    "[isinstance(item, list) for item in l]\n",
    "\n",
    "\n",
    "all([True, True, False])"
   ]
  },
  {
   "cell_type": "markdown",
   "metadata": {},
   "source": [
    "# Testing functions\n",
    "\n",
    "## Raising errors\n",
    "\n",
    "- what would happen if we would try this?\n",
    "\n",
    "```python\n",
    "add_matrix([2], [3])\n",
    "```\n",
    "\n",
    "It would result in `TypeError`. Is it useful?\n",
    "\n",
    "```\n",
    "---------------------------------------------------------------------------\n",
    "TypeError                                 Traceback (most recent call last)\n",
    "<ipython-input-6-03a897589a4a> in <module>\n",
    "----> 1 add_matrix([2], [3])\n",
    "\n",
    "<ipython-input-5-1007cfd754df> in add_matrix(a1, a2)\n",
    "      1 def add_matrix(a1, a2):\n",
    "      2     n = len(a1)\n",
    "----> 3     m = len(a1[0])\n",
    "      4 \n",
    "      5     a3 = []\n",
    "\n",
    "TypeError: object of type 'int' has no len()\n",
    "```\n",
    "\n",
    "- usually if we provide incorrect input to the function, code breaks somewhere and Python raises an Exception\n",
    "- for previous function `add_matrix` running this function with two matrices with incompatibile size will raise IndexError, however this is not really useful for the user\n",
    "- how can we provide our own error message to help users understand what they did wrong\n",
    "- if you want guard against incorrect input you should raise your own `Exception` with custom error msg\n",
    "- check out [Exception hierarchy](https://docs.python.org/3/library/exceptions.html)"
   ]
  },
  {
   "cell_type": "code",
   "execution_count": 9,
   "metadata": {},
   "outputs": [
    {
     "name": "stdout",
     "output_type": "stream",
     "text": [
      "name 'add_positive' is not defined\n"
     ]
    }
   ],
   "source": [
    "from math import sqrt\n",
    "\n",
    "def add_roots(a, b):\n",
    "    if a <= 0 or b <= 0:\n",
    "        raise ValueError('a and b should be non-negative numbers')\n",
    "    return sqrt(a) + sqrt(b)\n",
    "\n",
    "try:\n",
    "    add_positive(-5, 4)\n",
    "except Exception as ex:\n",
    "    print(ex)"
   ]
  },
  {
   "cell_type": "markdown",
   "metadata": {},
   "source": [
    "---\n",
    "## **Task 4**\n",
    "\n",
    "Extend function `add_matrix` and validate user provided matrices:\n",
    "- check if both inputs are lists (if not raise `TypeError`)\n",
    "- check if inner lists have equal lenght (if not raise `ValueError`)\n",
    "- check if both matrices have same size (if not raise `ValueError`)\n",
    "---"
   ]
  },
  {
   "cell_type": "code",
   "execution_count": 10,
   "metadata": {},
   "outputs": [],
   "source": [
    "def add_matrix(a1, a2):\n",
    "    if not (isinstance(a1, list) and isinstance(a2, list)):\n",
    "        raise TypeError('both a1 and a2 should be lists')\n",
    "    \n",
    "    # check a1\n",
    "    n1 = len(a1)\n",
    "    s1 = set([len(row) for row in a1])\n",
    "    \n",
    "    # check a2 \n",
    "    n2 = len(a2)\n",
    "    s2 = set([len(row) for row in a2])\n",
    "    \n",
    "    if len(s1) > 1 or len(s2) > 1:\n",
    "        raise ValueError('one of matrices have inconsistent number of elements in a row')\n",
    "    \n",
    "    m1 = s1.pop()\n",
    "    m2 = s2.pop()\n",
    "    \n",
    "    if (n1, m1) != (n2, m2):\n",
    "        raise ValueError(f'matrices should have same size {(n1, m1)} != {(n2, m2)}')\n",
    "    \n",
    "    a3 = []\n",
    "    for i in range(n1):\n",
    "        row = [a1[i][j] + a2[i][j] for j in range(m1)]\n",
    "        a3.append(row)\n",
    "    return a3"
   ]
  },
  {
   "cell_type": "code",
   "execution_count": 11,
   "metadata": {},
   "outputs": [
    {
     "name": "stdout",
     "output_type": "stream",
     "text": [
      "both a1 and a2 should be lists\n",
      "one of matrices have inconsistent number of elements in a row\n",
      "matrices should have same size (2, 1) != (1, 2)\n"
     ]
    }
   ],
   "source": [
    "# Test 1\n",
    "try: \n",
    "    add_matrix(1, 2)\n",
    "except TypeError as err:\n",
    "    print(err)\n",
    "    \n",
    "# Test 2\n",
    "try: \n",
    "    add_matrix([[1], [1, 2]], [[1], [2]])\n",
    "except ValueError as err:\n",
    "    print(err)\n",
    "    \n",
    "# Test 3\n",
    "try: \n",
    "    add_matrix([[1], [1]], [[1, 2]])\n",
    "except ValueError as err:\n",
    "    print(err)"
   ]
  },
  {
   "cell_type": "markdown",
   "metadata": {},
   "source": [
    "## Assert statement\n",
    "\n",
    "Most basic form of testing can be acheived using `assert` statement which raises `Exception` if certain condition is `False`"
   ]
  },
  {
   "cell_type": "code",
   "execution_count": 12,
   "metadata": {},
   "outputs": [],
   "source": [
    "# fun.py\n",
    "def fun(a, b, c):\n",
    "    return (a + b) * c"
   ]
  },
  {
   "cell_type": "code",
   "execution_count": 13,
   "metadata": {},
   "outputs": [],
   "source": [
    "# test_fun.py\n",
    "assert fun(1, 2, 3) == 9, 'custom message'\n",
    "assert fun(0, 0, 1) == 0\n",
    "assert fun(1, 9, 0) == 0\n",
    "assert fun(1, 1, 1) == 2"
   ]
  },
  {
   "cell_type": "markdown",
   "metadata": {},
   "source": [
    "---\n",
    "## **Task 5**\n",
    "\n",
    "Use `assert` statement to test function `adjacent_element_products`.\n",
    "\n",
    "> When writing test try to predict *edge cases*, i.e. input combinations thate are likely to brake the function.\n",
    "\n",
    "---"
   ]
  },
  {
   "cell_type": "code",
   "execution_count": 14,
   "metadata": {},
   "outputs": [],
   "source": [
    "def adjacent_element_product(array):\n",
    "    products = [array[i] * array[i+1] for i in range(len(array) - 1)]\n",
    "    return max(products)\n",
    "\n",
    "assert adjacent_element_product([1, 2]) == 2\n",
    "assert adjacent_element_product([1, 1, 1, 1]) == 1\n",
    "assert adjacent_element_product([1, 2, 3, 4, 5]) == 20\n",
    "assert adjacent_element_product([0, 1, 0, 1]) == 0\n",
    "assert adjacent_element_product([0, 1, 0, 1]) == 0"
   ]
  },
  {
   "cell_type": "markdown",
   "metadata": {},
   "source": [
    "## unittest module"
   ]
  },
  {
   "cell_type": "markdown",
   "metadata": {},
   "source": [
    "### Benefits of unit testing:\n",
    "\n",
    "1. Safe and confident refactoring\n",
    "2. Improve quality of code\n",
    "3. Find bugs early\n",
    "4. Provides documentation\n",
    "5. Forces to think about design\n",
    "6. Reduce development cost in the long run"
   ]
  },
  {
   "cell_type": "markdown",
   "metadata": {},
   "source": [
    "```python\n",
    "import unittest\n",
    "\n",
    "\n",
    "def add(a, b):\n",
    "    return a + b\n",
    "\n",
    "\n",
    "def subtract(a, b):\n",
    "    return a - b\n",
    "\n",
    "\n",
    "def multiply(a, b):\n",
    "    return a * b\n",
    "\n",
    "\n",
    "def divide(a, b):\n",
    "    if b == 0:\n",
    "        raise ValueError(\"b cannot be 0\")\n",
    "    return a / b\n",
    "\n",
    "\n",
    "def adjacent_element_product(array):\n",
    "    products = [array[i] * array[i + 1] for i in range(len(array) - 1)]\n",
    "    return max(products)\n",
    "\n",
    "\n",
    "class TestMathFunctions(unittest.TestCase):\n",
    "    def test_add(self):\n",
    "        self.assertEqual(add(1, 2), 3)\n",
    "        self.assertEqual(add(1, -1), 0)\n",
    "        self.assertEqual(add(5, 100), 105)\n",
    "\n",
    "    def test_subtract(self):\n",
    "        self.assertEqual(subtract(1, 2), -1)\n",
    "        self.assertEqual(subtract(1, -1), 2)\n",
    "        self.assertEqual(subtract(5, 100), -95)\n",
    "\n",
    "    def test_multiply(self):\n",
    "        self.assertEqual(multiply(0, 1), 0)\n",
    "        self.assertEqual(multiply(1, 0), 0)\n",
    "        self.assertEqual(multiply(1, 1), 1)\n",
    "        self.assertEqual(multiply(3, -5), -15)\n",
    "        # self.assertEqual(multiply(0.1, 3), 3)\n",
    "\n",
    "    def test_divide(self):\n",
    "        self.assertEqual(divide(5, 1), 5)\n",
    "        self.assertEqual(divide(10, 2), 5)\n",
    "        self.assertEqual(divide(1, 2), 0.5)\n",
    "\n",
    "        with self.assertRaises(ValueError):\n",
    "            divide(1, 0)\n",
    "\n",
    "\n",
    "class TestArrayFunctions(unittest.TestCase):\n",
    "    def test_adjacent_element_product(self):\n",
    "        self.assertEqual(adjacent_element_product([1, 2]), 2)\n",
    "        self.assertEqual(adjacent_element_product([1, 1, 1, 1]), 1)\n",
    "        self.assertEqual(adjacent_element_product([1, 2, 3, 4, 5]), 20)\n",
    "        self.assertEqual(adjacent_element_product([0, 1, 0, 1]), 0)\n",
    "        self.assertEqual(adjacent_element_product([0, 1, 0, 1]), 0)\n",
    "\n",
    "if __name__ == \"__main__\":\n",
    "    unittest.main()\n",
    "```"
   ]
  },
  {
   "cell_type": "markdown",
   "metadata": {},
   "source": [
    "---\n",
    "## **Task 6**\n",
    "\n",
    "Use `input` function to ask the user to input the number. Repeat asking until correct number is passed. If a user pass a string that cannot be converted to number, warn him with a message. If a correct number is passed print this number multiplied by 10.\n",
    "\n",
    "> You may need `.isnumeric()` string method\n",
    "\n",
    "---"
   ]
  },
  {
   "cell_type": "code",
   "execution_count": 15,
   "metadata": {},
   "outputs": [
    {
     "name": "stdin",
     "output_type": "stream",
     "text": [
      "Give a number: 5\n"
     ]
    },
    {
     "name": "stdout",
     "output_type": "stream",
     "text": [
      "50.0\n"
     ]
    }
   ],
   "source": [
    "while True:\n",
    "    num = input('Give a number:')\n",
    "    if not num.isnumeric():\n",
    "        print('Number, you dummy... Try again...')\n",
    "    else:\n",
    "        print(10 * float(num))\n",
    "        break"
   ]
  },
  {
   "cell_type": "markdown",
   "metadata": {},
   "source": [
    "## Exception handling\n",
    "\n",
    "Sometimes we don't want a program to break when an error ocurs, instead we want to do certain stuff and either go on with program execution or reraise an error.\n",
    "\n",
    "Catching exceptions is possible due to `try` and `except` blocks. Syntax:\n",
    "\n",
    "```python\n",
    "try:\n",
    "    <instructions>\n",
    "except:\n",
    "    <instructions>\n",
    "```"
   ]
  },
  {
   "cell_type": "code",
   "execution_count": 16,
   "metadata": {},
   "outputs": [
    {
     "name": "stdout",
     "output_type": "stream",
     "text": [
      "This cannot be done.\n"
     ]
    }
   ],
   "source": [
    "try:\n",
    "    1 + '2'\n",
    "except:\n",
    "    print('This cannot be done.')"
   ]
  },
  {
   "cell_type": "code",
   "execution_count": 17,
   "metadata": {},
   "outputs": [
    {
     "name": "stdout",
     "output_type": "stream",
     "text": [
      "Python sais: 'tuple' object does not support item assignment\n",
      "I told you that you cannot modify the tuple...\n"
     ]
    }
   ],
   "source": [
    "t = (1, 2, 3)\n",
    "try:\n",
    "    t[1] = 5\n",
    "except TypeError as error:\n",
    "    print(f'Python sais: {error}')\n",
    "    print('I told you that you cannot modify the tuple...')"
   ]
  },
  {
   "cell_type": "markdown",
   "metadata": {},
   "source": [
    "---\n",
    "## **Task 7**\n",
    "\n",
    "Use `input` function again to ask the user to input the number. All rules stay the same, except now you want to use `try`, `except` statements to achieve the same result.\n",
    "\n",
    "---"
   ]
  },
  {
   "cell_type": "code",
   "execution_count": 18,
   "metadata": {},
   "outputs": [
    {
     "name": "stdin",
     "output_type": "stream",
     "text": [
      "Give a number: p\n"
     ]
    },
    {
     "name": "stdout",
     "output_type": "stream",
     "text": [
      "Number, you dummy... Try again...\n"
     ]
    },
    {
     "name": "stdin",
     "output_type": "stream",
     "text": [
      "Give a number: 5\n"
     ]
    },
    {
     "name": "stdout",
     "output_type": "stream",
     "text": [
      "50.0\n"
     ]
    }
   ],
   "source": [
    "while True:\n",
    "    num = input('Give a number:')\n",
    "    try:\n",
    "        print(10 * float(num))\n",
    "        break\n",
    "    except:\n",
    "        print('Number, you dummy... Try again...')"
   ]
  },
  {
   "cell_type": "markdown",
   "metadata": {},
   "source": [
    "## EAFP Rule\n",
    "\n",
    "From [Python official documentation](https://docs.python.org/3.5/glossary.html#term-eafp):\n",
    "\n",
    "> **Easier to ask for forgiveness than permission.** This common Python coding style assumes the existence of valid keys or attributes and catches exceptions if the assumption proves false. This clean and fast style is characterized by the presence of many try and except statements. The technique contrasts with the LBYL style common to many other languages such as C."
   ]
  },
  {
   "cell_type": "markdown",
   "metadata": {},
   "source": [
    "## Dealing with files\n",
    "\n",
    "### Reading from file\n",
    "\n",
    "- most popular way to read from file in Python rely on using [**context manager**](https://www.geeksforgeeks.org/context-manager-in-python/)\n",
    "\n",
    "```python\n",
    "with open(filename, mode) as file:\n",
    "    # do something with file\n",
    "    data = file.read()\n",
    "```\n",
    "\n",
    "<table>\n",
    "<colgroup>\n",
    "<col style=\"width: 13%\">\n",
    "<col style=\"width: 88%\">\n",
    "</colgroup>\n",
    "<thead>\n",
    "<tr class=\"row-odd\"><th class=\"head\"><p>Character</p></th>\n",
    "<th class=\"head\"><p>Meaning</p></th>\n",
    "</tr>\n",
    "</thead>\n",
    "<tbody>\n",
    "<tr class=\"row-even\"><td><p><code class=\"docutils literal notranslate\"><span class=\"pre\">'r'</span></code></p></td>\n",
    "<td><p>open for reading (default)</p></td>\n",
    "</tr>\n",
    "<tr class=\"row-odd\"><td><p><code class=\"docutils literal notranslate\"><span class=\"pre\">'w'</span></code></p></td>\n",
    "<td><p>open for writing, truncating the file first</p></td>\n",
    "</tr>\n",
    "<tr class=\"row-even\"><td><p><code class=\"docutils literal notranslate\"><span class=\"pre\">'x'</span></code></p></td>\n",
    "<td><p>open for exclusive creation, failing if the file already exists</p></td>\n",
    "</tr>\n",
    "<tr class=\"row-odd\"><td><p><code class=\"docutils literal notranslate\"><span class=\"pre\">'a'</span></code></p></td>\n",
    "<td><p>open for writing, appending to the end of the file if it exists</p></td>\n",
    "</tr>\n",
    "<tr class=\"row-even\"><td><p><code class=\"docutils literal notranslate\"><span class=\"pre\">'b'</span></code></p></td>\n",
    "<td><p>binary mode</p></td>\n",
    "</tr>\n",
    "<tr class=\"row-odd\"><td><p><code class=\"docutils literal notranslate\"><span class=\"pre\">'t'</span></code></p></td>\n",
    "<td><p>text mode (default)</p></td>\n",
    "</tr>\n",
    "<tr class=\"row-even\"><td><p><code class=\"docutils literal notranslate\"><span class=\"pre\">'+'</span></code></p></td>\n",
    "<td><p>open for updating (reading and writing)</p></td>\n",
    "</tr>\n",
    "</tbody>\n",
    "</table>\n",
    "\n",
    "- reading from file object:\n",
    "    - `.read()`: read entire file into string\n",
    "    - `.readlines()`: read each line into separate list element\n",
    "    \n",
    "> Often useful combination to acheive desired input is to use combination of `.read()` and `.splitlines()` (string method dividing string on new line characters) "
   ]
  },
  {
   "cell_type": "code",
   "execution_count": 19,
   "metadata": {},
   "outputs": [
    {
     "name": "stdout",
     "output_type": "stream",
     "text": [
      "['1, 2, 3\\n', '7, 2, 4\\n', '1, 2, 5']\n",
      "'1, 2, 3\\n7, 2, 4\\n1, 2, 5'\n",
      "['1, 2, 3', '7, 2, 4', '1, 2, 5']\n"
     ]
    }
   ],
   "source": [
    "with open('files/array.txt', 'r') as f:\n",
    "    data_readlines = f.readlines()    \n",
    "    \n",
    "with open('files/array.txt', 'r') as f:\n",
    "    data_read = f.read()\n",
    "    \n",
    "with open('files/array.txt', 'r') as f:\n",
    "    data_read = f.read()\n",
    "    \n",
    "print(data_readlines)\n",
    "print(repr(data_read))\n",
    "print(data_read.splitlines())"
   ]
  },
  {
   "cell_type": "markdown",
   "metadata": {},
   "source": [
    "---\n",
    "## **Task 8**\n",
    "\n",
    "Manually create file representing tic-tac-toe board:\n",
    "```\n",
    "o-o\n",
    "xx-\n",
    "xox\n",
    "```\n",
    "Read content of this file into an 2D array (list of list) and run `who_win` function o this array to determine who won. Note that you have to do a little bit of preprocessing prior to running `who_win` function – recall that empty field was represented as space and not `-`.\n",
    "\n",
    "---"
   ]
  },
  {
   "cell_type": "code",
   "execution_count": 20,
   "metadata": {},
   "outputs": [
    {
     "data": {
      "text/plain": [
       "[['o', ' ', ' '], ['x', 'x', 'x'], [' ', 'o', ' ']]"
      ]
     },
     "execution_count": 20,
     "metadata": {},
     "output_type": "execute_result"
    }
   ],
   "source": [
    "with open('files/tictactoe.txt', 'r') as f:\n",
    "    data = f.read().splitlines()\n",
    "    \n",
    "board = []\n",
    "for row in data:\n",
    "    board.append(list(row.replace('-', ' ')))\n",
    "    \n",
    "board"
   ]
  },
  {
   "cell_type": "markdown",
   "metadata": {},
   "source": [
    "### Writing to file\n",
    "\n",
    "```python\n",
    "with open(filename, 'w') as file:\n",
    "    # do something with file\n",
    "    data = file.read()\n",
    "```\n",
    "\n",
    "- writing to file object:\n",
    "    - `.write(s)`: write string `s` into file\n",
    "    - `.writelines(l)`: write each item of list `l` as a separate line into file"
   ]
  },
  {
   "cell_type": "code",
   "execution_count": 21,
   "metadata": {},
   "outputs": [],
   "source": [
    "from random import random\n",
    "\n",
    "l = [f'{random():.3f}\\n' for _ in range(100)]\n",
    "\n",
    "with open('files/random.txt', 'w') as f:\n",
    "    f.writelines(l)"
   ]
  },
  {
   "cell_type": "markdown",
   "metadata": {},
   "source": [
    "---\n",
    "## **Task 9**\n",
    "\n",
    "Create function `christmas_tree(size, filename)` that creates Christmas tree and save it to file specified by the user. It should look like this (for size `n=5`; size is the number of \"levels\" without the trunk):\n",
    "```\n",
    "    ★\n",
    "   ###\n",
    "  #####\n",
    " #######\n",
    "#########\n",
    "    |\n",
    "```\n",
    "For size `n=3`\n",
    "```\n",
    "  ★\n",
    " ###\n",
    "#####\n",
    "  |\n",
    "```\n",
    "---"
   ]
  },
  {
   "cell_type": "code",
   "execution_count": 22,
   "metadata": {},
   "outputs": [],
   "source": [
    "def christmas_tree(n, filename):\n",
    "    tree = []\n",
    "    for i in range(n):\n",
    "        s = ' ' * (n - i - 1) + '#' * (2 * i + 1) + '\\n'\n",
    "        tree.append(s)\n",
    "\n",
    "    tree.append(' ' * (n - 1) + '|')\n",
    "    tree[0] = tree[0].replace('#', '★')\n",
    "\n",
    "    with open(filename, 'w') as f:\n",
    "        f.writelines(tree)\n",
    "        \n",
    "christmas_tree(10, 'files/christmas_tree.txt')"
   ]
  }
 ],
 "metadata": {
  "kernelspec": {
   "display_name": "Python 3",
   "language": "python",
   "name": "python3"
  },
  "language_info": {
   "codemirror_mode": {
    "name": "ipython",
    "version": 3
   },
   "file_extension": ".py",
   "mimetype": "text/x-python",
   "name": "python",
   "nbconvert_exporter": "python",
   "pygments_lexer": "ipython3",
   "version": "3.8.3"
  }
 },
 "nbformat": 4,
 "nbformat_minor": 4
}

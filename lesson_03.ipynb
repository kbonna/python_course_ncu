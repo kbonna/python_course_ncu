{
 "cells": [
  {
   "cell_type": "markdown",
   "metadata": {},
   "source": [
    "# Functions\n",
    "\n",
    "- function is like mini-program within a program\n",
    "- it usually takes some input, manipulate with the input to produce meaningful output\n",
    "- functions are most important because they allow to keep your code DRY (**D**on't **R**epeat **Y**ourself)\n",
    "\n",
    "<img src=\"https://res.cloudinary.com/practicaldev/image/fetch/s--iCkOfD0L--/c_limit%2Cf_auto%2Cfl_progressive%2Cq_auto%2Cw_880/https://cdn-images-1.medium.com/max/1024/1%2A709ugF12LLkYxvb839YNlg.png\" width=\"350px\"></img>\n",
    "\n",
    "## Thinking about functions\n",
    "\n",
    ">Often, all you need to know about a function are its inputs (the parameters) and output value; you don’t always have to burden yourself with how the function’s code actually works. When you think about functions in this high-level way, it’s common to say that you’re treating a function as a “black box.”\n",
    "\n",
    ">This idea is fundamental to modern programming. Later chapters in this book will show you several modules with functions that were written by other people. While you can take a peek at the source code if you’re curious, you don’t need to know how these functions work in order to use them. And because writing functions without global variables is encouraged, you usually don’t have to worry about the function’s code interacting with the rest of your program."
   ]
  },
  {
   "cell_type": "markdown",
   "metadata": {},
   "source": [
    "---\n",
    "## **Task 3.1**\n",
    "\n",
    "Using WHO chart modify code below so it prints your BMI classification. Consider only four categories: underweight, normal, overweight and obese.\n",
    "\n",
    "<img src=\"https://www.researchgate.net/profile/Bruce-N-Wolfe/publication/236940946/figure/tbl1/AS:614223851814925@1523453786367/WHO-body-mass-index-BMI-Classification-1.png\" width=\"350px\"></img>\n",
    "\n",
    "```python\n",
    "name = input(\"Your name:\")\n",
    "weight = input(\"Your weight (kg):\")\n",
    "heigth = input(\"Your heigth (cm):\")\n",
    "\n",
    "weight_in_kg = float(weight)\n",
    "heigth_in_m = float(heigth) / 100\n",
    "\n",
    "bmi = weight_in_kg / heigth_in_m ** 2  \n",
    "\n",
    "print(f\"\\nHello, {name}. Your BMI is {bmi:.2f}\")\n",
    "```\n",
    "\n",
    "New code should print messages like this:\n",
    "\n",
    "- `Hello, <name>. Your BMI status is underweight/normal/overweight/obese`\n",
    "---"
   ]
  },
  {
   "cell_type": "code",
   "execution_count": 17,
   "metadata": {},
   "outputs": [
    {
     "name": "stdin",
     "output_type": "stream",
     "text": [
      "Your name: Kamil\n",
      "Your weight (kg): 78\n",
      "Your heigth (cm): 178\n"
     ]
    },
    {
     "name": "stdout",
     "output_type": "stream",
     "text": [
      "\n",
      "Hello, Kamil. Your BMI status is normal\n"
     ]
    }
   ],
   "source": [
    "name = input(\"Your name:\")\n",
    "weight = input(\"Your weight (kg):\")\n",
    "heigth = input(\"Your heigth (cm):\")\n",
    "\n",
    "weight_in_kg = float(weight)\n",
    "heigth_in_m = float(heigth) / 100\n",
    "\n",
    "bmi = weight_in_kg / heigth_in_m ** 2  \n",
    "if bmi < 18.5:\n",
    "    status = \"underweight\"\n",
    "elif bmi < 25:\n",
    "    status = \"normal\"\n",
    "elif bmi < 30: \n",
    "    status = \"overweight\"\n",
    "else:\n",
    "    status = \"obese\"\n",
    "\n",
    "print(f\"\\nHello, {name}. Your BMI status is {status}.\")"
   ]
  },
  {
   "cell_type": "markdown",
   "metadata": {},
   "source": [
    "---\n",
    "## **Task 3.2**\n",
    "\n",
    "Using parts of your code above calculate BMI status for four cases:\n",
    "- 175cm, 50kg\n",
    "- 175cm, 70kg\n",
    "- 175cm, 90kg\n",
    "- 175cm, 110kg\n",
    "\n",
    "Print results neatly to the console using this format:\n",
    "```\n",
    "If you are 175cm tall and weight 50kg, your BMI status is <???>.\n",
    "If you are 175cm tall and weight 70kg, your BMI status is <???>.\n",
    "If you are 175cm tall and weight 90kg, your BMI status is <???>.\n",
    "If you are 175cm tall and weight 110kg, your BMI status is <???>.\n",
    "```\n",
    "---"
   ]
  },
  {
   "cell_type": "code",
   "execution_count": 28,
   "metadata": {},
   "outputs": [
    {
     "name": "stdout",
     "output_type": "stream",
     "text": [
      "If you are 175cm tall and weight 50kg, your BMI status is underweight.\n"
     ]
    }
   ],
   "source": [
    "# This will not change\n",
    "heigth = 175\n",
    "\n",
    "# This will change\n",
    "weight = 50\n",
    "weight_in_kg = float(weight)\n",
    "heigth_in_m = float(heigth) / 100\n",
    "\n",
    "bmi = weight_in_kg / heigth_in_m ** 2  \n",
    "if bmi < 18.5:\n",
    "    status = \"underweight\"\n",
    "elif bmi < 25:\n",
    "    status = \"normal\"\n",
    "elif bmi < 30: \n",
    "    status = \"overweight\"\n",
    "else:\n",
    "    status = \"obese\"\n",
    "    \n",
    "print(f\"If you are 175cm tall and weight 50kg, your BMI status is {status}.\")\n",
    "\n",
    "\n",
    "# Here we go again...\n",
    "weight = 70\n",
    "weight_in_kg = float(weight)\n",
    "heigth_in_m = float(heigth) / 100\n",
    "\n",
    "# ..."
   ]
  },
  {
   "cell_type": "markdown",
   "metadata": {},
   "source": [
    "## Function syntax\n",
    "\n",
    "- def keyword\n",
    "- function name\n",
    "- function parameters\n",
    "- colon `:`\n",
    "- block of code\n",
    "- optionally `return` statement\n",
    "\n",
    "```python\n",
    "def some_function(arg1, arg2, arg3):\n",
    "    <instructions>\n",
    "    return some_value\n",
    "```\n",
    "\n",
    "- each time function is **called** function code is executed with parameters specified during the call\n",
    "- function are useful to remove and organize duplicate code\n",
    "> *Rule of thumb: if you see certain instructions repeat many times, you probably should write a function*"
   ]
  },
  {
   "cell_type": "code",
   "execution_count": 16,
   "metadata": {},
   "outputs": [
    {
     "name": "stdout",
     "output_type": "stream",
     "text": [
      "If you are 175cm tall and weight 50kg, your BMI status is underweight.\n",
      "If you are 175cm tall and weight 70kg, your BMI status is normal.\n",
      "If you are 175cm tall and weight 90kg, your BMI status is overweight.\n",
      "If you are 175cm tall and weight 110kg, your BMI status is obese.\n"
     ]
    }
   ],
   "source": [
    "def bmi_status(weight, heigth):\n",
    "    weight_in_kg = float(weight)\n",
    "    heigth_in_m = float(heigth) / 100\n",
    "\n",
    "    bmi = weight_in_kg / heigth_in_m ** 2  \n",
    "    if bmi < 18.5:\n",
    "        status = \"underweight\"\n",
    "    elif bmi < 25:\n",
    "        status = \"normal\"\n",
    "    elif bmi < 30: \n",
    "        status = \"overweight\"\n",
    "    else:\n",
    "        status = \"obese\"\n",
    "    return status\n",
    "\n",
    "# We can reuse logic having function that turns two numbers into BMI status!\n",
    "print(f\"If you are 175cm tall and weight 50kg, your BMI status is {bmi_status(50, 175)}.\")\n",
    "print(f\"If you are 175cm tall and weight 70kg, your BMI status is {bmi_status(70, 175)}.\")\n",
    "print(f\"If you are 175cm tall and weight 90kg, your BMI status is {bmi_status(90, 175)}.\")\n",
    "print(f\"If you are 175cm tall and weight 110kg, your BMI status is {bmi_status(110, 175)}.\")"
   ]
  },
  {
   "cell_type": "markdown",
   "metadata": {},
   "source": [
    "---\n",
    "## **Task 3.3**\n",
    "\n",
    "Turn this code into function `kmh_to_mph(speed)`\n",
    "\n",
    "```python\n",
    "speed_kmh = input('Speed in km/h:')\n",
    "\n",
    "kmh_to_mph = 0.621371192\n",
    "\n",
    "speed_mph = float(speed_kmh) * kmh_to_mph\n",
    "\n",
    "print(speed_kmh + 'km/h = ' + str(speed_mph) + 'mph')\n",
    "```\n",
    "\n",
    "---"
   ]
  },
  {
   "cell_type": "code",
   "execution_count": 27,
   "metadata": {},
   "outputs": [],
   "source": [
    "def kmh_to_mph(speed):\n",
    "    return speed * 0.621371192"
   ]
  },
  {
   "cell_type": "markdown",
   "metadata": {},
   "source": [
    "## Examples\n",
    "\n",
    "More simple functions!\n",
    "\n",
    "- greeting user (note no return)\n",
    "\n",
    "```python\n",
    "def greet_user(name):\n",
    "    print(f\"Hello, {name}!\")\n",
    "    \n",
    "# function call \n",
    "greet_user(\"Python\")\n",
    "```\n",
    "\n",
    "- returning greeting string\n",
    "\n",
    "```python\n",
    "def greet_user(name):\n",
    "    greetiing = f\"Hello, {name}!\"\n",
    "    return greetiing\n",
    "    \n",
    "# function call \n",
    "print(greet_user(\"Python\"))\n",
    "```\n",
    "\n",
    "\n",
    "- calculating simple average of three numbers\n",
    "\n",
    "```python\n",
    "def average(a, b, c):\n",
    "    avg = (a + b + c) / 3\n",
    "    return avg\n",
    "\n",
    "avg = average(1, 3, 4)\n",
    "print(f\"Average of 1, 3 and 4 is {avg:.3f}\")\n",
    "```"
   ]
  },
  {
   "cell_type": "markdown",
   "metadata": {},
   "source": [
    "---\n",
    "## **Task 3.4**\n",
    "\n",
    "Write a function `pln_to_usd` that convert PLN to USD. \n",
    "\n",
    "Assume exchange rate `1 USD = 3.9344 PLN`.\n",
    "\n",
    "---"
   ]
  },
  {
   "cell_type": "code",
   "execution_count": 2,
   "metadata": {},
   "outputs": [
    {
     "data": {
      "text/plain": [
       "25.41683611224075"
      ]
     },
     "execution_count": 2,
     "metadata": {},
     "output_type": "execute_result"
    }
   ],
   "source": [
    "def pln_to_usd(value):\n",
    "    usd = value / 3.9344\n",
    "    return usd\n",
    "\n",
    "pln_to_usd(100)"
   ]
  },
  {
   "cell_type": "markdown",
   "metadata": {},
   "source": [
    "---\n",
    "## **Task 3.5**\n",
    "\n",
    "Kata (8 kyu): [Are You Playing Banjo?](https://www.codewars.com/kata/53af2b8861023f1d88000832/train/python)\n",
    "\n",
    "---"
   ]
  },
  {
   "cell_type": "code",
   "execution_count": 1,
   "metadata": {},
   "outputs": [],
   "source": [
    "def areYouPlayingBanjo(name):\n",
    "    if name[0] == 'R' or name[0] == 'r':\n",
    "        return f'{name} plays banjo'\n",
    "    else:\n",
    "        return f'{name} does not play banjo'"
   ]
  },
  {
   "cell_type": "markdown",
   "metadata": {},
   "source": [
    "---\n",
    "## **Quiz 3.1**\n",
    "Assume function:\n",
    "```python\n",
    "def fun(x, y):\n",
    "    if x != y:\n",
    "        return x + y\n",
    "    else:\n",
    "        return x * y\n",
    "```        \n",
    "Guess output:\n",
    "```python\n",
    "print(f\"{fun('W', 'D')}{fun(2, 2)}{fun(0, int('0'))}\")\n",
    "```\n",
    "---"
   ]
  },
  {
   "cell_type": "markdown",
   "metadata": {},
   "source": [
    "# Function arguments"
   ]
  },
  {
   "cell_type": "markdown",
   "metadata": {},
   "source": [
    "### Positional arguments\n",
    "- position determines which value is assigned to arguments"
   ]
  },
  {
   "cell_type": "code",
   "execution_count": 28,
   "metadata": {},
   "outputs": [
    {
     "name": "stdout",
     "output_type": "stream",
     "text": [
      "a=1, b=2, c=3, d=4\n",
      "a=2, b=1, c=3, d=4\n"
     ]
    }
   ],
   "source": [
    "def fun(a, b, c, d):\n",
    "    print(f'a={a}, b={b}, c={c}, d={d}')\n",
    "    \n",
    "fun(1, 2, 3, 4)\n",
    "fun(2, 1, 3, 4)"
   ]
  },
  {
   "cell_type": "markdown",
   "metadata": {},
   "source": [
    "#### Keyword arguments\n",
    "- syntax: `fun(argument_name=argument_value)`\n",
    "- argument name determines assignment\n",
    "- in function call `print('Hey', end='!!!')` string `'Hey'` is specified as positional argument, whereas string `'!!!'` is specified as keyword argument\n",
    "- keyword arguments are more explicit (easier to understand function input)\n",
    "- if you use keyword arguments, their order doesn't matter"
   ]
  },
  {
   "cell_type": "code",
   "execution_count": 29,
   "metadata": {},
   "outputs": [
    {
     "name": "stdout",
     "output_type": "stream",
     "text": [
      "a=1, b=2, c=3, d=4\n",
      "a=1, b=2, c=3, d=4\n"
     ]
    }
   ],
   "source": [
    "def fun(a, b, c, d):\n",
    "    print(f'a={a}, b={b}, c={c}, d={d}')\n",
    "    \n",
    "fun(a=1, b=2, c=3, d=4)\n",
    "fun(d=4, c=3, b=2, a=1) # Note that the assignment is still correct"
   ]
  },
  {
   "cell_type": "markdown",
   "metadata": {},
   "source": [
    "- usually positional and keyword arguments can be mixed and matched\n",
    "- remember that keyword arguments always follow positional arguments "
   ]
  },
  {
   "cell_type": "code",
   "execution_count": 30,
   "metadata": {},
   "outputs": [
    {
     "name": "stdout",
     "output_type": "stream",
     "text": [
      "a=1, b=2, c=3, d=4\n"
     ]
    }
   ],
   "source": [
    "def fun(a, b, c, d):\n",
    "    print(f'a={a}, b={b}, c={c}, d={d}')\n",
    "    \n",
    "fun(1, 2, d=4, c=3)"
   ]
  },
  {
   "cell_type": "markdown",
   "metadata": {},
   "source": [
    "---\n",
    "## **Task 3.6**\n",
    "\n",
    "Assume we have function with three arguments:\n",
    "```python\n",
    "def fun(a, b, c):\n",
    "    print(f'a={a}, b={b}, c={c}')\n",
    "```\n",
    "Write down all possible and unique ways to call function `fun` to produce output `a=1, b=2, c=3`. \n",
    "\n",
    "---"
   ]
  },
  {
   "cell_type": "code",
   "execution_count": 33,
   "metadata": {},
   "outputs": [
    {
     "name": "stdout",
     "output_type": "stream",
     "text": [
      "a=1, b=2, c=3\n",
      "a=1, b=2, c=3\n",
      "a=1, b=2, c=3\n",
      "a=1, b=2, c=3\n",
      "a=1, b=2, c=3\n",
      "a=1, b=2, c=3\n",
      "a=1, b=2, c=3\n",
      "a=1, b=2, c=3\n",
      "a=1, b=2, c=3\n",
      "a=1, b=2, c=3\n"
     ]
    }
   ],
   "source": [
    "def fun(a, b, c):\n",
    "    print(f'a={a}, b={b}, c={c}')\n",
    "\n",
    "fun(1, 2, 3)\n",
    "fun(1, 2, c=3)\n",
    "fun(1, b=2, c=3)\n",
    "fun(1, c=3, b=2)\n",
    "fun(a=1, b=2, c=3)\n",
    "fun(a=1, c=3, b=2)\n",
    "fun(b=2, a=1, c=3)\n",
    "fun(b=2, c=3, a=1)\n",
    "fun(c=3, a=1, b=2)\n",
    "fun(c=3, b=2, a=1)"
   ]
  },
  {
   "cell_type": "markdown",
   "metadata": {},
   "source": [
    "---\n",
    "## **Task 3.7**\n",
    "\n",
    "Kata (7 kyu): [Credit Card Mask?](https://www.codewars.com/kata/5412509bd436bd33920011bc/train/python)\n",
    "\n",
    "Usually when you buy something, you're asked whether your credit card number, phone number or answer to your most secret question is still correct. However, since someone could look over your shoulder, you don't want that shown on your screen. Instead, we mask it.\n",
    "\n",
    "Your task is to write a function maskify, which changes all but the last four characters into '#'.\n",
    "\n",
    "```python\n",
    "maskify(\"4556364607935616\") # should return \"############5616\"\n",
    "maskify(\"64607935616\")      # should return \"#######5616\"\n",
    "maskify(\"1\")                # should return \"1\"\n",
    "maskify(\"\")                 # should return \"\"\n",
    "```\n",
    "\n",
    "> Hint. You can get n last characters from a string `s` using indexing `s[-n:]`.\n",
    "---"
   ]
  },
  {
   "cell_type": "code",
   "execution_count": 1,
   "metadata": {},
   "outputs": [
    {
     "name": "stdout",
     "output_type": "stream",
     "text": [
      "############5616\n"
     ]
    }
   ],
   "source": [
    "def maskify(cc):\n",
    "    cc = str(cc)\n",
    "    if len(cc) <= 4:\n",
    "        return cc\n",
    "    else:\n",
    "        return '#' * (len(cc) - 4) + cc[-4:]\n",
    "    \n",
    "print(maskify(4556364607935616))"
   ]
  },
  {
   "cell_type": "markdown",
   "metadata": {},
   "source": [
    "### Default arguments\n",
    "\n",
    "- you can specify default function arguments, which will be used user is not directly specifying value for that argument\n",
    "- default arguments must follow mandatory arguments"
   ]
  },
  {
   "cell_type": "code",
   "execution_count": 7,
   "metadata": {},
   "outputs": [],
   "source": [
    "def greet_user(name, language=\"en\"):\n",
    "    if language == \"en\":\n",
    "        print(f\"Hello, {name}!\")\n",
    "    elif language == \"es\":\n",
    "        print(f\"Hola, {name}!\")\n",
    "    else:\n",
    "        print(f\"Language {language} not supported.\")"
   ]
  },
  {
   "cell_type": "code",
   "execution_count": 8,
   "metadata": {},
   "outputs": [
    {
     "name": "stdout",
     "output_type": "stream",
     "text": [
      "Hello, Kamil!\n",
      "Hello, Kamil!\n",
      "Hello, Kamil!\n",
      "Hola, Kamil!\n",
      "Language pl not supported.\n"
     ]
    }
   ],
   "source": [
    "greet_user(\"Kamil\") # default language is used\n",
    "greet_user(\"Kamil\", \"en\") \n",
    "greet_user(\"Kamil\", language=\"en\") \n",
    "greet_user(\"Kamil\", language=\"es\") \n",
    "greet_user(\"Kamil\", language=\"pl\") "
   ]
  },
  {
   "cell_type": "markdown",
   "metadata": {},
   "source": [
    "---\n",
    "## **Task 3.8**\n",
    "\n",
    "Write function `is_of_age(year_of_birth, legal_age)` that takes two arguments `year_of_birth` and `legal_age` and return `True` if user is of age and `False` otherwise. Function should have default value for `legal_age` equal to 18.\n",
    "\n",
    "---"
   ]
  },
  {
   "cell_type": "markdown",
   "metadata": {},
   "source": [
    "## Errors\n",
    "\n",
    "- errors enable one to protect functions from unwanted inputs\n",
    "- you can raise errors in a similar fashion to returning output\n",
    "- there are different types of errors that should be used for different cases\n",
    "    - `ValueError`: variable has right type but wrong value\n",
    "    - `TypeError`: variable has incorrect type\n",
    "\n",
    "```python\n",
    "def bmi(weight_in_kg, heigth_in_cm):\n",
    "    return weight_in_kg / (heigth_in_cm / 100) ** 2\n",
    "```\n",
    "\n",
    "```python\n",
    "def bmi(weight_in_kg, heigth_in_cm):\n",
    "    if weight_in_kg <= 0:\n",
    "        raise ValueError(\"weight should be positive number\")\n",
    "    if heigth_in_cm <= 0:\n",
    "        raise ValueError(\"heigth should be positive number\")\n",
    "    return weight_in_kg / (heigth_in_cm / 100) ** 2\n",
    "\n",
    "bmi(70, -5) # will raise ValueError\n",
    "```"
   ]
  },
  {
   "cell_type": "markdown",
   "metadata": {},
   "source": [
    "---\n",
    "## **Task 3.9**\n",
    "\n",
    "Modify function `is_of_age(year_of_birth, legal_age)` so it returns `ValueError` if `year_of_birth` is incorrect.\n",
    "\n",
    "---"
   ]
  },
  {
   "cell_type": "markdown",
   "metadata": {},
   "source": [
    "---\n",
    "## **Task 3.10**\n",
    "\n",
    "Write a function `throw_distance(v, theta, h0)` that calculates the distance of thrown ball. Function inputs:\n",
    "- `v`: initial velocity (in m/s)\n",
    "- `theta`: initial angle (in degrees)\n",
    "- `h0`: (optional) initial height\n",
    "\n",
    "Program should validate user input checking if:\n",
    "- `v > 0`\n",
    "- `90 > theta > 0 `\n",
    "- `h0 > 0` (if specified)\n",
    "\n",
    "Wikipedia article about [projectile motion](https://en.wikipedia.org/wiki/Projectile_motion).\n",
    "\n",
    "Equation for total distance:\n",
    "$$d = \\frac{v\\cos{\\theta}}{g}\\left( v\\sin{\\theta}+\\sqrt{\\left( v\\sin{\\theta}\\right)^2 + 2gy_0}\\right)$$\n",
    "\n",
    "\n",
    "> You can use trigonometric functions: `from math import sqrt, sin, cos`\n",
    "\n",
    "---"
   ]
  },
  {
   "cell_type": "code",
   "execution_count": null,
   "metadata": {},
   "outputs": [],
   "source": [
    "from math import sqrt, sin, cos, pi\n",
    "\n",
    "throw_disance(v, theta, h0=0):\n",
    "    if v <= 0:\n",
    "        raise ValueError(\"initial velocity should be positive\")\n",
    "    if theta <= 0 or theta >= 90:\n",
    "        raise ValueError(\"angle should be between 0 and 90\")\n",
    "    if y0 <= 0:\n",
    "        raise ValueError(\"initial height should be positive\")\n",
    "\n",
    "    g = 9.81\n",
    "    theta = theta / 180 * pi\n",
    "    d = v * cos(theta) / g * (v * sin(theta) + sqrt((v * sin(theta)) ** 2 + 2 * g * y0))\n",
    "\n",
    "    return d"
   ]
  }
 ],
 "metadata": {
  "kernelspec": {
   "display_name": "Python 3",
   "language": "python",
   "name": "python3"
  },
  "language_info": {
   "codemirror_mode": {
    "name": "ipython",
    "version": 3
   },
   "file_extension": ".py",
   "mimetype": "text/x-python",
   "name": "python",
   "nbconvert_exporter": "python",
   "pygments_lexer": "ipython3",
   "version": "3.8.3"
  }
 },
 "nbformat": 4,
 "nbformat_minor": 4
}

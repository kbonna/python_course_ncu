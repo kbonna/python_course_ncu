{
 "cells": [
  {
   "cell_type": "code",
   "execution_count": 1,
   "metadata": {},
   "outputs": [
    {
     "data": {
      "text/html": [
       "<style>\n",
       "table {\n",
       "    align:left;\n",
       "    display:block\n",
       "}\n",
       "</style>\n"
      ],
      "text/plain": [
       "<IPython.core.display.HTML object>"
      ]
     },
     "metadata": {},
     "output_type": "display_data"
    }
   ],
   "source": [
    "%%html\n",
    "<style>\n",
    "table {\n",
    "    align:left;\n",
    "    display:block\n",
    "}\n",
    "</style>"
   ]
  },
  {
   "cell_type": "markdown",
   "metadata": {},
   "source": [
    "# About me"
   ]
  },
  {
   "cell_type": "markdown",
   "metadata": {},
   "source": [
    "# Contact\n",
    "\n",
    "- email: bonna@umk.pl\n",
    "- homework email:\n",
    "- consultation: **friday 8:30** (email me first)\n",
    "- main channel of communication: MS Teams"
   ]
  },
  {
   "cell_type": "markdown",
   "metadata": {},
   "source": [
    "# Class organization\n",
    "\n",
    "- casual / informal atmosphere\n",
    "- teacher: \n",
    "    - explains new concepts\n",
    "    - demonstrations\n",
    "    - live coding\n",
    "- students: \n",
    "    - quiz (guess output, 1 minute for answer, try to predict without testing, post answer on chat, discuss)\n",
    "    - task (group programming, one driver, entire group is engaged)\n",
    "    - homework\n",
    "    \n",
    "## Grade\n",
    "\n",
    "Max *2 absence* is allowed.\n",
    "\n",
    "Final grade is based on:\n",
    "- 10 homeworks (10 points)\n",
    "- final project (10 points)\n",
    "    - set of predefined projects\n",
    "    - your ideas \n",
    "    - grade: ~5min lightning talk about projects + ~5min questions "
   ]
  },
  {
   "cell_type": "markdown",
   "metadata": {},
   "source": [
    "# Learning resources\n",
    "\n",
    "Watching\n",
    "\n",
    "- Corey's Schafer [youtube channel](https://www.youtube.com/user/schafer5)\n",
    "- Python tutorial video series from [Socratica](https://www.youtube.com/playlist?list=PLi01XoE8jYohWFPpC17Z-wWhPOSuh8Er-)\n",
    "- Python courses on [freeCodeCamp](https://www.freecodecamp.org/)\n",
    "- great (but paid) Udemy Courses from [Fred Baptiste](https://www.udemy.com/course/python-3-deep-dive-part-3/#instructor-1) (these are for intermediate / advanced programmers)\n",
    "\n",
    "Reading\n",
    "\n",
    "- book [\"Automate the boring stuff with Python\"](https://automatetheboringstuff.com/) with video series on [youtube](https://www.youtube.com/watch?v=1F_OgqRuSdI&list=PLGoJzB271_7r-iLYuEHEPJ5pSIYxXjJEn)\n",
    "- Python official [documentation](https://docs.python.org/3/)\n",
    "\n",
    "Exercises\n",
    "\n",
    "- [codewars](https://www.codewars.com/) website\n",
    "- annual programming challanges [Advent of Code](https://adventofcode.com/)\n",
    "\n",
    "Jupyter Notebooks\n",
    "- repository available online (in English)\n",
    "- notes, task solutions, additional resources\n",
    "\n",
    "Best way to learn programming:\n",
    "- **hard way** = code, break, fix, code, break, fix, ...\n",
    "- try to avoid tutorial hell"
   ]
  },
  {
   "cell_type": "markdown",
   "metadata": {},
   "source": [
    "# Installation\n",
    "\n",
    "You will need Python version at least 3.6+ (https://www.python.org/downloads/)\n",
    "- command line REPL\n",
    "\n",
    "Then you have multiple options:\n",
    "- any text editor + shell (PowerShell on Windows or Bash / zsh on Linux)\n",
    "    - **pros**: simplest option\n",
    "    - **cons**: no additional tools like linter, syntax highlight, debugger\n",
    "- IDE or text editor with superpowers ([PyCharm](https://www.jetbrains.com/pycharm/), [Visual Studio Code](https://code.visualstudio.com/) with Python extension)\n",
    "    - **pros**: flexible and powerful\n",
    "    - **cons**: more configuration needed, some IDE are quite complicated\n",
    "- [Jupyter Notebooks](https://jupyter.org/) or Jupyter Lab\n",
    "    - **pros**: useful for data visualisation, markdown and LaTeX, syntax highlighting\n",
    "    - **cons**: no debugger and linter, bugs are common if cells are not executed in order"
   ]
  },
  {
   "cell_type": "markdown",
   "metadata": {},
   "source": [
    "# Python\n",
    "Quick facts:\n",
    "- created by Guido van Rossum\n",
    "- since 1991 (almost 30 years!)\n",
    "- one of the [most popular](https://www.youtube.com/watch?v=Og847HVwRSI) programming language in 2020"
   ]
  },
  {
   "cell_type": "markdown",
   "metadata": {},
   "source": [
    "# Main Python Applications\n",
    "1. Data science (machine learning, AI) \n",
    "\n",
    "<img src=\"https://miro.medium.com/max/673/1*mzN5DJRmzaArBj3-vkuybg.png\" alt=\"python ecosystem\" style=\"width: 400px;\"/>\n",
    "\n",
    "2. Web development (Django, Flask)\n",
    "\n",
    "<img src=\"https://i.imgur.com/1zj1LJE.jpg\" alt=\"djnago vs flask\" style=\"width: 400px;\"/>\n",
    "\n",
    "3. Scientific software / data analysis\n",
    "\n",
    "<img src=\"https://nilearn.github.io/_static/nilearn-logo.png\" alt=\"nilearn\" style=\"width: 400px;\"/>\n",
    "\n",
    "4. Scripting language / orchestration language\n",
    "\n",
    "- [comparison of programming languages](http://rosettacode.org/wiki/Read_a_configuration_file)"
   ]
  },
  {
   "cell_type": "markdown",
   "metadata": {},
   "source": [
    "# Python features\n",
    "- easy to learn\n",
    "- extensive [standard library](https://docs.python.org/3/library/) (batteries included)\n",
    "- clean and readable syntax\n",
    "- supports all major programming paradigms (objective, functional, imperative)\n",
    "- interpreted / dynamic language (REPL)\n",
    "- type system: dynamic and strong"
   ]
  },
  {
   "cell_type": "code",
   "execution_count": 2,
   "metadata": {},
   "outputs": [],
   "source": [
    "# int a = 1    We don't do this here.\n",
    "a = 1        # We do this instead."
   ]
  },
  {
   "cell_type": "markdown",
   "metadata": {},
   "source": [
    "## Arithmetic operators\n",
    "\n",
    "`print()`: built-in function printing arguments to the console\n",
    "\n",
    "Arithmetic operators:\n",
    "\n",
    "| Operation | Operator | Example |\n",
    "|:-|:-:|:-:|\n",
    "| exponent  | `**`  | 3 ** 2 = 9  |\n",
    "| modulus  | `%`  | 21 % 8 = 5  |\n",
    "| floor division  | `//`  | 21 // 8 = 2 |\n",
    "| division  | `/`  | 5 / 2 = 2.5  |\n",
    "| multiplication  | `*`  | 5 * 2 = 10 |\n",
    "| addition  | `+`  | 7 + 7 = 14 |\n",
    "| subtraction  | `-`  | 7 - 5 = 2  |\n",
    "\n",
    "\n",
    "- [operator precedence & associativity rules](https://www.programiz.com/python-programming/precedence-associativity)\n",
    "- almost all operators have left-to-right associativity, except exponent operator having right-to-left associativity\n",
    "\n",
    "`2 ** 2 / 2 + 1`\n",
    "\n",
    "`5 * 2 // 3`\n",
    "\n",
    "`2 ** 2 ** 3`\n",
    "\n",
    "`2 * (2 + 3)`\n",
    "\n",
    "> *Often use brackts to avoid errors*"
   ]
  },
  {
   "cell_type": "markdown",
   "metadata": {},
   "source": [
    "---\n",
    "## **Quiz 1**\n",
    "\n",
    "`2 ** 3 ** 2 / 2 + 2`\n",
    "\n",
    "---"
   ]
  },
  {
   "cell_type": "markdown",
   "metadata": {},
   "source": [
    "## Types and variables\n",
    "\n",
    "Most basic data types:\n",
    "\n",
    "| Data type | Abbreviation | Examples |\n",
    "|:-|:-|:-:|\n",
    "| integer | `int` | -3, -2, -1, 0, 1, 2, 3  |\n",
    "| floating point number | `float` | -3.0, 2.15, 3.1415, 99.99  |\n",
    "| string | `str` | 'hello', 'ggg_yyy_fff', 'Python', '157'  |\n",
    "\n",
    "`type()`: built-in function returning the type of variable\n",
    "\n",
    "- notes about floats and ints: \n",
    "    - `3` is `int` but `3.0` is `float`\n",
    "    - division always produce floats\n",
    "    - numbers can be converted to strings using `str()` function\n",
    "- notes about strings:\n",
    "    - single quote vs double quote: `\"I'm valid\"`, `'He said: \"I am valid\"'`\n",
    "    - use what you prefer but stick with it\n",
    "    - to check the lenght of a string use built-in `len()` function\n",
    "    - strings can be converted to numbers using `int()` and `float()` functions\n",
    "    \n",
    "Operator overloading in Python:\n",
    "- string concatenation: `'Hello' + ' World'`\n",
    "- string replication: `'Cat' * 5` \n",
    "- common theme in Python – function behaves differently applied to different arguments\n",
    "\n",
    "\n",
    "Initializing a variable:\n",
    "- `number = 5`\n",
    "- `name = 'Ignacy'`\n",
    "- variables can be reassigned (overwrited) mutliple times, this does not cause errors (dynamically typed language) \n",
    "\n",
    "Variable names:\n",
    "- naming restrictions for variables:\n",
    "    1. Only one word with no spaces (`my var = 5` is incorrect)\n",
    "    2. Only letters, numbers and underscore (`_`) character (`my-var = 5` is incorrect)\n",
    "    3. Cannot begin with number (`1var = 5` is incorrect)\n",
    "   \n",
    "> *By convention `snake_case` is preferred over `camelCase` or `PascalCase` for naming variables and functions. `PascalCase` is used to name Python classes.*\n",
    "\n",
    "> *Try to use meaningful variable names to increase code readability, e.g. use `client_account_balance` instead of `total`*\n",
    "\n",
    "- variable names are case sensitive\n",
    "\n",
    "`input()`: built-in function that wait for user input and allow for storing it in variable\n",
    "\n",
    "> *Input function always returns a string!*"
   ]
  },
  {
   "cell_type": "markdown",
   "metadata": {},
   "source": [
    "---\n",
    "## **Task 1**\n",
    "\n",
    "Write a simple script that asks user for the name and year of birth and print greeting and calculated age in one sentence.\n",
    "\n",
    "---"
   ]
  },
  {
   "cell_type": "code",
   "execution_count": 3,
   "metadata": {},
   "outputs": [
    {
     "name": "stdin",
     "output_type": "stream",
     "text": [
      "Your name: Python\n",
      "Year you were born: 1991\n"
     ]
    },
    {
     "name": "stdout",
     "output_type": "stream",
     "text": [
      "\n",
      "Hello, Python. Your age is 29.\n"
     ]
    }
   ],
   "source": [
    "name = input('Your name:')\n",
    "year_of_birth = input('Year you were born:')\n",
    "\n",
    "age = 2020 - int(year_of_birth)\n",
    "\n",
    "print('\\nHello, ' + name + '. Your age is ' + str(age) + '.')"
   ]
  },
  {
   "cell_type": "markdown",
   "metadata": {},
   "source": [
    "---\n",
    "## **Quiz 2**\n",
    "```\n",
    "x = 5\n",
    "x = str(x)\n",
    "x = int(3 * x)\n",
    "x = str(x - 5) + '0'\n",
    "x = int(x)\n",
    "\n",
    "print(x)\n",
    "```\n",
    "Output value and type?\n",
    "\n",
    "---"
   ]
  },
  {
   "cell_type": "markdown",
   "metadata": {},
   "source": [
    "---\n",
    "## **Task 2**\n",
    "\n",
    "Write a simple script that asks user for speed in km/h and converts into mph.\n",
    "\n",
    "> 1 kilometer per hour = 0.621371192 miles per hour\n",
    "\n",
    "---"
   ]
  },
  {
   "cell_type": "code",
   "execution_count": 4,
   "metadata": {},
   "outputs": [
    {
     "name": "stdin",
     "output_type": "stream",
     "text": [
      "Speed in km/h: 100\n"
     ]
    },
    {
     "name": "stdout",
     "output_type": "stream",
     "text": [
      "100km/h = 62.1371192mph\n"
     ]
    }
   ],
   "source": [
    "speed_kmh = input('Speed in km/h:')\n",
    "\n",
    "kmh_to_mph = 0.621371192\n",
    "\n",
    "speed_mph = float(speed_kmh) * kmh_to_mph\n",
    "\n",
    "print(speed_kmh + 'km/h = ' + str(speed_mph) + 'mph')"
   ]
  },
  {
   "cell_type": "markdown",
   "metadata": {},
   "source": [
    "## Augmented assignments operators\n",
    "\n",
    "| Regular syntax | Short syntax | \n",
    "|:-|:-|\n",
    "| `x = x + 1` | `x += 1` |\n",
    "| `x = x - 1` | `x -= 1` |\n",
    "| `x = x * 2` | `x *= 2` |\n",
    "| `x = x / 2` | `x /= 2` |\n",
    "\n",
    "> In some applications these two operators are not interexchanable\n",
    "\n",
    "More advanced stuff:\n",
    "```\n",
    "x = [1, 2, 3]\n",
    "print(id(x))\n",
    "x = x + [4] # new object is returned\n",
    "print(id(x))\n",
    "```\n",
    "```\n",
    "x = [1, 2, 3]\n",
    "print(id(x))\n",
    "x += [4] # original object is mutated\n",
    "print(id(x))\n",
    "```"
   ]
  }
 ],
 "metadata": {
  "kernelspec": {
   "display_name": "Python 3",
   "language": "python",
   "name": "python3"
  },
  "language_info": {
   "codemirror_mode": {
    "name": "ipython",
    "version": 3
   },
   "file_extension": ".py",
   "mimetype": "text/x-python",
   "name": "python",
   "nbconvert_exporter": "python",
   "pygments_lexer": "ipython3",
   "version": "3.8.3"
  }
 },
 "nbformat": 4,
 "nbformat_minor": 4
}

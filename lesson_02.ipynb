{
 "cells": [
  {
   "cell_type": "markdown",
   "metadata": {},
   "source": [
    "# Flow control"
   ]
  },
  {
   "cell_type": "markdown",
   "metadata": {},
   "source": [
    "<img src=\"https://i.pinimg.com/originals/bb/d5/ca/bbd5caea7aad7f984db9d62e7b18613f.png\" alt=\"flowchart example\" style=\"width: 500px;\"/>\n",
    "\n",
    "- flow control allows to perform different instructions (or skip or repeat) based on some condition\n",
    "- flowcharts represents program logic with each branching points corresponding to different condition\n",
    "- [documentation](https://docs.python.org/3/tutorial/controlflow.html) on flow control in Python"
   ]
  },
  {
   "cell_type": "markdown",
   "metadata": {},
   "source": [
    "## Example\n",
    "Remember about two syntactic things:\n",
    "- semicolon `:` after if or else line\n",
    "- indentation for blocks\n",
    "\n",
    "```python\n",
    "if condition:\n",
    "    statements\n",
    "else:\n",
    "    statements\n",
    "````"
   ]
  },
  {
   "cell_type": "code",
   "execution_count": 7,
   "metadata": {},
   "outputs": [
    {
     "name": "stdin",
     "output_type": "stream",
     "text": [
      "Do you want to do this? yes\n",
      "Will it likely end in disaster? ye\n"
     ]
    },
    {
     "name": "stdout",
     "output_type": "stream",
     "text": [
      "Do it\n"
     ]
    }
   ],
   "source": [
    "answer = input(\"Do you want to do this?\")\n",
    "if answer == \"no\":\n",
    "    print(\"Don't do it.\")\n",
    "else:\n",
    "    answer = input(\"Will it likely end in disaster?\") # note variable is reassigned\n",
    "    if answer == \"yes\":\n",
    "        answer = input(\"Will it make a good story anyway?\")\n",
    "        if answer == \"yes\":\n",
    "            print(\"Do it\")\n",
    "        else:\n",
    "            print(\"Don't do it\")\n",
    "    else:\n",
    "        print(\"Do it\")  "
   ]
  },
  {
   "cell_type": "markdown",
   "metadata": {},
   "source": [
    "---\n",
    "\n",
    "## **Task 2.1**\n",
    "\n",
    "Create a program implementing flowchart:\n",
    "\n",
    "<img src=\"https://upload.wikimedia.org/wikipedia/commons/thumb/9/91/LampFlowchart.svg/220px-LampFlowchart.svg.png\" alt=\"flowchart example\" style=\"width: 200px; background-color: white;\"/>\n",
    "\n",
    "---"
   ]
  },
  {
   "cell_type": "markdown",
   "metadata": {},
   "source": [
    "## Boolean values\n",
    "\n",
    "- statement `answer == \"no\"` produced a **boolean value**, i.e. value telling if something is true or false\n",
    "- two values: `True` and `False`\n",
    "- boolean is a separate variable type in Python (`type(True)`)\n",
    "- enter without quotes\n",
    "\n",
    "Comparison operators:\n",
    "\n",
    "| Operation | Meaning |\n",
    "|:-|:-|\n",
    "| `==` | equal to |\n",
    "| `!=` | not equal to |\n",
    "| `<` | less than |\n",
    "| `>` | greater than |\n",
    "| `<=` | less than or equal to |\n",
    "| `>=` | greater than or equal to |\n",
    "\n",
    "> Comparison operators allow to construct different conditions (branching points)\n",
    "\n",
    "Examples:\n",
    "\n",
    "`5 == 5`\n",
    "\n",
    "`2 != 0`\n",
    "\n",
    "Works with other data types as well:\n",
    "\n",
    "`'python' == 'python'`\n",
    "\n",
    "`'Python' == 'python'`\n",
    "\n",
    "`19.0 == 19`\n",
    "\n",
    "`'10' == 10`\n",
    "\n",
    "`True == 1`\n",
    "\n",
    "Binary boolean operators:\n",
    "- `not`, `and`, `or` for boolean logic\n",
    "\n",
    "> Boolean logic works as expected from logic classes!\n",
    "\n",
    "Examples:\n",
    "\n",
    "`True and True`\n",
    "\n",
    "`True and False`\n",
    "\n",
    "`True or False`\n",
    "\n",
    "`False or False`\n",
    "\n",
    "`not True`\n",
    "\n",
    "- boolean and comparison operators can be mixed to create more complex conditions\n",
    "\n",
    "```python\n",
    "age = 21\n",
    "if (age > 18) and (age < 30):\n",
    "    ...\n",
    "```\n",
    "\n",
    "This boils down to:\n",
    "\n",
    "`(21 > 18) and (21 < 30)`\n",
    "\n",
    "`True and (21 < 30)`\n",
    "\n",
    "`True and True`\n",
    "\n",
    "`True`"
   ]
  },
  {
   "cell_type": "markdown",
   "metadata": {},
   "source": [
    "---\n",
    "## **Quiz 2.1**\n",
    "\n",
    "`(5 > 3) and (3 >= 3) or len('abc') != 3 and False`\n",
    "\n",
    "Recall [operator precedence & associativity rules](https://www.programiz.com/python-programming/precedence-associativity)\n",
    "\n",
    "---"
   ]
  },
  {
   "cell_type": "markdown",
   "metadata": {},
   "source": [
    "---\n",
    "## **Task 2.2**\n",
    "\n",
    "Ask user about his name and age. Print single decision if user age is greater than 20 and user name has at most 5 characters.\n",
    "\n",
    "---"
   ]
  },
  {
   "cell_type": "code",
   "execution_count": null,
   "metadata": {},
   "outputs": [],
   "source": [
    "age = input('Your age:')\n",
    "name = input('Your name:')\n",
    "\n",
    "print((int(age) > 20) and (len(name) <= 5))"
   ]
  },
  {
   "cell_type": "markdown",
   "metadata": {},
   "source": [
    "## Conditions\n",
    "\n",
    "- conditions allow to execute different portions of code depending on boolean value of some expression \n",
    "- portions of code can be grouped together as blocks\n",
    "- in most programming languages blocks of code have to be wrapped in parenthesis\n",
    "\n",
    "**C#**\n",
    "```\n",
    "if (2 > 1)\n",
    "{\n",
    "    Console.WriteLine(\"2 is greater than 1\");\n",
    "}\n",
    "```\n",
    "\n",
    "**Python**\n",
    "```\n",
    "if 2 > 1:\n",
    "    print('2 is greater than 1')\n",
    "```\n",
    "\n",
    "<img src=\"https://media.makeameme.org/created/a-python-developer.jpg\" alt=\"measuring indentation in Python\" style=\"width: 400px\">\n",
    "\n",
    "- three rules for blocks:\n",
    "    1. Block begins when indentation increases.\n",
    "    2. Block can contain other blocks.\n",
    "    3. Block ends when indentation decreses to zero or to a containing block's indentation.\n",
    "    \n",
    "1 space indentation (not so good)\n",
    "```\n",
    "if True:\n",
    " if True:\n",
    "  if True:\n",
    "   print('hey')\n",
    "```\n",
    "\n",
    "4 space indentation (good)\n",
    "```\n",
    "if True:\n",
    "    if True:\n",
    "        if True:\n",
    "            print('hey')\n",
    "```\n",
    "\n",
    "weird mixed indentation (very bad)\n",
    "```\n",
    "if True:\n",
    "  if True:\n",
    "            if True:\n",
    "                print('hey')\n",
    "```\n",
    "\n",
    "> *Be consistent with the indentation. Use 4 spaces preferably and avoid tabs.*\n",
    "\n",
    "## If else syntax\n",
    "\n",
    "```python\n",
    "if condition_1:\n",
    "    <instructions>\n",
    "elif condition_2:\n",
    "    <instructions>\n",
    "else:\n",
    "    <instructions>\n",
    "```\n",
    "\n",
    "- how it works?\n",
    "- `elif` and `else` statements are optional\n",
    "- remember about colon `:` after each condition\n",
    "- you can put as many elif statements as you need"
   ]
  },
  {
   "cell_type": "markdown",
   "metadata": {},
   "source": [
    "---\n",
    "## **Quiz 2.2**\n",
    "\n",
    "```python\n",
    "x = 4\n",
    "\n",
    "if x == 0:\n",
    "    print(\"a\")\n",
    "elif x < 4:\n",
    "    print(\"b\")\n",
    "elif x % 2 == 1:\n",
    "    print(\"c\")\n",
    "elif x // 2 == 2:\n",
    "    print(\"d\")\n",
    "else:\n",
    "    print(\"e\")\n",
    "```\n",
    "---"
   ]
  },
  {
   "cell_type": "markdown",
   "metadata": {},
   "source": [
    "## Live coding\n",
    "\n",
    "Program that checks for login and password of a user and prints proper message. There are two users: `alice` and `bob` with corresponding passwords `test123`, `tOd:x^`.\n"
   ]
  },
  {
   "cell_type": "code",
   "execution_count": null,
   "metadata": {},
   "outputs": [],
   "source": [
    "login = input('Login:')\n",
    "password = input('Password')\n",
    "    \n",
    "if login == 'alice' and password == 'test123':\n",
    "    print('Hello, alice!')\n",
    "elif login == 'bob' and password == 't0d:x^':\n",
    "    print('Hello, bob!')\n",
    "else:\n",
    "    print('Incorrect login or password...')"
   ]
  }
 ],
 "metadata": {
  "kernelspec": {
   "display_name": "Python 3",
   "language": "python",
   "name": "python3"
  },
  "language_info": {
   "codemirror_mode": {
    "name": "ipython",
    "version": 3
   },
   "file_extension": ".py",
   "mimetype": "text/x-python",
   "name": "python",
   "nbconvert_exporter": "python",
   "pygments_lexer": "ipython3",
   "version": "3.8.3"
  }
 },
 "nbformat": 4,
 "nbformat_minor": 4
}

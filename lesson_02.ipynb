{
 "cells": [
  {
   "cell_type": "markdown",
   "metadata": {},
   "source": [
    "# Flow control"
   ]
  },
  {
   "cell_type": "markdown",
   "metadata": {},
   "source": [
    "<img src=\"https://i.pinimg.com/originals/30/a1/2a/30a12a836d1e3b0b3e6d8e831f2e05cc.jpg\" alt=\"flowchart example\" style=\"width: 800px;\"/>\n",
    "\n",
    "- flow control allows to perform different instructions (or skip or repeat) based on some condition\n",
    "- flowcharts represents program logic with each branching points corresponding to different condition\n",
    "- [documentation](https://docs.python.org/3/tutorial/controlflow.html) on flow control in Python"
   ]
  },
  {
   "cell_type": "markdown",
   "metadata": {},
   "source": [
    "## Boolean values\n",
    "\n",
    "- two values: `True` and `False`\n",
    "- enter without quotes\n",
    "\n",
    "Comparison operators:\n",
    "\n",
    "| Operation | Meaning |\n",
    "|:-|:-|\n",
    "| `==` | equal to |\n",
    "| `!=` | not equal to |\n",
    "| `<` | less than |\n",
    "| `>` | greater than |\n",
    "| `<=` | less than or equal to |\n",
    "| `>=` | greater than or equal to |\n",
    "\n",
    "Examples:\n",
    "\n",
    "`5 == 5`\n",
    "\n",
    "`2 != 0`\n",
    "\n",
    "Works with other data types as well:\n",
    "\n",
    "`'python' == 'python'`\n",
    "\n",
    "`'Python' == 'python'`\n",
    "\n",
    "`19.0 == 19`\n",
    "\n",
    "`'10' == 10`\n",
    "\n",
    "`True == 1`\n",
    "\n",
    "Binary boolean operators:\n",
    "- `not`, `and`, `or` for boolean logic\n",
    "\n",
    "Examples:\n",
    "\n",
    "`True and True`\n",
    "\n",
    "`True and False`\n",
    "\n",
    "`True or False`\n",
    "\n",
    "`False or False`\n",
    "\n",
    "`not True`\n",
    "\n",
    "- boolean and comparison operators can be mixed to create more complex conditions\n",
    "\n",
    "`(2 > 1) or (1 > 2)`\n",
    "\n",
    "This boils down to:\n",
    "\n",
    "`True or (1 > 2)`\n",
    "\n",
    "`True or False`\n",
    "\n",
    "`True`"
   ]
  },
  {
   "cell_type": "markdown",
   "metadata": {},
   "source": [
    "---\n",
    "## **Quiz 1**\n",
    "\n",
    "`(5 > 3) and (3 >= 3) or len('abc') != 3 and False`\n",
    "\n",
    "Recall [operator precedence & associativity rules](https://www.programiz.com/python-programming/precedence-associativity)\n",
    "\n",
    "---"
   ]
  },
  {
   "cell_type": "markdown",
   "metadata": {},
   "source": [
    "---\n",
    "## **Task 1**\n",
    "\n",
    "Print decision if user age is greater than 20 and user name has at most 5 characters.\n",
    "\n",
    "---"
   ]
  },
  {
   "cell_type": "code",
   "execution_count": null,
   "metadata": {},
   "outputs": [],
   "source": [
    "age = input('Your age:')\n",
    "name = input('Your name:')\n",
    "\n",
    "print((int(age) > 20) and (len(name) <= 5))"
   ]
  },
  {
   "cell_type": "markdown",
   "metadata": {},
   "source": [
    "## Conditions\n",
    "\n",
    "- conditions allow to execute different portions of code depending on boolean value of some expression \n",
    "- portions of code can be grouped together as blocks\n",
    "- in most programming languages blocks of code have to be wrapped in parenthesis\n",
    "\n",
    "**C#**\n",
    "```\n",
    "if (2 > 1)\n",
    "{\n",
    "    Console.WriteLine(\"2 is greater than 1\");\n",
    "}\n",
    "```\n",
    "\n",
    "**Python**\n",
    "```\n",
    "if 2 > 1:\n",
    "    print('2 is greater than 1')\n",
    "```\n",
    "\n",
    "<img src=\"https://media.makeameme.org/created/a-python-developer.jpg\" alt=\"measuring indentation in Python\" style=\"width: 400px\">\n",
    "\n",
    "- three rules for blocks:\n",
    "    1. Block begins when indentation increases.\n",
    "    2. Block can contain other blocks.\n",
    "    3. Block ends when indentation decreses to zero or to a containing block's indentation.\n",
    "    \n",
    "1 space indentation (not so good)\n",
    "```\n",
    "if True:\n",
    " if True:\n",
    "  if True:\n",
    "   print('hey')\n",
    "```\n",
    "\n",
    "4 space indentation (good)\n",
    "```\n",
    "if True:\n",
    "    if True:\n",
    "        if True:\n",
    "            print('hey')\n",
    "```\n",
    "\n",
    "weird mixed indentation (very bad)\n",
    "```\n",
    "if True:\n",
    "  if True:\n",
    "            if True:\n",
    "                print('hey')\n",
    "```\n",
    "\n",
    "> *Be consistent with the indentation. Use 4 spaces preferably and avoid tabs.*\n",
    "\n",
    "## If else syntax\n",
    "\n",
    "```\n",
    "if condition_1:\n",
    "    <instructions>\n",
    "elif condition_2:\n",
    "    <instructions>\n",
    "else:\n",
    "    <instructions>\n",
    "```\n",
    "\n",
    "- how it works?\n",
    "- `elif` and `else` statements are optional\n",
    "- remember about colon `:` after each condition\n",
    "- you can put as many elif statements as you need"
   ]
  },
  {
   "cell_type": "markdown",
   "metadata": {},
   "source": [
    "---\n",
    "## **Quiz 2**\n",
    "\n",
    "```\n",
    "x = 4\n",
    "\n",
    "if x < 0:\n",
    "    print('a')\n",
    "elif x < 2:\n",
    "    print('b')\n",
    "elif x < 4:\n",
    "    print('c')\n",
    "elif x < 6:\n",
    "    print('d')\n",
    "else:\n",
    "    print('e')\n",
    "```\n",
    "---"
   ]
  },
  {
   "cell_type": "markdown",
   "metadata": {},
   "source": [
    "## Live coding\n",
    "\n",
    "Program that checks for login and password of a user and prints proper message. There are two users: `alice` and `bob` with corresponding passwords `test123`, `tOd:x^`.\n"
   ]
  },
  {
   "cell_type": "code",
   "execution_count": null,
   "metadata": {},
   "outputs": [],
   "source": [
    "login = input('Login:')\n",
    "password = input('Password')\n",
    "    \n",
    "if login == 'alice' and password == 'test123':\n",
    "    print('Hello, alice!')\n",
    "elif login == 'bob' and password == 't0d:x^':\n",
    "    print('Hello, bob!')\n",
    "else:\n",
    "    print('Incorrect login or password...')"
   ]
  },
  {
   "cell_type": "markdown",
   "metadata": {},
   "source": [
    "---\n",
    "## **Task 2**\n",
    "\n",
    "Write a program that calculates the distance of thrown ball. Program should ask user for:\n",
    "- initial velocity (in m/s)\n",
    "- initial angle (in degrees)\n",
    "- if there is an initial height\n",
    "\n",
    "Program should validate user input checking if:\n",
    "- initial velocity is a number > 0\n",
    "- initial anlge is a number > 0 and < 90\n",
    "- initial height is a number > 0 (if it is used)\n",
    "\n",
    "Wikipedia article about [projectile motion](https://en.wikipedia.org/wiki/Projectile_motion).\n",
    "\n",
    "Equation for total distance:\n",
    "$$d = \\frac{v\\cos{\\theta}}{g}\\left( v\\sin{\\theta}+\\sqrt{\\left( v\\sin{\\theta}\\right)^2 + 2gy_0}\\right)$$\n",
    "\n",
    "You may need:\n",
    "\n",
    "- program exit: `from sys import exit`\n",
    "\n",
    "- trigonometric functions: `from math import sqrt, sin, cos`\n",
    "\n",
    "- limiting number to two decimal points: `{:.2f}'.format(my_number)`\n",
    "\n",
    "---"
   ]
  },
  {
   "cell_type": "code",
   "execution_count": 4,
   "metadata": {},
   "outputs": [
    {
     "name": "stdin",
     "output_type": "stream",
     "text": [
      "Initial velocity (in m/s): 5\n",
      "Initial angle (in degrees): 45\n",
      "Is there initial height (y / n): y\n",
      "Initial height (in m): 5\n"
     ]
    },
    {
     "name": "stdout",
     "output_type": "stream",
     "text": [
      "\n",
      "Final distance: 5.06m\n"
     ]
    }
   ],
   "source": [
    "from sys import exit\n",
    "from math import sqrt, sin, cos, pi\n",
    "\n",
    "# Get initial velocity\n",
    "v = input('Initial velocity (in m/s):')\n",
    "v = float(v)\n",
    "\n",
    "if v <= 0:\n",
    "    print('initial velocity should be positive')\n",
    "    exit('quitting...')\n",
    "\n",
    "# Get initial angle\n",
    "theta = input('Initial angle (in degrees):')\n",
    "theta = float(theta)\n",
    "\n",
    "if theta <= 0 or theta >= 90:\n",
    "    print('initial angle should be between 0 and 90')\n",
    "    exit('quitting...')\n",
    "    \n",
    "# Ask for initial height\n",
    "y0_specified = input('Is there initial height (y / n):')\n",
    "if y0_specified == 'y':\n",
    "    y0 = input('Initial height (in m):')\n",
    "    y0 = float(y0)\n",
    "    \n",
    "    if y0 <= 0:\n",
    "        print('initial height should be positive')\n",
    "        exit('quitting...')\n",
    "\n",
    "else:\n",
    "    y0 = 0\n",
    "\n",
    "g = 9.81\n",
    "\n",
    "theta = theta / 180 * pi\n",
    "d = v * cos(theta) / g * (v * sin(theta) + sqrt((v * sin(theta)) ** 2 + 2 * g * y0))\n",
    "\n",
    "print('\\nFinal distance: ' + '{:.2f}'.format(d) + 'm')"
   ]
  },
  {
   "cell_type": "markdown",
   "metadata": {},
   "source": [
    "## While loop statement\n",
    "\n",
    "- while statement allows to execute code over and over until certain condition is true\n",
    "- all variables defined inside `while` loop (and `if` condition block) are globally scoped\n",
    "\n",
    "### While loop syntax\n",
    "\n",
    "```\n",
    "while condition:\n",
    "    <instructions>\n",
    "```\n",
    "\n",
    "Example: print hello world 5 times using while loop"
   ]
  },
  {
   "cell_type": "markdown",
   "metadata": {},
   "source": [
    "```\n",
    "while condition:\n",
    "    <instructions>\n",
    "    if some_condition_1:\n",
    "        break\n",
    "    if some_condition_2:\n",
    "        continue\n",
    "else:\n",
    "    <instructions>\n",
    "```\n",
    "- `break` statement exits the loop immediately\n",
    "- `continue` statement jumps to next iteration immediately\n",
    "- `else` block is executed only if `break` was **not executed** \n",
    "\n",
    "Examples with break else and continue:"
   ]
  },
  {
   "cell_type": "code",
   "execution_count": 21,
   "metadata": {},
   "outputs": [
    {
     "name": "stdout",
     "output_type": "stream",
     "text": [
      "1\n",
      "2\n",
      "3\n",
      "4\n",
      "5\n"
     ]
    }
   ],
   "source": [
    "# basic example\n",
    "reps = 5\n",
    "i = 1\n",
    "\n",
    "while i <= reps:\n",
    "    print(i)\n",
    "    i += 1"
   ]
  },
  {
   "cell_type": "code",
   "execution_count": 22,
   "metadata": {},
   "outputs": [
    {
     "name": "stdout",
     "output_type": "stream",
     "text": [
      "1\n",
      "2\n"
     ]
    }
   ],
   "source": [
    "# break example\n",
    "reps = 5\n",
    "i = 1\n",
    "\n",
    "while i <= reps:\n",
    "    if i == 3:\n",
    "        break    \n",
    "    print(i)\n",
    "    i += 1"
   ]
  },
  {
   "cell_type": "code",
   "execution_count": 23,
   "metadata": {},
   "outputs": [
    {
     "name": "stdout",
     "output_type": "stream",
     "text": [
      "2\n",
      "4\n",
      "5\n",
      "6\n"
     ]
    }
   ],
   "source": [
    "# continue example\n",
    "reps = 5\n",
    "i = 1\n",
    "\n",
    "while i <= n_reps:\n",
    "    i += 1\n",
    "    if i == 3:\n",
    "        continue    \n",
    "    print(i)"
   ]
  },
  {
   "cell_type": "code",
   "execution_count": 18,
   "metadata": {},
   "outputs": [
    {
     "name": "stdout",
     "output_type": "stream",
     "text": [
      "1\n",
      "2\n",
      "3\n",
      "loop has ended\n"
     ]
    }
   ],
   "source": [
    "# else example without break\n",
    "reps = 3\n",
    "i = 1\n",
    "\n",
    "while i <= reps:\n",
    "    print(i)\n",
    "    i += 1\n",
    "else:\n",
    "    print('loop has ended')"
   ]
  },
  {
   "cell_type": "code",
   "execution_count": 24,
   "metadata": {},
   "outputs": [
    {
     "name": "stdout",
     "output_type": "stream",
     "text": [
      "1\n",
      "2\n"
     ]
    }
   ],
   "source": [
    "# else example with break\n",
    "reps = 5\n",
    "i = 1\n",
    "\n",
    "while i <= n_reps:\n",
    "    if i == 3:\n",
    "        break\n",
    "    print(i)\n",
    "    i += 1\n",
    "else:\n",
    "    print('loop has ended')"
   ]
  },
  {
   "cell_type": "markdown",
   "metadata": {},
   "source": [
    "---\n",
    "## **Quiz 3**\n",
    "\n",
    "```\n",
    "n = 0\n",
    "i = 5\n",
    "while i > n:\n",
    "    i -= 1\n",
    "    if i % 2 == 0:\n",
    "        continue\n",
    "    print(i)\n",
    "else:\n",
    "    print(i)\n",
    "```\n",
    "---"
   ]
  },
  {
   "cell_type": "markdown",
   "metadata": {},
   "source": [
    "---\n",
    "## **Task 3**\n",
    "\n",
    "Write a program using while loop that ask user for password exactly three times. If the password is correct display hello message, otherwise display account blocked message. On each incorrect password give appropriate message with remaining number of attempts. Password is `test123`.\n",
    "\n",
    "---"
   ]
  },
  {
   "cell_type": "code",
   "execution_count": null,
   "metadata": {},
   "outputs": [],
   "source": [
    "attempts = 3\n",
    "\n",
    "while attempts > 0:\n",
    "\n",
    "    attempts -= 1\n",
    "    password = input('Password')\n",
    "    \n",
    "    if password != 'test123':\n",
    "        print('Incorrect password. Remaining attempts: ' + str(attempts))\n",
    "    else:\n",
    "        print('\\nHello! You are logged in.')\n",
    "        break\n",
    "\n",
    "else: \n",
    "    print('\\nAccount blocked')"
   ]
  },
  {
   "cell_type": "markdown",
   "metadata": {},
   "source": [
    "---\n",
    "## **Task 4**\n",
    "\n",
    "Write a program which brute force guess user selected password. Password should be three characters long and may contain lowercase ascii characters, numbers and uppercase ascii characters. Program should terminate after 1 million incorrect password guesses. If the password is found program should output the password and number of attempts required to correctly guess the password. \n",
    "\n",
    "You may need:\n",
    "- strings with ascii characters and digits: `from string import ascii_lowercase, ascii_uppercase, digits`\n",
    "- function choosing random character from the string: `from random import choice`\n",
    "\n",
    "> *Play around with different character sets and see how it impacts number of guesses required to find correct password*\n",
    "\n",
    "> Does the number of guesses depend on the password complexity or character set lenght?\n",
    "\n",
    "> In Python you can delimit your numbers with underscore `_`, it will be ignored by interpreter.\n",
    "---"
   ]
  },
  {
   "cell_type": "code",
   "execution_count": null,
   "metadata": {},
   "outputs": [],
   "source": [
    "from string import ascii_lowercase, ascii_uppercase, digits\n",
    "from random import choice\n",
    "\n",
    "max_attempts = 1_000_000\n",
    "attempt = 1\n",
    "\n",
    "characters = ascii_lowercase + ascii_uppercase + digits\n",
    "\n",
    "password = input('Password (must be 3 characters long)')\n",
    "\n",
    "while attempt <= max_attempts:\n",
    "\n",
    "    password_guess = choice(characters) + choice(characters) + choice(characters)\n",
    "\n",
    "    if password_guess == password:\n",
    "        print('Password ' + password_guess + ' found after ' + str(attempt) + ' attempts.')\n",
    "        break\n",
    "\n",
    "    attempt += 1\n",
    "\n",
    "else:\n",
    "    print('Maximum number of attempts reached, password not found')"
   ]
  }
 ],
 "metadata": {
  "kernelspec": {
   "display_name": "Python 3",
   "language": "python",
   "name": "python3"
  },
  "language_info": {
   "codemirror_mode": {
    "name": "ipython",
    "version": 3
   },
   "file_extension": ".py",
   "mimetype": "text/x-python",
   "name": "python",
   "nbconvert_exporter": "python",
   "pygments_lexer": "ipython3",
   "version": "3.8.3"
  }
 },
 "nbformat": 4,
 "nbformat_minor": 4
}
